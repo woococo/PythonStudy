{
 "cells": [
  {
   "cell_type": "code",
   "execution_count": 1,
   "id": "71107bd5",
   "metadata": {
    "scrolled": true
   },
   "outputs": [
    {
     "data": {
      "text/plain": [
       "3"
      ]
     },
     "execution_count": 1,
     "metadata": {},
     "output_type": "execute_result"
    }
   ],
   "source": [
    "# 주의사항1\n",
    "# 연산자를 띄어 쓰는 것은 상관 없음\n",
    "1+2"
   ]
  },
  {
   "cell_type": "code",
   "execution_count": 2,
   "id": "c00da718",
   "metadata": {},
   "outputs": [
    {
     "data": {
      "text/plain": [
       "3"
      ]
     },
     "execution_count": 2,
     "metadata": {},
     "output_type": "execute_result"
    }
   ],
   "source": [
    "1 + 2"
   ]
  },
  {
   "cell_type": "code",
   "execution_count": 3,
   "id": "62338c5c",
   "metadata": {
    "scrolled": true
   },
   "outputs": [
    {
     "data": {
      "text/plain": [
       "3"
      ]
     },
     "execution_count": 3,
     "metadata": {},
     "output_type": "execute_result"
    }
   ],
   "source": [
    "# 주의사항2\n",
    "# 첫 칸을 비우면 안 됨\n",
    "1 + 2"
   ]
  },
  {
   "cell_type": "code",
   "execution_count": 9,
   "id": "eeb14112",
   "metadata": {},
   "outputs": [
    {
     "ename": "IndentationError",
     "evalue": "unexpected indent (1488900331.py, line 2)",
     "output_type": "error",
     "traceback": [
      "\u001b[1;36m  Input \u001b[1;32mIn [9]\u001b[1;36m\u001b[0m\n\u001b[1;33m    1+2 # 정상적으로 출력되네..?\u001b[0m\n\u001b[1;37m    ^\u001b[0m\n\u001b[1;31mIndentationError\u001b[0m\u001b[1;31m:\u001b[0m unexpected indent\n"
     ]
    }
   ],
   "source": [
    "1 + 2\n",
    "      1+2 # 앞에 비우면 오류 발생"
   ]
  },
  {
   "cell_type": "code",
   "execution_count": 3,
   "id": "e7ee1f7f",
   "metadata": {},
   "outputs": [
    {
     "name": "stdout",
     "output_type": "stream",
     "text": [
      "스위치 on\n"
     ]
    }
   ],
   "source": [
    "# 주의사항3\n",
    "sw = 1 # sw의 이름을 가진 변수에 1을 대입\n",
    "if sw == 1: # sw가 1이라면\n",
    "    print(\"스위치 on\") # 스위치on을 출력\n",
    "else : # 아니라면\n",
    "    print(\"스위치 off\") # 스위치 off을 출력"
   ]
  },
  {
   "cell_type": "code",
   "execution_count": 11,
   "id": "c41fcdac",
   "metadata": {},
   "outputs": [
    {
     "name": "stdout",
     "output_type": "stream",
     "text": [
      "3\n",
      "7\n",
      "12\n"
     ]
    }
   ],
   "source": [
    "# 주의사항4\n",
    "# 여러 명령어를 사용할 때는 세미콜론(;)을 사용\n",
    "print(1 + 2); print(3+4); print(5+ 7)"
   ]
  },
  {
   "cell_type": "code",
   "execution_count": 2,
   "id": "30866e64",
   "metadata": {
    "scrolled": false
   },
   "outputs": [
    {
     "name": "stdout",
     "output_type": "stream",
     "text": [
      "3\n"
     ]
    }
   ],
   "source": [
    "# 주의사항5\n",
    "# 대문자와 소문자를 구분하여 사용해야 함\n",
    "print(1+2) # 1+2 값을 출력"
   ]
  },
  {
   "cell_type": "code",
   "execution_count": 3,
   "id": "c397fbb3",
   "metadata": {},
   "outputs": [
    {
     "ename": "NameError",
     "evalue": "name 'Print' is not defined",
     "output_type": "error",
     "traceback": [
      "\u001b[1;31m---------------------------------------------------------------------------\u001b[0m",
      "\u001b[1;31mNameError\u001b[0m                                 Traceback (most recent call last)",
      "Input \u001b[1;32mIn [3]\u001b[0m, in \u001b[0;36m<cell line: 1>\u001b[1;34m()\u001b[0m\n\u001b[1;32m----> 1\u001b[0m \u001b[43mPrint\u001b[49m(\u001b[38;5;241m1\u001b[39m\u001b[38;5;241m+\u001b[39m\u001b[38;5;241m2\u001b[39m)\n",
      "\u001b[1;31mNameError\u001b[0m: name 'Print' is not defined"
     ]
    }
   ],
   "source": [
    "Print(1+2) # \"p\"가 대문자이기 때문에 오류 발생"
   ]
  },
  {
   "cell_type": "code",
   "execution_count": 4,
   "id": "f7e7b67f",
   "metadata": {},
   "outputs": [
    {
     "ename": "NameError",
     "evalue": "name 'PRINT' is not defined",
     "output_type": "error",
     "traceback": [
      "\u001b[1;31m---------------------------------------------------------------------------\u001b[0m",
      "\u001b[1;31mNameError\u001b[0m                                 Traceback (most recent call last)",
      "Input \u001b[1;32mIn [4]\u001b[0m, in \u001b[0;36m<cell line: 1>\u001b[1;34m()\u001b[0m\n\u001b[1;32m----> 1\u001b[0m \u001b[43mPRINT\u001b[49m(\u001b[38;5;241m1\u001b[39m\u001b[38;5;241m+\u001b[39m\u001b[38;5;241m2\u001b[39m)\n",
      "\u001b[1;31mNameError\u001b[0m: name 'PRINT' is not defined"
     ]
    }
   ],
   "source": [
    "PRINT(1+2) # print가 대문자로 되어있어 오류 발생"
   ]
  },
  {
   "cell_type": "code",
   "execution_count": 5,
   "id": "1469755e",
   "metadata": {
    "scrolled": true
   },
   "outputs": [],
   "source": [
    "# 출력1\n",
    "# print 명령이 출력에 기본 명령이고 다음과 같은 형식으로 사용함\n",
    "# print(출력내용 [, sep = 구분문자][, end = 마지막 문자])"
   ]
  },
  {
   "cell_type": "code",
   "execution_count": 9,
   "id": "d801b855",
   "metadata": {},
   "outputs": [
    {
     "data": {
      "text/plain": [
       "3"
      ]
     },
     "execution_count": 9,
     "metadata": {},
     "output_type": "execute_result"
    }
   ],
   "source": [
    "# 출력2\n",
    "# 대화형에서는 print 문장이 없어도 출력\n",
    "abc = 1\n",
    "1+2"
   ]
  },
  {
   "cell_type": "code",
   "execution_count": 11,
   "id": "37cfe7d9",
   "metadata": {},
   "outputs": [
    {
     "data": {
      "text/plain": [
       "1"
      ]
     },
     "execution_count": 11,
     "metadata": {},
     "output_type": "execute_result"
    }
   ],
   "source": [
    "abc # 대화형"
   ]
  },
  {
   "cell_type": "code",
   "execution_count": 12,
   "id": "7b1807e7",
   "metadata": {},
   "outputs": [
    {
     "name": "stdout",
     "output_type": "stream",
     "text": [
      "1\n",
      "3\n"
     ]
    }
   ],
   "source": [
    "print(abc)\n",
    "print(1+2)"
   ]
  },
  {
   "cell_type": "code",
   "execution_count": 8,
   "id": "25092dae",
   "metadata": {},
   "outputs": [
    {
     "name": "stdout",
     "output_type": "stream",
     "text": [
      "2\n",
      "3\n"
     ]
    }
   ],
   "source": [
    "# 출력3\n",
    "# 스크립트 형식에서 다음 예제에 print 문장이 없이 출력되지 않음\n",
    "a = 1\n",
    "b = 1\n",
    "a + b\n",
    "print (a + b)\n",
    "1 + 2\n",
    "print (1 + 2)"
   ]
  },
  {
   "cell_type": "code",
   "execution_count": 17,
   "id": "0b3c80d2",
   "metadata": {},
   "outputs": [
    {
     "name": "stdout",
     "output_type": "stream",
     "text": [
      "아침 점심 저녁\n",
      "아침먹고 점심먹고 저녁\n",
      "아침먹고 점심먹고 저녁땡"
     ]
    }
   ],
   "source": [
    "# 출력4\n",
    "# 구분 문자와 마지막 문자의 예제\n",
    "a = \"아침\"\n",
    "b = \"점심\"\n",
    "c = \"저녁\"\n",
    "print(a, b, c) # a,b,c 출력\n",
    "print(a, b, c, sep = \"먹고 \") # a,b,c 중간에 \"먹고\" 출력\n",
    "print(a, b, c, sep = \"먹고 \" , end = \"땡\") # 끝에 \"땡\" 출력"
   ]
  },
  {
   "cell_type": "code",
   "execution_count": 18,
   "id": "6a6fe197",
   "metadata": {},
   "outputs": [
    {
     "name": "stdout",
     "output_type": "stream",
     "text": [
      "아침 점심 저녁\n",
      "아침먹고 점심먹고 저녁\n",
      "아침먹고 점심먹고 저녁아침자고 점심자고 저녁아침먹고 점심먹고 저녁\n",
      "아침자고 점심자고 저녁\n"
     ]
    }
   ],
   "source": [
    "# 출력5\n",
    "# 마지막 문자의 예제2\n",
    "a = \"아침\"\n",
    "b = \"점심\"\n",
    "c = \"저녁\"\n",
    "print(a, b, c) # a,b,c 출력\n",
    "print(a, b, c, sep = \"먹고 \") # 중간에 \"먹고\" 출력\n",
    "print(a, b, c, sep = \"먹고 \" , end = \"\")\n",
    "print(a, b, c, sep = \"자고 \" , end = \"\")\n",
    "print(a, b, c, sep = \"먹고 \" , end = \"\\n\")\n",
    "print(a, b, c, sep = \"자고 \" , end = \"\\n\")"
   ]
  },
  {
   "cell_type": "code",
   "execution_count": 15,
   "id": "f95d0502",
   "metadata": {},
   "outputs": [
    {
     "name": "stdout",
     "output_type": "stream",
     "text": [
      "22+33=55\n"
     ]
    }
   ],
   "source": [
    "# 출력6\n",
    "# 많이 쓰는 사용 예\n",
    "a = 22\n",
    "b = 33\n",
    "print(a, b, sep =\"+\", end = \"=\") # 22+33= 출력\n",
    "print(a + b) # 55 값 출력"
   ]
  },
  {
   "cell_type": "code",
   "execution_count": 19,
   "id": "ff082b0d",
   "metadata": {},
   "outputs": [
    {
     "name": "stdout",
     "output_type": "stream",
     "text": [
      "입력 전 출력내용 \n"
     ]
    }
   ],
   "source": [
    "# 입력1\n",
    "# 많이 쓰는 사용 예\n",
    "var = input(\"입력 전 출력내용\") \n",
    "# \"입력 전 출력내용\" 출력하고 입력받기 입력 받은 값은 var에 저장"
   ]
  },
  {
   "cell_type": "code",
   "execution_count": 20,
   "id": "7a1e69d5",
   "metadata": {
    "scrolled": true
   },
   "outputs": [
    {
     "name": "stdout",
     "output_type": "stream",
     "text": [
      "너는 이름이 뭐니?이지연\n",
      "이름이  이지연  입니다\n",
      "너는 몇 살이니?25\n",
      "나이가  25 살 입니다\n"
     ]
    }
   ],
   "source": [
    "# 입력2\n",
    "# 기본 사용 예\n",
    "a = input(\"너는 이름이 뭐니?\") # a는 입력받은 이름 값\n",
    "print(\"이름이 \", a, \" 입니다\") # a 값인 이름 출력\n",
    "b = input(\"너는 몇 살이니?\") # b는 입력받은 나이 값\n",
    "print(\"나이가 \", b, \"살 입니다\") # b 값인 나이 출력"
   ]
  },
  {
   "cell_type": "code",
   "execution_count": 21,
   "id": "ae1411a9",
   "metadata": {},
   "outputs": [
    {
     "name": "stdout",
     "output_type": "stream",
     "text": [
      "a값을 입력하세요.1\n",
      "b값을 입력하세요.2\n",
      "1+2=12\n",
      "수치 계산 : 1+2=3\n"
     ]
    }
   ],
   "source": [
    "# 입력3\n",
    "# 입력으로 받는 값은 문자형이며 숫자형으로 바꿔야함\n",
    "# 그래서 int() 함수를 사용\n",
    "a = input(\"a값을 입력하세요.\") # a값을 입력 받음\n",
    "b = input(\"b값을 입력하세요.\") # b값을 입력 받음\n",
    "print(a, b, sep = \"+\", end = \"=\") # \"1+2=\" 출력\n",
    "print(a + b) # a값과 b값이 나란히 출력 됨 -> 12\n",
    "print(\"수치 계산\", end = \" : \") # \"수치 계산\" 출력 \n",
    "print(a,b, sep = \"+\", end = \"=\") # \"1+2=\" 출력\n",
    "print(int(a) + int(b)) # int로 변경후 값을 출력 -> 3"
   ]
  },
  {
   "cell_type": "code",
   "execution_count": 28,
   "id": "3096899d",
   "metadata": {},
   "outputs": [
    {
     "name": "stdout",
     "output_type": "stream",
     "text": [
      "품목 : 초코파이\n",
      "수량 : 10\n",
      "단가 : 1000\n",
      "초코파이  :  10 개 *  1000 원 = 총  10000 원\n"
     ]
    }
   ],
   "source": [
    "# 입력4\n",
    "# 사용예제\n",
    "a = input(\"품목 : \") # a 값은 입력받은 품목\n",
    "b = int(input(\"수량 : \")) # b는 입력받은 문자를 숫자로 바꾼 값\n",
    "c = int(input(\"단가 : \")) # c는 입력받은 문자를 숫자로 바꾼 값\n",
    "print(a, \" : \", b, \"개 * \", c, \"원 = 총 \", b * c, \"원\") # 멋지게 출력"
   ]
  },
  {
   "cell_type": "code",
   "execution_count": 29,
   "id": "095b2f7c",
   "metadata": {},
   "outputs": [
    {
     "name": "stdout",
     "output_type": "stream",
     "text": [
      "품목 : 초코파이\n",
      "수량 : 10\n",
      "단가 : 100\n",
      "초코파이  :  10 개 *  100 원 = 총  1000 원\n"
     ]
    }
   ],
   "source": [
    "# 변수의 사용법1\n",
    "# 사용 예제\n",
    "a = input(\"품목 : \") #문자형으로 입력됨\n",
    "b = int(input(\"수량 : \")) #문자형 입력을 숫자형으로 변환\n",
    "c = int(input(\"단가 : \")) #문자형 입력을 숫자형으로 변환\n",
    "print(a, \" : \", b, \"개 * \", c, \"원 = 총 \", b * c, \"원\")"
   ]
  },
  {
   "cell_type": "code",
   "execution_count": 31,
   "id": "6f3249d2",
   "metadata": {},
   "outputs": [
    {
     "name": "stdout",
     "output_type": "stream",
     "text": [
      "1\n",
      "2\n",
      "3\n",
      "2\n"
     ]
    }
   ],
   "source": [
    "# 변수의 사용법2\n",
    "# 변수에 값을 저장해서 넣어둘 수 있음\n",
    "# 변수 내에 값을 배정, 지정하는 개념\n",
    "a = 1\n",
    "print(a) # a 값을 출력\n",
    "a = 2\n",
    "print(a) # 최종적으로 a에 저장된 값은 2\n",
    "b = 3\n",
    "print(b) # ->  3\n",
    "print(a) # 앞에서 a에 2가 저장되어 있음"
   ]
  },
  {
   "cell_type": "code",
   "execution_count": 36,
   "id": "3a95c9c2",
   "metadata": {},
   "outputs": [
    {
     "name": "stdout",
     "output_type": "stream",
     "text": [
      "1122\n"
     ]
    },
    {
     "data": {
      "text/plain": [
       "int"
      ]
     },
     "execution_count": 36,
     "metadata": {},
     "output_type": "execute_result"
    }
   ],
   "source": [
    "# 변수의 사용법3\n",
    "# 변수에 값을 지정할 때 형태가 결정됨(파이썬의 특징)\n",
    "# tyoe() : 변수의 형태를 나타내 주는 함수\n",
    "a = 1122; print(a); type(a) # a값 출력, a의 형태 출력"
   ]
  },
  {
   "cell_type": "code",
   "execution_count": 37,
   "id": "138e0ed2",
   "metadata": {
    "scrolled": false
   },
   "outputs": [
    {
     "name": "stdout",
     "output_type": "stream",
     "text": [
      "hello\n"
     ]
    },
    {
     "data": {
      "text/plain": [
       "str"
      ]
     },
     "execution_count": 37,
     "metadata": {},
     "output_type": "execute_result"
    }
   ],
   "source": [
    "b = \"hello\"; print(b); type(b) # b값 출력, b의 형태 출력"
   ]
  },
  {
   "cell_type": "code",
   "execution_count": 38,
   "id": "9170da72",
   "metadata": {},
   "outputs": [
    {
     "data": {
      "text/plain": [
       "int"
      ]
     },
     "execution_count": 38,
     "metadata": {},
     "output_type": "execute_result"
    }
   ],
   "source": [
    "b = 12 # b값에 12 대입\n",
    "type(b) # 변수 b의 형태 출력"
   ]
  },
  {
   "cell_type": "code",
   "execution_count": 22,
   "id": "feadfaa9",
   "metadata": {},
   "outputs": [
    {
     "name": "stdout",
     "output_type": "stream",
     "text": [
      "1122\n",
      "11\n"
     ]
    },
    {
     "ename": "NameError",
     "evalue": "name 'a' is not defined",
     "output_type": "error",
     "traceback": [
      "\u001b[1;31m---------------------------------------------------------------------------\u001b[0m",
      "\u001b[1;31mNameError\u001b[0m                                 Traceback (most recent call last)",
      "Input \u001b[1;32mIn [22]\u001b[0m, in \u001b[0;36m<cell line: 6>\u001b[1;34m()\u001b[0m\n\u001b[0;32m      4\u001b[0m a \u001b[38;5;241m=\u001b[39m \u001b[38;5;241m11\u001b[39m; \u001b[38;5;28mprint\u001b[39m(a) \u001b[38;5;66;03m# a값 출력\u001b[39;00m\n\u001b[0;32m      5\u001b[0m \u001b[38;5;28;01mdel\u001b[39;00m a \u001b[38;5;66;03m# 변수 a 삭제\u001b[39;00m\n\u001b[1;32m----> 6\u001b[0m \u001b[38;5;28mprint\u001b[39m(\u001b[43ma\u001b[49m)\n",
      "\u001b[1;31mNameError\u001b[0m: name 'a' is not defined"
     ]
    }
   ],
   "source": [
    "# 변수의 사용법4\n",
    "# 변수를 더 이상 사용하지 않을 때 del로 변수의 메모리 공간을 반환해줄 수 있음\n",
    "a = 1122; print(a); type(a) # a값 출력, a의 형태 출력\n",
    "a = 11; print(a) # a값 출력\n",
    "del a # 변수 a 삭제\n",
    "print(a) # a를 출력 -> 당연히 오류가 난다"
   ]
  },
  {
   "cell_type": "code",
   "execution_count": 40,
   "id": "3447227c",
   "metadata": {
    "scrolled": true
   },
   "outputs": [
    {
     "name": "stdout",
     "output_type": "stream",
     "text": [
      "\n",
      "Welcome to Python 3.8's help utility!\n",
      "\n",
      "If this is your first time using Python, you should definitely check out\n",
      "the tutorial on the Internet at https://docs.python.org/3.8/tutorial/.\n",
      "\n",
      "Enter the name of any module, keyword, or topic to get help on writing\n",
      "Python programs and using Python modules.  To quit this help utility and\n",
      "return to the interpreter, just type \"quit\".\n",
      "\n",
      "To get a list of available modules, keywords, symbols, or topics, type\n",
      "\"modules\", \"keywords\", \"symbols\", or \"topics\".  Each module also comes\n",
      "with a one-line summary of what it does; to list the modules whose name\n",
      "or summary contain a given string such as \"spam\", type \"modules spam\".\n",
      "\n",
      "\n",
      "You are now leaving help and returning to the Python interpreter.\n",
      "If you want to ask for help on a particular object directly from the\n",
      "interpreter, you can type \"help(object)\".  Executing \"help('string')\"\n",
      "has the same effect as typing a particular string at the help> prompt.\n"
     ]
    }
   ],
   "source": [
    "# 변수의 명명법1\n",
    "# 변수의 이름을 붙이는데 일정한 규칙이 있음\n",
    "# 먼저 파이썬에서 사용하는 단어는 변수명으로 사용할 수 없음\n",
    "help()"
   ]
  },
  {
   "cell_type": "code",
   "execution_count": 41,
   "id": "a044a9d8",
   "metadata": {},
   "outputs": [
    {
     "name": "stdout",
     "output_type": "stream",
     "text": [
      "100000\n",
      "100000\n"
     ]
    }
   ],
   "source": [
    "# 변수의 명명법2\n",
    "# 변수명은 앞으로 긴 프로그램을 구현할 때도 \n",
    "# 어떤 목적으로 사용한 것인지 알기 쉬운 이름으로 작성\n",
    "# 칸을 띄우면 변수명이 될 수 없음 -> 윈도우 파일 명은 칸을 띄어도 가능\n",
    "# 한글 변수명도 가능 -> 관습적으로 한글을 변수명으로는 사용하지 않음\n",
    "net = 100; qty = 1000; total = net * qty; print(total) # 변수명을 알기 쉽게 작성\n",
    "단가 = 100; 수량 = 1000; 총합 = 단가 * 수량; print (총합) #관습적으로 이렇게는 사용X"
   ]
  },
  {
   "cell_type": "code",
   "execution_count": null,
   "id": "c2db823b",
   "metadata": {},
   "outputs": [],
   "source": []
  }
 ],
 "metadata": {
  "kernelspec": {
   "display_name": "Python 3 (ipykernel)",
   "language": "python",
   "name": "python3"
  },
  "language_info": {
   "codemirror_mode": {
    "name": "ipython",
    "version": 3
   },
   "file_extension": ".py",
   "mimetype": "text/x-python",
   "name": "python",
   "nbconvert_exporter": "python",
   "pygments_lexer": "ipython3",
   "version": "3.8.8rc1"
  }
 },
 "nbformat": 4,
 "nbformat_minor": 5
}
