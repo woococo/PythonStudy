{
 "cells": [
  {
   "cell_type": "code",
   "execution_count": 1,
   "id": "71107bd5",
   "metadata": {},
   "outputs": [
    {
     "data": {
      "text/plain": [
       "3"
      ]
     },
     "execution_count": 1,
     "metadata": {},
     "output_type": "execute_result"
    }
   ],
   "source": [
    "1+2\n",
    "1 + 2"
   ]
  },
  {
   "cell_type": "code",
   "execution_count": 2,
   "id": "62338c5c",
   "metadata": {
    "scrolled": true
   },
   "outputs": [
    {
     "ename": "IndentationError",
     "evalue": "unexpected indent (55675540.py, line 2)",
     "output_type": "error",
     "traceback": [
      "\u001b[1;36m  Input \u001b[1;32mIn [2]\u001b[1;36m\u001b[0m\n\u001b[1;33m    1+2\u001b[0m\n\u001b[1;37m    ^\u001b[0m\n\u001b[1;31mIndentationError\u001b[0m\u001b[1;31m:\u001b[0m unexpected indent\n"
     ]
    }
   ],
   "source": [
    "1 + 2\n",
    "    1+2"
   ]
  },
  {
   "cell_type": "code",
   "execution_count": 3,
   "id": "e7ee1f7f",
   "metadata": {},
   "outputs": [
    {
     "name": "stdout",
     "output_type": "stream",
     "text": [
      "스위치 on\n"
     ]
    }
   ],
   "source": [
    "sw = 1\n",
    "if sw == 1:\n",
    "    print(\"스위치 on\")\n",
    "else :\n",
    "    print(\"스위치 off\")"
   ]
  },
  {
   "cell_type": "code",
   "execution_count": 4,
   "id": "c41fcdac",
   "metadata": {},
   "outputs": [
    {
     "data": {
      "text/plain": [
       "12"
      ]
     },
     "execution_count": 4,
     "metadata": {},
     "output_type": "execute_result"
    }
   ],
   "source": [
    "1 + 2; 3+4; 5+ 7"
   ]
  },
  {
   "cell_type": "code",
   "execution_count": 5,
   "id": "30866e64",
   "metadata": {
    "scrolled": false
   },
   "outputs": [
    {
     "name": "stdout",
     "output_type": "stream",
     "text": [
      "3\n"
     ]
    },
    {
     "ename": "NameError",
     "evalue": "name 'Print' is not defined",
     "output_type": "error",
     "traceback": [
      "\u001b[1;31m---------------------------------------------------------------------------\u001b[0m",
      "\u001b[1;31mNameError\u001b[0m                                 Traceback (most recent call last)",
      "Input \u001b[1;32mIn [5]\u001b[0m, in \u001b[0;36m<cell line: 3>\u001b[1;34m()\u001b[0m\n\u001b[0;32m      1\u001b[0m \u001b[38;5;28mprint\u001b[39m(\u001b[38;5;241m1\u001b[39m\u001b[38;5;241m+\u001b[39m\u001b[38;5;241m2\u001b[39m)\n\u001b[1;32m----> 3\u001b[0m \u001b[43mPrint\u001b[49m(\u001b[38;5;241m1\u001b[39m\u001b[38;5;241m+\u001b[39m\u001b[38;5;241m2\u001b[39m)\n\u001b[0;32m      5\u001b[0m PRINT(\u001b[38;5;241m1\u001b[39m\u001b[38;5;241m+\u001b[39m\u001b[38;5;241m2\u001b[39m)\n",
      "\u001b[1;31mNameError\u001b[0m: name 'Print' is not defined"
     ]
    }
   ],
   "source": [
    "print(1+2)\n",
    "\n",
    "Print(1+2)\n",
    "\n",
    "PRINT(1+2)\n"
   ]
  },
  {
   "cell_type": "code",
   "execution_count": 6,
   "id": "1469755e",
   "metadata": {
    "scrolled": true
   },
   "outputs": [
    {
     "ename": "SyntaxError",
     "evalue": "invalid syntax (2923374068.py, line 1)",
     "output_type": "error",
     "traceback": [
      "\u001b[1;36m  Input \u001b[1;32mIn [6]\u001b[1;36m\u001b[0m\n\u001b[1;33m    print(출력내용 [, sep = 구분문자][, end = 마지막 문자])\u001b[0m\n\u001b[1;37m                ^\u001b[0m\n\u001b[1;31mSyntaxError\u001b[0m\u001b[1;31m:\u001b[0m invalid syntax\n"
     ]
    }
   ],
   "source": [
    "print(출력내용 [, sep = 구분문자][, end = 마지막 문자])"
   ]
  },
  {
   "cell_type": "code",
   "execution_count": 9,
   "id": "d801b855",
   "metadata": {},
   "outputs": [
    {
     "data": {
      "text/plain": [
       "3"
      ]
     },
     "execution_count": 9,
     "metadata": {},
     "output_type": "execute_result"
    }
   ],
   "source": [
    "abc = 1\n",
    "1+2\n",
    "\n"
   ]
  },
  {
   "cell_type": "code",
   "execution_count": 11,
   "id": "37cfe7d9",
   "metadata": {},
   "outputs": [
    {
     "data": {
      "text/plain": [
       "1"
      ]
     },
     "execution_count": 11,
     "metadata": {},
     "output_type": "execute_result"
    }
   ],
   "source": [
    "abc = 1\n",
    "abc"
   ]
  },
  {
   "cell_type": "code",
   "execution_count": 12,
   "id": "7b1807e7",
   "metadata": {},
   "outputs": [
    {
     "name": "stdout",
     "output_type": "stream",
     "text": [
      "1\n",
      "3\n"
     ]
    }
   ],
   "source": [
    "print(abc)\n",
    "print(1+2)"
   ]
  },
  {
   "cell_type": "code",
   "execution_count": 13,
   "id": "25092dae",
   "metadata": {},
   "outputs": [
    {
     "name": "stdout",
     "output_type": "stream",
     "text": [
      "2\n",
      "3\n"
     ]
    }
   ],
   "source": [
    "a = 1\n",
    "b = 1\n",
    "a + b\n",
    "print (a + b)\n",
    "1 + 2\n",
    "print (1 + 2)"
   ]
  },
  {
   "cell_type": "code",
   "execution_count": 17,
   "id": "0b3c80d2",
   "metadata": {},
   "outputs": [
    {
     "name": "stdout",
     "output_type": "stream",
     "text": [
      "아침 점심 저녁\n",
      "아침먹고 점심먹고 저녁\n",
      "아침먹고 점심먹고 저녁땡"
     ]
    }
   ],
   "source": [
    "a = \"아침\"\n",
    "b = \"점심\"\n",
    "c = \"저녁\"\n",
    "print(a, b, c)\n",
    "print(a, b, c, sep = \"먹고 \")\n",
    "print(a, b, c, sep = \"먹고 \" , end = \"땡\")"
   ]
  },
  {
   "cell_type": "code",
   "execution_count": 18,
   "id": "6a6fe197",
   "metadata": {},
   "outputs": [
    {
     "name": "stdout",
     "output_type": "stream",
     "text": [
      "아침 점심 저녁\n",
      "아침먹고 점심먹고 저녁\n",
      "아침먹고 점심먹고 저녁아침자고 점심자고 저녁아침먹고 점심먹고 저녁\n",
      "아침자고 점심자고 저녁\n"
     ]
    }
   ],
   "source": [
    "a = \"아침\"\n",
    "b = \"점심\"\n",
    "c = \"저녁\"\n",
    "print(a, b, c)\n",
    "print(a, b, c, sep = \"먹고 \")\n",
    "print(a, b, c, sep = \"먹고 \" , end = \"\")\n",
    "print(a, b, c, sep = \"자고 \" , end = \"\")\n",
    "print(a, b, c, sep = \"먹고 \" , end = \"\\n\")\n",
    "print(a, b, c, sep = \"자고 \" , end = \"\\n\")"
   ]
  },
  {
   "cell_type": "code",
   "execution_count": 19,
   "id": "f95d0502",
   "metadata": {},
   "outputs": [
    {
     "name": "stdout",
     "output_type": "stream",
     "text": [
      "22+33=55\n"
     ]
    }
   ],
   "source": [
    "a = 22\n",
    "b = 33\n",
    "print(a, b, sep =\"+\", end = \"=\")\n",
    "print(a + b)"
   ]
  },
  {
   "cell_type": "code",
   "execution_count": 22,
   "id": "ff082b0d",
   "metadata": {},
   "outputs": [
    {
     "name": "stdout",
     "output_type": "stream",
     "text": [
      "입력 전 출력내용안녕하세요~!\n"
     ]
    }
   ],
   "source": [
    "var = input(\"입력 전 출력내용\")"
   ]
  },
  {
   "cell_type": "code",
   "execution_count": 21,
   "id": "7a1e69d5",
   "metadata": {
    "scrolled": true
   },
   "outputs": [
    {
     "name": "stdout",
     "output_type": "stream",
     "text": [
      "너는 이름이 뭐니?이지연\n",
      "이름이  이지연  입니다\n",
      "너는 몇 살이니?25\n",
      "나이가  25 살 입니다\n"
     ]
    }
   ],
   "source": [
    "a = input(\"너는 이름이 뭐니?\")\n",
    "print(\"이름이 \", a, \" 입니다\")\n",
    "b = input(\"너는 몇 살이니?\")\n",
    "print(\"나이가 \", b, \"살 입니다\")"
   ]
  },
  {
   "cell_type": "code",
   "execution_count": null,
   "id": "ae1411a9",
   "metadata": {},
   "outputs": [],
   "source": [
    "a = input(\"a값을 입력하세요.\")\n",
    "b = input(\"b값을 입력하세요.\")\n",
    "print(a, b, sep = \"+\", end = \"=\")\n",
    "print(a + b)\n",
    "print(\"수치 계산\", end = \" : \")\n",
    "print(a,b, sep = \"+\", end = \"=\")\n",
    "print(int(a) + int(b))"
   ]
  },
  {
   "cell_type": "code",
   "execution_count": 28,
   "id": "3096899d",
   "metadata": {},
   "outputs": [
    {
     "name": "stdout",
     "output_type": "stream",
     "text": [
      "품목 : 초코파이\n",
      "수량 : 10\n",
      "단가 : 1000\n",
      "초코파이  :  10 개 *  1000 원 = 총  10000 원\n"
     ]
    }
   ],
   "source": [
    "a = input(\"품목 : \")\n",
    "b = int(input(\"수량 : \"))\n",
    "c = int(input(\"단가 : \"))\n",
    "print(a, \" : \", b, \"개 * \", c, \"원 = 총 \", b * c, \"원\")"
   ]
  },
  {
   "cell_type": "code",
   "execution_count": 29,
   "id": "095b2f7c",
   "metadata": {},
   "outputs": [
    {
     "name": "stdout",
     "output_type": "stream",
     "text": [
      "품목 : 초코파이\n",
      "수량 : 10\n",
      "단가 : 100\n",
      "초코파이  :  10 개 *  100 원 = 총  1000 원\n"
     ]
    }
   ],
   "source": [
    "a = input(\"품목 : \") #문자형으로 입력됨\n",
    "b = int(input(\"수량 : \")) #문자형 입력을 숫자형으로 변환\n",
    "c = int(input(\"단가 : \")) #문자형 입력을 숫자형으로 변환\n",
    "print(a, \" : \", b, \"개 * \", c, \"원 = 총 \", b * c, \"원\")"
   ]
  },
  {
   "cell_type": "code",
   "execution_count": 31,
   "id": "6f3249d2",
   "metadata": {},
   "outputs": [
    {
     "name": "stdout",
     "output_type": "stream",
     "text": [
      "1\n",
      "2\n",
      "3\n",
      "2\n"
     ]
    }
   ],
   "source": [
    "a = 1\n",
    "print(a)\n",
    "a = 2\n",
    "print(a) # 최종적으로 a에 저장된 값은 2\n",
    "b = 3\n",
    "print(b)\n",
    "print(a)# 앞에서 a에 2가 저장되어 있음"
   ]
  },
  {
   "cell_type": "code",
   "execution_count": 36,
   "id": "3a95c9c2",
   "metadata": {},
   "outputs": [
    {
     "name": "stdout",
     "output_type": "stream",
     "text": [
      "1122\n"
     ]
    },
    {
     "data": {
      "text/plain": [
       "int"
      ]
     },
     "execution_count": 36,
     "metadata": {},
     "output_type": "execute_result"
    }
   ],
   "source": [
    "a = 1122; print(a); type(a)"
   ]
  },
  {
   "cell_type": "code",
   "execution_count": 37,
   "id": "138e0ed2",
   "metadata": {
    "scrolled": false
   },
   "outputs": [
    {
     "name": "stdout",
     "output_type": "stream",
     "text": [
      "hello\n"
     ]
    },
    {
     "data": {
      "text/plain": [
       "str"
      ]
     },
     "execution_count": 37,
     "metadata": {},
     "output_type": "execute_result"
    }
   ],
   "source": [
    "b = \"hello\"; print(b); type(b)"
   ]
  },
  {
   "cell_type": "code",
   "execution_count": 38,
   "id": "9170da72",
   "metadata": {},
   "outputs": [
    {
     "data": {
      "text/plain": [
       "int"
      ]
     },
     "execution_count": 38,
     "metadata": {},
     "output_type": "execute_result"
    }
   ],
   "source": [
    "b = 12\n",
    "type(b)"
   ]
  },
  {
   "cell_type": "code",
   "execution_count": 39,
   "id": "feadfaa9",
   "metadata": {},
   "outputs": [
    {
     "name": "stdout",
     "output_type": "stream",
     "text": [
      "1122\n",
      "11\n"
     ]
    },
    {
     "ename": "NameError",
     "evalue": "name 'a' is not defined",
     "output_type": "error",
     "traceback": [
      "\u001b[1;31m---------------------------------------------------------------------------\u001b[0m",
      "\u001b[1;31mNameError\u001b[0m                                 Traceback (most recent call last)",
      "Input \u001b[1;32mIn [39]\u001b[0m, in \u001b[0;36m<cell line: 4>\u001b[1;34m()\u001b[0m\n\u001b[0;32m      2\u001b[0m a \u001b[38;5;241m=\u001b[39m \u001b[38;5;241m11\u001b[39m; \u001b[38;5;28mprint\u001b[39m(a)\n\u001b[0;32m      3\u001b[0m \u001b[38;5;28;01mdel\u001b[39;00m a\n\u001b[1;32m----> 4\u001b[0m \u001b[38;5;28mprint\u001b[39m(\u001b[43ma\u001b[49m)\n",
      "\u001b[1;31mNameError\u001b[0m: name 'a' is not defined"
     ]
    }
   ],
   "source": [
    "a = 1122; print(a); type(a)\n",
    "a = 11; print(a)\n",
    "del a\n",
    "print(a)"
   ]
  },
  {
   "cell_type": "code",
   "execution_count": 40,
   "id": "3447227c",
   "metadata": {},
   "outputs": [
    {
     "name": "stdout",
     "output_type": "stream",
     "text": [
      "\n",
      "Welcome to Python 3.8's help utility!\n",
      "\n",
      "If this is your first time using Python, you should definitely check out\n",
      "the tutorial on the Internet at https://docs.python.org/3.8/tutorial/.\n",
      "\n",
      "Enter the name of any module, keyword, or topic to get help on writing\n",
      "Python programs and using Python modules.  To quit this help utility and\n",
      "return to the interpreter, just type \"quit\".\n",
      "\n",
      "To get a list of available modules, keywords, symbols, or topics, type\n",
      "\"modules\", \"keywords\", \"symbols\", or \"topics\".  Each module also comes\n",
      "with a one-line summary of what it does; to list the modules whose name\n",
      "or summary contain a given string such as \"spam\", type \"modules spam\".\n",
      "\n",
      "\n",
      "You are now leaving help and returning to the Python interpreter.\n",
      "If you want to ask for help on a particular object directly from the\n",
      "interpreter, you can type \"help(object)\".  Executing \"help('string')\"\n",
      "has the same effect as typing a particular string at the help> prompt.\n"
     ]
    }
   ],
   "source": [
    "help()"
   ]
  },
  {
   "cell_type": "code",
   "execution_count": 41,
   "id": "a044a9d8",
   "metadata": {},
   "outputs": [
    {
     "name": "stdout",
     "output_type": "stream",
     "text": [
      "100000\n",
      "100000\n"
     ]
    }
   ],
   "source": [
    "net = 100; qty = 1000; total = net * qty; print(total) # 변수명을 알기 쉽게 작성\n",
    "단가 = 100; 수량 = 1000; 총합 = 단가 * 수량; print (총합) #관습적으로 이렇게는 사용X"
   ]
  },
  {
   "cell_type": "code",
   "execution_count": null,
   "id": "c2db823b",
   "metadata": {},
   "outputs": [],
   "source": []
  }
 ],
 "metadata": {
  "kernelspec": {
   "display_name": "Python 3 (ipykernel)",
   "language": "python",
   "name": "python3"
  },
  "language_info": {
   "codemirror_mode": {
    "name": "ipython",
    "version": 3
   },
   "file_extension": ".py",
   "mimetype": "text/x-python",
   "name": "python",
   "nbconvert_exporter": "python",
   "pygments_lexer": "ipython3",
   "version": "3.8.8"
  }
 },
 "nbformat": 4,
 "nbformat_minor": 5
}
