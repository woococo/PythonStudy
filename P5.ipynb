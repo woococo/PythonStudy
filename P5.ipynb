{
 "cells": [
  {
   "cell_type": "code",
   "execution_count": 1,
   "id": "a1a0f04f",
   "metadata": {
    "scrolled": true
   },
   "outputs": [
    {
     "name": "stdout",
     "output_type": "stream",
     "text": [
      "이름이 뭐야 ?홍길동\n",
      "주인님 어서오셔요\n"
     ]
    }
   ],
   "source": [
    "# 간단한 if조건문 실습1(if)\n",
    "name = input(\"이름이 뭐야 ?\")\n",
    "if name == \"홍길동\" :\n",
    "    print(\"주인님 어서오셔요\")"
   ]
  },
  {
   "cell_type": "code",
   "execution_count": 3,
   "id": "71a5aa6d",
   "metadata": {},
   "outputs": [
    {
     "name": "stdout",
     "output_type": "stream",
     "text": [
      "성별이 무엇인가요?남자\n",
      "넥타이가 멋있습니다\n"
     ]
    }
   ],
   "source": [
    "# 간단한 if조건문 실습2 (if-else)\n",
    "name = input(\"성별이 무엇인가요?\")\n",
    "if name == \"남자\" :\n",
    "    print(\"넥타이가 멋있습니다\")\n",
    "else :\n",
    "    print(\"아름다우십니다\")"
   ]
  },
  {
   "cell_type": "code",
   "execution_count": 4,
   "id": "54d493a3",
   "metadata": {
    "scrolled": true
   },
   "outputs": [
    {
     "name": "stdout",
     "output_type": "stream",
     "text": [
      "얼마를 구매하셨나요?1000\n",
      "면세입니다.\n"
     ]
    }
   ],
   "source": [
    "# 간단한 if조건문 실습3 (수치비교)\n",
    "price = int(input(\"얼마를 구매하셨나요?\"))\n",
    "if price < 10000 :\n",
    "    print(\"면세입니다.\")\n",
    "else : \n",
    "    print(\"세금은 10% 입니다.\")"
   ]
  },
  {
   "cell_type": "code",
   "execution_count": 5,
   "id": "00d9220a",
   "metadata": {},
   "outputs": [
    {
     "name": "stdout",
     "output_type": "stream",
     "text": [
      "a는 100입니다\n"
     ]
    }
   ],
   "source": [
    "# 간단한 비교 연산자 실습1 (수치 비교)\n",
    "a = 100\n",
    "if (a == 99) : print(\"a는 99입니다\")\n",
    "if (a == 100 ) : print(\"a는 100입니다\")"
   ]
  },
  {
   "cell_type": "code",
   "execution_count": 7,
   "id": "06eb37cc",
   "metadata": {
    "scrolled": true
   },
   "outputs": [
    {
     "name": "stdout",
     "output_type": "stream",
     "text": [
      "a는 100 이상입니다\n"
     ]
    }
   ],
   "source": [
    "if (a >= 100) : print(\"a는 100 이상입니다\")\n",
    "if (a < 100) : print(\"a는 100 미만입니다\")"
   ]
  },
  {
   "cell_type": "code",
   "execution_count": 8,
   "id": "2dce20ae",
   "metadata": {},
   "outputs": [
    {
     "name": "stdout",
     "output_type": "stream",
     "text": [
      "abc 이다\n"
     ]
    }
   ],
   "source": [
    "# 간단한 비교 연산자 실습2 (문자비교)\n",
    "a = \"abc\"\n",
    "if(a == \"abc\") : print(\"abc 이다\")"
   ]
  },
  {
   "cell_type": "code",
   "execution_count": 10,
   "id": "f9756e88",
   "metadata": {},
   "outputs": [],
   "source": [
    "a = \"abc\"\n",
    "if(a > \"abc\") : print(\"abc 보다 큰 문자이다\")"
   ]
  },
  {
   "cell_type": "code",
   "execution_count": 11,
   "id": "8a331467",
   "metadata": {},
   "outputs": [
    {
     "name": "stdout",
     "output_type": "stream",
     "text": [
      "abc 보다 큰 문자이다\n"
     ]
    }
   ],
   "source": [
    "a = \"abd\"\n",
    "if(a > \"abc\") : print(\"abc 보다 큰 문자이다\")"
   ]
  },
  {
   "cell_type": "code",
   "execution_count": 12,
   "id": "f5582bc5",
   "metadata": {},
   "outputs": [],
   "source": [
    "a = \"abb\"\n",
    "if(a > \"abc\") : print(\"abc 보다 큰 문자이다\")"
   ]
  },
  {
   "cell_type": "code",
   "execution_count": 13,
   "id": "48b4e6fc",
   "metadata": {},
   "outputs": [
    {
     "name": "stdout",
     "output_type": "stream",
     "text": [
      "점수를 입력하세요.88\n",
      "학점은 B 입니다. \n"
     ]
    }
   ],
   "source": [
    "# 논리 연산자를 이용한 학점 판단\n",
    "x = int(input(\"점수를 입력하세요.\"))\n",
    "if 0 <= x and x < 60 : print(\"학점은 F 입니다. \")\n",
    "if 60 <= x and x < 70 : print(\"학점은 D 입니다. \")\n",
    "if 70 <= x and x < 80 : print(\"학점은 C 입니다. \")\n",
    "if 80 <= x and x < 90 : print(\"학점은 B 입니다. \")\n",
    "if 90 <= x and x < 100 : print(\"학점은 A 입니다. \")\n",
    "                    "
   ]
  },
  {
   "cell_type": "code",
   "execution_count": 14,
   "id": "5ba061f4",
   "metadata": {},
   "outputs": [
    {
     "name": "stdout",
     "output_type": "stream",
     "text": [
      "영문 알파벳 한글자를 입력하세요.a\n",
      "소문자 입니다.\n"
     ]
    }
   ],
   "source": [
    "# 논리 연산자를 이용한 문자열 비교\n",
    "x = input(\"영문 알파벳 한글자를 입력하세요.\")\n",
    "if \"a\" <= x and x <= \"z\" : print(\"소문자 입니다.\")\n",
    "if \"A\" <= x and x <= \"Z\" : print(\"대문자 입니다.\")"
   ]
  },
  {
   "cell_type": "code",
   "execution_count": 15,
   "id": "6269ba09",
   "metadata": {},
   "outputs": [
    {
     "ename": "IndentationError",
     "evalue": "unexpected indent (305442110.py, line 5)",
     "output_type": "error",
     "traceback": [
      "\u001b[1;36m  Input \u001b[1;32mIn [15]\u001b[1;36m\u001b[0m\n\u001b[1;33m    a = a - 50\u001b[0m\n\u001b[1;37m    ^\u001b[0m\n\u001b[1;31mIndentationError\u001b[0m\u001b[1;31m:\u001b[0m unexpected indent\n"
     ]
    }
   ],
   "source": [
    "# 블록 구조 \n",
    "a = 100\n",
    "if a > 50 :\n",
    "    print (\"50보다 큰수는 50을 빼겠습니다.\")\n",
    "        a = a - 50"
   ]
  },
  {
   "cell_type": "code",
   "execution_count": 18,
   "id": "0728286c",
   "metadata": {},
   "outputs": [
    {
     "name": "stdout",
     "output_type": "stream",
     "text": [
      "50보다 큰수는 50을 빼겠습니다.\n"
     ]
    }
   ],
   "source": [
    "a = 100\n",
    "if a > 50 :\n",
    "    print (\"50보다 큰수는 50을 빼겠습니다.\")\n",
    "    a = a - 50"
   ]
  },
  {
   "cell_type": "code",
   "execution_count": 19,
   "id": "3cc7178c",
   "metadata": {},
   "outputs": [
    {
     "name": "stdout",
     "output_type": "stream",
     "text": [
      "50\n"
     ]
    }
   ],
   "source": [
    "print(a)"
   ]
  },
  {
   "cell_type": "code",
   "execution_count": 20,
   "id": "74001498",
   "metadata": {},
   "outputs": [
    {
     "name": "stdout",
     "output_type": "stream",
     "text": [
      "점수를 입력하세요.(0~100)100\n",
      "학점은 A입니다\n"
     ]
    }
   ],
   "source": [
    "# elif문을 사용한 학점 계산\n",
    "x = int(input(\"점수를 입력하세요.(0~100)\"))\n",
    "if x >= 90 : print (\"학점은 A입니다\")\n",
    "elif x >= 80 : print (\"학점은 B입니다\")\n",
    "elif x >= 70 : print (\"학점은 C입니다\")\n",
    "elif x >= 60 : print (\"학점은 D입니다\")\n",
    "else : print (\"학점은 F입니다\")"
   ]
  },
  {
   "cell_type": "code",
   "execution_count": 21,
   "id": "2c590ad3",
   "metadata": {},
   "outputs": [
    {
     "name": "stdout",
     "output_type": "stream",
     "text": [
      "숫자를 입력하세요.12\n",
      "4의 배수인 짝수입니다(당연히 짝수)\n"
     ]
    }
   ],
   "source": [
    "# 중첩 if문 예제\n",
    "x = int(input(\"숫자를 입력하세요.\"))\n",
    "if x % 2 == 0 :\n",
    "    if x % 4 ==0 :\n",
    "        print(\"4의 배수인 짝수입니다(당연히 짝수)\")\n",
    "    else :\n",
    "        print(\"4의 배수가 아닌 짝수입니다\");\n",
    "elif x % 3 == 0 :\n",
    "    print(\"3의 배수인 홀수 입니다\")\n",
    "else :\n",
    "    print (\"3의 배수가 아닌 홀수입니다\")"
   ]
  },
  {
   "cell_type": "code",
   "execution_count": 47,
   "id": "34b5f9f2",
   "metadata": {},
   "outputs": [
    {
     "name": "stdout",
     "output_type": "stream",
     "text": [
      "***************************************************\n",
      "총금액: 1000000 원  달러환율: 1010.12 $\n",
      "지급달러: 988 $\n",
      "거스름돈: 5 원  은행수수료: 1996 원\n",
      "***************************************************\n"
     ]
    }
   ],
   "source": [
    "# 심화실습\n",
    "myWon = 1000000\n",
    "moneyEx = 1010.12\n",
    "commission = 0.002\n",
    "\n",
    "usd = int(myWon / moneyEx)\n",
    "remain = int(myWon - usd * moneyEx) \n",
    "comPerOne =  moneyEx * commission\n",
    "totalCom = usd * comPerOne \n",
    "usd = int(myWon/ (moneyEx + comPerOne))\n",
    "totalCom = usd * comPerOne\n",
    "\n",
    "if totalCom != (int(totalCom)) : \n",
    "    iTotalCom = int(totalCom) + 1\n",
    "else : \n",
    "    iTotalCom = int(totalCom)\n",
    "\n",
    "remain = int(myWon - usd * moneyEx- iTotalCom)\n",
    "\n",
    "print(\"***************************************************\")\n",
    "print(\"총금액:\", myWon,\"원\",\" 달러환율:\", moneyEx,\"$\")\n",
    "print(\"지급달러:\", int(usd),\"$\", )\n",
    "print(\"거스름돈:\", remain,\"원\", \" 은행수수료:\", iTotalCom,\"원\")\n",
    "print(\"***************************************************\")\n"
   ]
  },
  {
   "cell_type": "code",
   "execution_count": null,
   "id": "d292bc7b",
   "metadata": {},
   "outputs": [],
   "source": []
  },
  {
   "cell_type": "code",
   "execution_count": null,
   "id": "ef238baf",
   "metadata": {},
   "outputs": [],
   "source": []
  }
 ],
 "metadata": {
  "kernelspec": {
   "display_name": "Python 3 (ipykernel)",
   "language": "python",
   "name": "python3"
  },
  "language_info": {
   "codemirror_mode": {
    "name": "ipython",
    "version": 3
   },
   "file_extension": ".py",
   "mimetype": "text/x-python",
   "name": "python",
   "nbconvert_exporter": "python",
   "pygments_lexer": "ipython3",
   "version": "3.8.8"
  }
 },
 "nbformat": 4,
 "nbformat_minor": 5
}
