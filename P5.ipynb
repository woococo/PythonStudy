{
 "cells": [
  {
   "cell_type": "code",
   "execution_count": 1,
   "id": "a1a0f04f",
   "metadata": {
    "scrolled": true
   },
   "outputs": [
    {
     "name": "stdout",
     "output_type": "stream",
     "text": [
      "이름이 뭐야 ?홍길동\n",
      "주인님 어서오세요\n"
     ]
    }
   ],
   "source": [
    "# if조건문 예시1\n",
    "# 간단한 if조건문 실습1(if)\n",
    "name = input(\"이름이 뭐야 ?\") # 변수 name에 이름을 입력받음\n",
    "if name == \"홍길동\" : # 이름이 홍길동이라면\n",
    "    print(\"주인님 어서오세요\")  # 주인님 어서오세요를 출력"
   ]
  },
  {
   "cell_type": "code",
   "execution_count": 3,
   "id": "71a5aa6d",
   "metadata": {},
   "outputs": [
    {
     "name": "stdout",
     "output_type": "stream",
     "text": [
      "성별이 무엇인가요?남자\n",
      "넥타이가 멋있습니다\n"
     ]
    }
   ],
   "source": [
    "# if조건문 예시2\n",
    "# 간단한 if조건문 실습2 (if-else)\n",
    "name = input(\"성별이 무엇인가요?\") # 변수 name에 성별을 입력받음\n",
    "if name == \"남자\" : # 성별이 남자라면\n",
    "    print(\"넥타이가 멋있습니다\") # 넥타이가 멋있다고 출력\n",
    "else : # 성별이 남자가 아니라면\n",
    "    print(\"아름다우십니다\") # 아름답다고 출력"
   ]
  },
  {
   "cell_type": "code",
   "execution_count": 4,
   "id": "54d493a3",
   "metadata": {
    "scrolled": true
   },
   "outputs": [
    {
     "name": "stdout",
     "output_type": "stream",
     "text": [
      "얼마를 구매하셨나요?1000\n",
      "면세입니다.\n"
     ]
    }
   ],
   "source": [
    "# if조건문 예시3\n",
    "# 간단한 if조건문 실습3 (수치비교)\n",
    "price = int(input(\"얼마를 구매하셨나요?\")) # 변수 price에 값 입력\n",
    "if price < 10000 : # price가 10000 미만이라면\n",
    "    print(\"면세입니다.\") # 면세라고 출력\n",
    "else :  # 아니라면\n",
    "    print(\"세금은 10% 입니다.\") # 세금10퍼센트라고 출력"
   ]
  },
  {
   "cell_type": "code",
   "execution_count": 5,
   "id": "00d9220a",
   "metadata": {},
   "outputs": [
    {
     "name": "stdout",
     "output_type": "stream",
     "text": [
      "a는 100입니다\n"
     ]
    }
   ],
   "source": [
    "# 비교 연산자 예시1\n",
    "# 간단한 비교 연산자 실습1 (수치 비교)\n",
    "a = 100\n",
    "if (a == 99) : print(\"a는 99입니다\") # a가 99라면 99라고 출력\n",
    "if (a == 100 ) : print(\"a는 100입니다\") # a가 100이라면 100이라고 출력"
   ]
  },
  {
   "cell_type": "code",
   "execution_count": 7,
   "id": "06eb37cc",
   "metadata": {
    "scrolled": true
   },
   "outputs": [
    {
     "name": "stdout",
     "output_type": "stream",
     "text": [
      "a는 100 이상입니다\n"
     ]
    }
   ],
   "source": [
    "if (a >= 100) : print(\"a는 100 이상입니다\") # a가 100이상이라면 100이상이라고 출력\n",
    "if (a < 100) : print(\"a는 100 미만입니다\") # a가 100미만이라면 100미만이라고 출력"
   ]
  },
  {
   "cell_type": "code",
   "execution_count": 8,
   "id": "2dce20ae",
   "metadata": {},
   "outputs": [
    {
     "name": "stdout",
     "output_type": "stream",
     "text": [
      "abc 이다\n"
     ]
    }
   ],
   "source": [
    "# 비교 연산자 예시2\n",
    "# 간단한 비교 연산자 실습2 (문자비교)\n",
    "a = \"abc\"\n",
    "if(a == \"abc\") : print(\"abc이다\") # a가 abc라면 abc라고 출력"
   ]
  },
  {
   "cell_type": "code",
   "execution_count": 2,
   "id": "f9756e88",
   "metadata": {},
   "outputs": [],
   "source": [
    "a = \"abc\"\n",
    "if(a > \"abc\") : print(\"abc 보다 큰 문자이다\") \n",
    "    # 변수 a가 abc보다 크면 큰 문자라고 출력 -> 크지 않으므로 아무것도 출력X"
   ]
  },
  {
   "cell_type": "code",
   "execution_count": 11,
   "id": "8a331467",
   "metadata": {},
   "outputs": [
    {
     "name": "stdout",
     "output_type": "stream",
     "text": [
      "abc 보다 큰 문자이다\n"
     ]
    }
   ],
   "source": [
    "a = \"abd\"\n",
    "if(a > \"abc\") : print(\"abc 보다 큰 문자이다\")\n",
    "    # 변수 a가 abc보다 크면 큰 문자라고 출력"
   ]
  },
  {
   "cell_type": "code",
   "execution_count": 12,
   "id": "f5582bc5",
   "metadata": {},
   "outputs": [],
   "source": [
    "a = \"abb\"\n",
    "if(a > \"abc\") : print(\"abc 보다 큰 문자이다\")\n",
    "    # 변수 a가 abc보다 크면 큰 문자라고 출력 -> 크지 않으므로 아무것도 출력X"
   ]
  },
  {
   "cell_type": "code",
   "execution_count": 13,
   "id": "48b4e6fc",
   "metadata": {},
   "outputs": [
    {
     "name": "stdout",
     "output_type": "stream",
     "text": [
      "점수를 입력하세요.88\n",
      "학점은 B 입니다. \n"
     ]
    }
   ],
   "source": [
    "# 논리연산자1\n",
    "# 논리 연산자를 이용한 학점 판단\n",
    "x = int(input(\"점수를 입력하세요.\")) # 변수 x에 값을 입력받음\n",
    "if 0 <= x and x < 60 : print(\"학점은 F 입니다. \") # x값이 0이상 60미만이면 학점은 F\n",
    "if 60 <= x and x < 70 : print(\"학점은 D 입니다. \")# x값이 60이상 70미만이면 학점은 D\n",
    "if 70 <= x and x < 80 : print(\"학점은 C 입니다. \")# x값이 70이상 80미만이면 학점은 C\n",
    "if 80 <= x and x < 90 : print(\"학점은 B 입니다. \")# x값이 80이상 90미만이면 학점은 B\n",
    "if 90 <= x and x < 100 : print(\"학점은 A 입니다. \")# x값이 90이상 100미만이면 학점은 A\n",
    "                    "
   ]
  },
  {
   "cell_type": "code",
   "execution_count": 14,
   "id": "5ba061f4",
   "metadata": {},
   "outputs": [
    {
     "name": "stdout",
     "output_type": "stream",
     "text": [
      "영문 알파벳 한글자를 입력하세요.a\n",
      "소문자 입니다.\n"
     ]
    }
   ],
   "source": [
    "# 논리연산자2\n",
    "# 문자열 비교 예시\n",
    "x = input(\"영문 알파벳 한글자를 입력하세요.\") # 변수 x에 값을 입력받음\n",
    "if \"a\" <= x and x <= \"z\" : print(\"소문자 입니다.\") # x가 a~z라면 소문자라고 출력\n",
    "if \"A\" <= x and x <= \"Z\" : print(\"대문자 입니다.\") # x가 A~Z라면 대문자라고 출력"
   ]
  },
  {
   "cell_type": "code",
   "execution_count": 3,
   "id": "6269ba09",
   "metadata": {},
   "outputs": [
    {
     "ename": "IndentationError",
     "evalue": "unexpected indent (3756915416.py, line 6)",
     "output_type": "error",
     "traceback": [
      "\u001b[1;36m  Input \u001b[1;32mIn [3]\u001b[1;36m\u001b[0m\n\u001b[1;33m    a = a - 50 # print와 띄운 칸이 일치해야하는데 달라서 오류남\u001b[0m\n\u001b[1;37m    ^\u001b[0m\n\u001b[1;31mIndentationError\u001b[0m\u001b[1;31m:\u001b[0m unexpected indent\n"
     ]
    }
   ],
   "source": [
    "# 블록 구조1\n",
    "# 블록 구조 : 조건문, 반복문 등에서 동일한 조건 반복에 따라 수행되는 명령집합\n",
    "a = 100\n",
    "if a > 50 : # a 값이 50보다 크다면\n",
    "    print (\"50보다 큰수는 50을 빼겠습니다.\") # 50을 뺀다고 출력\n",
    "        a = a - 50 # print와 띄운 칸이 일치해야하는데 달라서 오류남"
   ]
  },
  {
   "cell_type": "code",
   "execution_count": 4,
   "id": "0728286c",
   "metadata": {},
   "outputs": [
    {
     "name": "stdout",
     "output_type": "stream",
     "text": [
      "50보다 큰수는 50을 빼겠습니다.\n",
      "50\n"
     ]
    }
   ],
   "source": [
    "a = 100\n",
    "if a > 50 : # a 값이 50보다 크다면\n",
    "    print (\"50보다 큰수는 50을 빼겠습니다.\") # 50을 뺀다고 출력\n",
    "    a = a - 50 # print와 띄운 칸이 일치하므로 정상적으로 작동\n",
    "print(a) "
   ]
  },
  {
   "cell_type": "code",
   "execution_count": 20,
   "id": "74001498",
   "metadata": {},
   "outputs": [
    {
     "name": "stdout",
     "output_type": "stream",
     "text": [
      "점수를 입력하세요.(0~100)100\n",
      "학점은 A입니다\n"
     ]
    }
   ],
   "source": [
    "# elif 문1\n",
    "# elif문을 사용한 학점 계산\n",
    "x = int(input(\"점수를 입력하세요.(0~100)\")) # 변수 x에 숫자형 값을 입력받음\n",
    "if x >= 90 : print (\"학점은 A입니다\") # x가 90이상이면 학점은 A\n",
    "elif x >= 80 : print (\"학점은 B입니다\") # x가 90이상은 아니고 80이상이면 학점은 B\n",
    "elif x >= 70 : print (\"학점은 C입니다\") # x가 80이상은 아니고 70이상이면 학점은 C\n",
    "elif x >= 60 : print (\"학점은 D입니다\") # x가 70이상은 아니고 60이상이면 학점은 D\n",
    "else : print (\"학점은 F입니다\") # 60점 이상도 아니라면 학점은 F"
   ]
  },
  {
   "cell_type": "code",
   "execution_count": 21,
   "id": "2c590ad3",
   "metadata": {},
   "outputs": [
    {
     "name": "stdout",
     "output_type": "stream",
     "text": [
      "숫자를 입력하세요.12\n",
      "4의 배수인 짝수입니다(당연히 짝수)\n"
     ]
    }
   ],
   "source": [
    "# 중첩 if문\n",
    "# 중첩 if문 예제\n",
    "x = int(input(\"숫자를 입력하세요.\")) # 변수 x에 숫자형 값을 입력받음\n",
    "if x % 2 == 0 : # x를 2로 나눈 나머지가 0이면\n",
    "    if x % 4 ==0 : # x를 4로 나눈 나머지가 0이면\n",
    "        print(\"4의 배수인 짝수입니다(당연히 짝수)\")# 출력\n",
    "    else : # x를 4로 나눈 나머지가 0이 아니라면\n",
    "        print(\"4의 배수가 아닌 짝수입니다\"); # 출력\n",
    "elif x % 3 == 0 : # x를 2로 나눈 나머지가 0이 아니고 3으로 나눈 나머지가 0이면\n",
    "    print(\"3의 배수인 홀수 입니다\") # 출력\n",
    "else : # if조건과 elif 조건 모두 해당하지 않으면 \n",
    "    print (\"3의 배수가 아닌 홀수입니다\") # 출력"
   ]
  },
  {
   "cell_type": "code",
   "execution_count": 47,
   "id": "34b5f9f2",
   "metadata": {},
   "outputs": [
    {
     "name": "stdout",
     "output_type": "stream",
     "text": [
      "***************************************************\n",
      "총금액: 1000000 원  달러환율: 1010.12 $\n",
      "지급달러: 988 $\n",
      "거스름돈: 5 원  은행수수료: 1996 원\n",
      "***************************************************\n"
     ]
    }
   ],
   "source": [
    "# 심화실습\n",
    "myWon = 1000000 # 100만원 입력\n",
    "moneyEx = 1010.12 # 1달러 당 환율\n",
    "commission = 0.002 # 은행수수료 0.002%로 설정\n",
    "\n",
    "usd = int(myWon / moneyEx) # 지급할 달러를 계산\n",
    "remain = int(myWon - usd * moneyEx) # 은행 수수료 계산\n",
    "comPerOne =  moneyEx * commission \n",
    "usd = int(myWon/ (moneyEx + comPerOne)) #  지급할 달러를 수수료 포함해서 다시 계산\n",
    "totalCom = usd * comPerOne # 총 수수료값을 계산\n",
    "\n",
    "if totalCom != (int(totalCom)) : # 소수점 아래가 있으면 올림한다\n",
    "    iTotalCom = int(totalCom) + 1\n",
    "else : \n",
    "    iTotalCom = int(totalCom) # 소수점이 없으면 정수형으로 변환\n",
    "\n",
    "remain = int(myWon - usd * moneyEx- iTotalCom) # 거스름돈 계산\n",
    "\n",
    "print(\"***************************************************\")\n",
    "print(\"총금액:\", myWon,\"원\",\" 달러환율:\", moneyEx,\"$\")\n",
    "print(\"지급달러:\", int(usd),\"$\", )\n",
    "print(\"거스름돈:\", remain,\"원\", \" 은행수수료:\", iTotalCom,\"원\")\n",
    "print(\"***************************************************\")\n"
   ]
  },
  {
   "cell_type": "code",
   "execution_count": null,
   "id": "d292bc7b",
   "metadata": {},
   "outputs": [],
   "source": []
  },
  {
   "cell_type": "code",
   "execution_count": null,
   "id": "ef238baf",
   "metadata": {},
   "outputs": [],
   "source": []
  }
 ],
 "metadata": {
  "kernelspec": {
   "display_name": "Python 3 (ipykernel)",
   "language": "python",
   "name": "python3"
  },
  "language_info": {
   "codemirror_mode": {
    "name": "ipython",
    "version": 3
   },
   "file_extension": ".py",
   "mimetype": "text/x-python",
   "name": "python",
   "nbconvert_exporter": "python",
   "pygments_lexer": "ipython3",
   "version": "3.8.8rc1"
  }
 },
 "nbformat": 4,
 "nbformat_minor": 5
}
