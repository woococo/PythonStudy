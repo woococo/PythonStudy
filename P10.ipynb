{
 "cells": [
  {
   "cell_type": "code",
   "execution_count": 2,
   "id": "e455ebe2",
   "metadata": {},
   "outputs": [
    {
     "data": {
      "text/plain": [
       "('a', 'b', 'c', 'd', 'e')"
      ]
     },
     "execution_count": 2,
     "metadata": {},
     "output_type": "execute_result"
    }
   ],
   "source": [
    "# 문자열의 성격1\n",
    "# 문자형 변수의 성격은 컬렉션의 리스트와 유사함\n",
    "# 문자리스트, 즉 String(문자열)은 첨자로 대응 됨\n",
    "# 한금은 2byte로 처리되나 문자열에서 1개의 첨자에 대응되는 것에 유의할 것\n",
    "a = \"abcde\"\n",
    "a[0], a[1], a[2], a[3], a[4] # 해당 번호의 값"
   ]
  },
  {
   "cell_type": "code",
   "execution_count": 3,
   "id": "703cc1a0",
   "metadata": {},
   "outputs": [
    {
     "data": {
      "text/plain": [
       "('e', 'c', 'c', 'b', 'a')"
      ]
     },
     "execution_count": 3,
     "metadata": {},
     "output_type": "execute_result"
    }
   ],
   "source": [
    "a[-1], a[2], a[-3], a[-4], a[-5] # -를 붙이면 뒤에서 부터 시작"
   ]
  },
  {
   "cell_type": "code",
   "execution_count": 4,
   "id": "64945d30",
   "metadata": {},
   "outputs": [
    {
     "data": {
      "text/plain": [
       "('가', '나', '다', '라', '마')"
      ]
     },
     "execution_count": 4,
     "metadata": {},
     "output_type": "execute_result"
    }
   ],
   "source": [
    "a = \"가나다라마\"\n",
    "a[0], a[1], a[2], a[3], a[4]"
   ]
  },
  {
   "cell_type": "code",
   "execution_count": 5,
   "id": "3f2830ad",
   "metadata": {},
   "outputs": [
    {
     "data": {
      "text/plain": [
       "'bcde'"
      ]
     },
     "execution_count": 5,
     "metadata": {},
     "output_type": "execute_result"
    }
   ],
   "source": [
    "# 문자열 자르기1\n",
    "# 문자 첨자 처리시 [시작:끝]으로 표시 가능 -> 끝에 해당되는 숫자 앞까지 해당됨에 유의\n",
    "# 음수 첨자에 유의할 것\n",
    "a = \"abcde\"\n",
    "a[1:5] # 1부터 5전까지"
   ]
  },
  {
   "cell_type": "code",
   "execution_count": 6,
   "id": "6202cc68",
   "metadata": {},
   "outputs": [
    {
     "data": {
      "text/plain": [
       "'b'"
      ]
     },
     "execution_count": 6,
     "metadata": {},
     "output_type": "execute_result"
    }
   ],
   "source": [
    "a[1:2] # 1부터 2전까지 -> 1만"
   ]
  },
  {
   "cell_type": "code",
   "execution_count": 7,
   "id": "73b8e49c",
   "metadata": {},
   "outputs": [
    {
     "data": {
      "text/plain": [
       "'abcde'"
      ]
     },
     "execution_count": 7,
     "metadata": {},
     "output_type": "execute_result"
    }
   ],
   "source": [
    "a[:6] # 처음부터 6전까지"
   ]
  },
  {
   "cell_type": "code",
   "execution_count": 8,
   "id": "80cd142f",
   "metadata": {},
   "outputs": [
    {
     "data": {
      "text/plain": [
       "'de'"
      ]
     },
     "execution_count": 8,
     "metadata": {},
     "output_type": "execute_result"
    }
   ],
   "source": [
    "a[3:] # 3부터 끝까지"
   ]
  },
  {
   "cell_type": "code",
   "execution_count": 9,
   "id": "7221480d",
   "metadata": {},
   "outputs": [
    {
     "data": {
      "text/plain": [
       "'c'"
      ]
     },
     "execution_count": 9,
     "metadata": {},
     "output_type": "execute_result"
    }
   ],
   "source": [
    "a[2:-2] # 2부터 뒤에서 2까지"
   ]
  },
  {
   "cell_type": "code",
   "execution_count": 10,
   "id": "ebd8c917",
   "metadata": {},
   "outputs": [
    {
     "data": {
      "text/plain": [
       "''"
      ]
     },
     "execution_count": 10,
     "metadata": {},
     "output_type": "execute_result"
    }
   ],
   "source": [
    "a[2:-3] # 2부터 뒤에서 3까지 -> 없음"
   ]
  },
  {
   "cell_type": "code",
   "execution_count": 11,
   "id": "3a3ef79c",
   "metadata": {},
   "outputs": [
    {
     "data": {
      "text/plain": [
       "'bcd'"
      ]
     },
     "execution_count": 11,
     "metadata": {},
     "output_type": "execute_result"
    }
   ],
   "source": [
    "a[1:-1] # 1에서 뒤에서 1까지"
   ]
  },
  {
   "cell_type": "code",
   "execution_count": 12,
   "id": "64c5a83f",
   "metadata": {},
   "outputs": [
    {
     "data": {
      "text/plain": [
       "5"
      ]
     },
     "execution_count": 12,
     "metadata": {},
     "output_type": "execute_result"
    }
   ],
   "source": [
    "# 찾기\n",
    "a = \"abcdefghijklmabcdefgh\"\n",
    "a.find(\"f\") #앞에서 부터 찾음, 찾은 값의 인덱스임"
   ]
  },
  {
   "cell_type": "code",
   "execution_count": 13,
   "id": "65e45c6e",
   "metadata": {},
   "outputs": [
    {
     "data": {
      "text/plain": [
       "18"
      ]
     },
     "execution_count": 13,
     "metadata": {},
     "output_type": "execute_result"
    }
   ],
   "source": [
    "a.rfind(\"f\") #뒤에서 부터 찾음"
   ]
  },
  {
   "cell_type": "code",
   "execution_count": 14,
   "id": "9f12f6ea",
   "metadata": {},
   "outputs": [
    {
     "data": {
      "text/plain": [
       "(8, 8)"
      ]
     },
     "execution_count": 14,
     "metadata": {},
     "output_type": "execute_result"
    }
   ],
   "source": [
    "a.find(\"i\"),a.rfind(\"i\") #만일 찾는 문자가 하나라면 결과는 동일"
   ]
  },
  {
   "cell_type": "code",
   "execution_count": 15,
   "id": "1d6ba5bc",
   "metadata": {},
   "outputs": [
    {
     "data": {
      "text/plain": [
       "(1, 14)"
      ]
     },
     "execution_count": 15,
     "metadata": {},
     "output_type": "execute_result"
    }
   ],
   "source": [
    "a.index(\"b\"),a.rindex(\"b\") #index함수도 결과는 동일"
   ]
  },
  {
   "cell_type": "code",
   "execution_count": 16,
   "id": "eebe2987",
   "metadata": {},
   "outputs": [
    {
     "ename": "ValueError",
     "evalue": "substring not found",
     "output_type": "error",
     "traceback": [
      "\u001b[1;31m---------------------------------------------------------------------------\u001b[0m",
      "\u001b[1;31mValueError\u001b[0m                                Traceback (most recent call last)",
      "Input \u001b[1;32mIn [16]\u001b[0m, in \u001b[0;36m<cell line: 1>\u001b[1;34m()\u001b[0m\n\u001b[1;32m----> 1\u001b[0m \u001b[43ma\u001b[49m\u001b[38;5;241;43m.\u001b[39;49m\u001b[43mrindex\u001b[49m\u001b[43m(\u001b[49m\u001b[38;5;124;43m\"\u001b[39;49m\u001b[38;5;124;43mz\u001b[39;49m\u001b[38;5;124;43m\"\u001b[39;49m\u001b[43m)\u001b[49m\n",
      "\u001b[1;31mValueError\u001b[0m: substring not found"
     ]
    }
   ],
   "source": [
    "a.rindex(\"z\") #하지만 찾는 문자가 없으면 에러발생"
   ]
  },
  {
   "cell_type": "code",
   "execution_count": 17,
   "id": "d9bb8ba6",
   "metadata": {},
   "outputs": [
    {
     "data": {
      "text/plain": [
       "2"
      ]
     },
     "execution_count": 17,
     "metadata": {},
     "output_type": "execute_result"
    }
   ],
   "source": [
    "a.count(\"f\") #해당 문자의 개수를 반환"
   ]
  },
  {
   "cell_type": "code",
   "execution_count": 18,
   "id": "eb44ebcf",
   "metadata": {},
   "outputs": [
    {
     "data": {
      "text/plain": [
       "13"
      ]
     },
     "execution_count": 18,
     "metadata": {},
     "output_type": "execute_result"
    }
   ],
   "source": [
    "a.rfind(\"abc\") #문자열을 넣어도 됨"
   ]
  },
  {
   "cell_type": "code",
   "execution_count": 20,
   "id": "509220d3",
   "metadata": {},
   "outputs": [
    {
     "name": "stdout",
     "output_type": "stream",
     "text": [
      "a가 들어 있음\n",
      "a가 들어 있음\n"
     ]
    }
   ],
   "source": [
    "# 검사\n",
    "a = \"abcdfegabcdfeg\"\n",
    "if a.find(\"f\") > 0:\n",
    "    print (\"a가 들어 있음\")\n",
    "if \"f\" in a : #만일 \"f\"가 a안에 있다면..으로 자연적 영어표현\n",
    "    print (\"a가 들어 있음\")"
   ]
  },
  {
   "cell_type": "code",
   "execution_count": 23,
   "id": "a2a20e64",
   "metadata": {},
   "outputs": [
    {
     "data": {
      "text/plain": [
       "'ABCDEFGH'"
      ]
     },
     "execution_count": 23,
     "metadata": {},
     "output_type": "execute_result"
    }
   ],
   "source": [
    "# 대소문자 바꾸기\n",
    "a = \"abcDefGh\"\n",
    "a.upper() # 문자열을 모두 대문자로 바꿈"
   ]
  },
  {
   "cell_type": "code",
   "execution_count": 22,
   "id": "90768df2",
   "metadata": {},
   "outputs": [
    {
     "data": {
      "text/plain": [
       "'abcdefgh'"
      ]
     },
     "execution_count": 22,
     "metadata": {},
     "output_type": "execute_result"
    }
   ],
   "source": [
    "a = \"abcDefGh\"\n",
    "a.lower() # 문자열을 모두 소문자로 바꿈"
   ]
  },
  {
   "cell_type": "code",
   "execution_count": 24,
   "id": "f47666d8",
   "metadata": {},
   "outputs": [
    {
     "data": {
      "text/plain": [
       "'abcdefhij'"
      ]
     },
     "execution_count": 24,
     "metadata": {},
     "output_type": "execute_result"
    }
   ],
   "source": [
    "# 공백제거\n",
    "a = \" abc def hij \"\n",
    "a.lstrip() # 문자열 왼쪽 끝의 모든 곰백을 지움"
   ]
  },
  {
   "cell_type": "code",
   "execution_count": 25,
   "id": "2709d053",
   "metadata": {},
   "outputs": [
    {
     "data": {
      "text/plain": [
       "' abc def hij'"
      ]
     },
     "execution_count": 25,
     "metadata": {},
     "output_type": "execute_result"
    }
   ],
   "source": [
    "a = \" abc def hij \"\n",
    "a.rstrip() # 문자열 오른쪽 끝의 모든 공백을 지움"
   ]
  },
  {
   "cell_type": "code",
   "execution_count": 26,
   "id": "cca1324d",
   "metadata": {},
   "outputs": [
    {
     "data": {
      "text/plain": [
       "'abc def hij'"
      ]
     },
     "execution_count": 26,
     "metadata": {},
     "output_type": "execute_result"
    }
   ],
   "source": [
    "a=\" abc def hij \" # 문자열 왼쪽 끝과 오른쪽 끝의 모든 공백을 지움\n",
    "a.strip()"
   ]
  },
  {
   "cell_type": "code",
   "execution_count": 27,
   "id": "dc905b31",
   "metadata": {},
   "outputs": [
    {
     "data": {
      "text/plain": [
       "'abcdefhij'"
      ]
     },
     "execution_count": 27,
     "metadata": {},
     "output_type": "execute_result"
    }
   ],
   "source": [
    "a=\" abc def hij \" # 모든 공백을 지움\n",
    "a.replace(\" \",\"\")"
   ]
  },
  {
   "cell_type": "code",
   "execution_count": 2,
   "id": "ab3580f7",
   "metadata": {},
   "outputs": [
    {
     "name": "stdout",
     "output_type": "stream",
     "text": [
      "===============\n",
      "이름:  홍길동\n",
      "국어:  100\n",
      "영어:  95\n",
      "수학:  88\n",
      "===============\n"
     ]
    }
   ],
   "source": [
    "# 구분자로 문자열 나누기1\n",
    "rec = \"홍길동,100,95,88\"\n",
    "\n",
    "item = rec.split(\",\")\n",
    "print(\"=\" * 15)\n",
    "print(\"이름: \", item[0])\n",
    "print(\"국어: \", item[1])\n",
    "print(\"영어: \", item[2])\n",
    "print(\"수학: \", item[3])\n",
    "print(\"=\" * 15)"
   ]
  },
  {
   "cell_type": "code",
   "execution_count": 3,
   "id": "108c37d7",
   "metadata": {
    "scrolled": true
   },
   "outputs": [
    {
     "name": "stdout",
     "output_type": "stream",
     "text": [
      "===============\n",
      "0 ==> 본\n",
      "1 ==> 예제는\n",
      "2 ==> 빈칸으로\n",
      "3 ==> 구분되어\n",
      "4 ==> 있는\n",
      "5 ==> 한\n",
      "6 ==> 줄의\n",
      "7 ==> 데이터를\n",
      "8 ==> 빈칸을\n",
      "9 ==> \n",
      "10 ==> \n",
      "11 ==> \n",
      "12 ==> \n",
      "13 ==> 구분하여\n",
      "14 ==> 나누어\n",
      "15 ==> 줌\n",
      "===============\n"
     ]
    }
   ],
   "source": [
    "# 구분자로 문자열 나누기2\n",
    "rec = \"본 예제는 빈칸으로 구분되어 있는 한 줄의 데이터를 빈칸을     구분하여 나누어 줌\"\n",
    "item = rec.split(\" \") # 빈칸을 기준으로 값을 나눠줌\n",
    "\n",
    "print(\"=\" * 15)\n",
    "i = 0\n",
    "for s in item: # item의 크기만큼 실행되는 반복문\n",
    "    print(i, \"==>\", s)  # 순서를 표시하기 위해 i 출력\n",
    "    i += 1 # i가 1씩 증가\n",
    "print(\"=\" * 15)"
   ]
  },
  {
   "cell_type": "code",
   "execution_count": 30,
   "id": "c0953c55",
   "metadata": {},
   "outputs": [],
   "source": [
    "# 구분자 연습1\n",
    "# 성적표 출력\n",
    "dili_score = [\"나연,100,90,100\", \"정연,90,90,100\", \"모모,80,70,90\", \n",
    "              \"사나,90,90,80\", \"지효,100,80,80\", \"미나,50,90,90\", \n",
    "              \"다현,80,60,100\", \"채영,70,80,90\", \"쯔위,100,90,90\"]"
   ]
  },
  {
   "cell_type": "code",
   "execution_count": 5,
   "id": "32540954",
   "metadata": {},
   "outputs": [
    {
     "name": "stdout",
     "output_type": "stream",
     "text": [
      "[['나연', 100, 90, 100], ['정연', 90, 90, 100], ['모모', 80, 70, 90], ['사나', 90, 90, 80], ['지효', 100, 80, 80], ['미나', 50, 90, 90], ['다현', 80, 60, 100], ['채영', 70, 80, 90], ['쯔위', 100, 90, 90]]\n"
     ]
    }
   ],
   "source": [
    "# 구분자 연습2\n",
    "# [콤마구분자로 나눔, 숫자형 변환, 리스트에 추가]를 유의하여 프로그래밍함\n",
    "dili_score = [\"나연,100,90,100\", \"정연,90,90,100\", \"모모,80,70,90\", \n",
    "              \"사나,90,90,80\", \"지효,100,80,80\", \"미나,50,90,90\", \n",
    "              \"다현,80,60,100\", \"채영,70,80,90\", \"쯔위,100,90,90\"]\n",
    "score = []\n",
    "for one_rec in dili_score:\n",
    "    one_score = one_rec.split(\",\")\n",
    "    one_score[1] = int(one_score[1]) #국어점수 숫자형 변환\n",
    "    one_score[2] = int(one_score[2]) #영어점수 숫자형 변환\n",
    "    one_score[3] = int(one_score[3]) #수학점수 숫자형 변환\n",
    "    score.append(one_score.copy()) # copy에 주의할 것..값 복사\n",
    "print(score)"
   ]
  },
  {
   "cell_type": "code",
   "execution_count": 6,
   "id": "290c9148",
   "metadata": {},
   "outputs": [
    {
     "name": "stdout",
     "output_type": "stream",
     "text": [
      "case1\n",
      "품목: 오징어땅콩  단가: 1000 원 수량: 10 개 합계: 10000 원\n",
      "case2\n",
      "품목:오징어땅콩 단가:1000원 수량:10개 합계:10000원\n",
      "case3\n",
      "품목:오징어땅콩 단가:1000원 수량:10개 합계:10000원\n",
      "case4\n",
      "품목:오징어땅콩      단가:01000원 수량:0x0a개 합계: 10000.000원\n"
     ]
    }
   ],
   "source": [
    "# 포멧팅 정의1\n",
    "# 포멧팅 : 출력 형식을 지시하여 출력하는 방식\n",
    "item = \"오징어땅콩\" # 품목\n",
    "unit = 1000 # 단가\n",
    "qty = 10 # 수량\n",
    "tot = unit * qty # 합계\n",
    "\n",
    "print(\"case1\") # 지금까지 사용한 print방법, 칸이 띄어서 출력\n",
    "print(\"품목:\", item, \" 단가:\", unit, \"원 수량:\", qty, \"개 합계:\", tot, \"원\")\n",
    "print(\"case2\") # 하나의 긴 문자열을 만들어 출력하면 공백없이 출력이가능\n",
    "print(\"품목:\"+item+\" 단가:\"+str(unit)+\"원 수량:\"+str(qty)+\"개 합계:\"+str(tot)+\"원\")\n",
    "print(\"case3\") # 출력포멧문자를 지정하여 원하는 포멧으로 출력이 가능\n",
    "print(\"품목:%s 단가:%d원 수량:%d개 합계:%d원\"%(item,unit,qty,tot))\n",
    "print(\"case4\") # 포멧팅 예\n",
    "print(\"품목:%-10s 단가:%05d원 수량:0x%02x개 합계:%10.3f원\"%(item,unit,qty,tot))"
   ]
  },
  {
   "cell_type": "code",
   "execution_count": 7,
   "id": "f0939646",
   "metadata": {},
   "outputs": [
    {
     "name": "stdout",
     "output_type": "stream",
     "text": [
      "[ 1000][1000 ][01000]\n",
      "[   땅콩][땅콩   ][   땅콩]\n",
      "[1000]=[3e8][0x3e8][1750]\n",
      "[ 1000%]\n",
      "[a][b][c]\n"
     ]
    }
   ],
   "source": [
    "# 포멧팅 문자표현 \n",
    "item = \"땅콩\" # 문자\n",
    "unit = 1000 # 숫자\n",
    "\n",
    "print(\"[%5d][%-5d][%05d]\"%(unit, unit, unit)) \n",
    "print(\"[%5s][%-5s][%05s]\"%(item, item, item))\n",
    "print(\"[%d]=[%x][%#x][%o]\"%(unit, unit, unit, unit))\n",
    "print(\"[%5d%%]\"%unit)\n",
    "\n",
    "# 한글은 1byte로 자르면 에러\n",
    "# print(\"[%c][%c][%c]\"%(unit[0],unit[1]))\n",
    "a = \"abcd\"\n",
    "print(\"[%c][%c][%c]\"%(a[0], a[1], a[2]))"
   ]
  },
  {
   "cell_type": "code",
   "execution_count": 38,
   "id": "977ff035",
   "metadata": {},
   "outputs": [
    {
     "name": "stdout",
     "output_type": "stream",
     "text": [
      "-1,234,567,890.123\n"
     ]
    }
   ],
   "source": [
    "# 숫자에 콤마 찍기\n",
    "import locale # locale라이브러리를 임포트 함, 설치는 필요없음\n",
    "locale.setlocale(locale.LC_ALL, \"\") # 시스템 기본 로케일 사용\n",
    "n = -1234567890.123\n",
    "s = locale.format_string(\"%.3f\", n, 1)\n",
    "print(s)"
   ]
  },
  {
   "cell_type": "code",
   "execution_count": 40,
   "id": "c1ca6c0f",
   "metadata": {},
   "outputs": [
    {
     "name": "stdout",
     "output_type": "stream",
     "text": [
      "***************************************************\n",
      "총금액:    1,000,000원 \t달러환율: $1,010       \n",
      "지급달러: $988         \n",
      "거스름돈:      5원 \t은행수수료:  1,996원\n",
      "***************************************************\n"
     ]
    }
   ],
   "source": [
    "# 포멧팅 실습\n",
    "# 환율 계산\n",
    "import locale #locale라이브러리를 임포트 함, 설치는 필요없음\n",
    "locale.setlocale(locale.LC_ALL, \"\") # 시스템 기본 로케일 사용\n",
    "\n",
    "myWon = 1000000 # 100만원\n",
    "moneyEx = 1010.12 # 달러환율\n",
    "commission_rate = 0.002 # 은행 수수료율\n",
    "a = moneyEx + moneyEx * commission_rate \n",
    "# 1달러당 환율금액 과 해당금액에 대한 수수료의 합\n",
    "usd = int (myWon /a) \n",
    "# 나의 돈을 위의 금액으로 나오면 소수점이 나오기 때문에\n",
    "# 해당 소수점을 버린다 즉 100만원에 989.99달러 나오면\n",
    "# 989달러를 준다. 소수점 아래는 버린다\n",
    "\n",
    "remain = int(myWon - usd * a) \n",
    "# 거스름돈 계산 =100만원 - 달러액*(환율+달러당 수수료)\n",
    "# 소수점 아래는 버린다.\n",
    "\n",
    "commission = usd * moneyEx * commission_rate \n",
    "# 환전 수수료총액 계산, 이 금액은 소수점이하 올림처리해 보자\n",
    "\n",
    "if(commission != float(int(commission))) : # 이 비교문은 소수점이 있는지 체크\n",
    "    commission = int(commission) + 1 #소수점이 있다면 올려서 은행이 처리\n",
    "\n",
    "else :\n",
    "    commission = int(commission) # 소수점 아래 숫자가 없다면 단순 정수형 처리\n",
    "\n",
    "print(\"***************************************************\")\n",
    "print(\"총금액: %s원 \\t달러환율: $%s\"%( \\\n",
    "    locale.format_string(\"%12d\", myWon, 1), \\\n",
    "    locale.format_string(\"%-12d\", moneyEx, 1)) )\n",
    "print(\"지급달러: $%s\"% locale.format_string(\"%-12d\", usd, 1))\n",
    "print(\"거스름돈: %s원 \\t은행수수료: %s원\"%( \\\n",
    "    locale.format_string(\"%6d\", remain, 1), \\\n",
    "    locale.format_string(\"%6d\", commission, 1)) )\n",
    "print(\"***************************************************\")"
   ]
  },
  {
   "cell_type": "code",
   "execution_count": null,
   "id": "9a3393f2",
   "metadata": {},
   "outputs": [],
   "source": []
  }
 ],
 "metadata": {
  "kernelspec": {
   "display_name": "Python 3 (ipykernel)",
   "language": "python",
   "name": "python3"
  },
  "language_info": {
   "codemirror_mode": {
    "name": "ipython",
    "version": 3
   },
   "file_extension": ".py",
   "mimetype": "text/x-python",
   "name": "python",
   "nbconvert_exporter": "python",
   "pygments_lexer": "ipython3",
   "version": "3.8.8"
  }
 },
 "nbformat": 4,
 "nbformat_minor": 5
}
