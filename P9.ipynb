{
 "cells": [
  {
   "cell_type": "code",
   "execution_count": 1,
   "id": "3416eb18",
   "metadata": {},
   "outputs": [
    {
     "data": {
      "text/plain": [
       "95"
      ]
     },
     "execution_count": 1,
     "metadata": {},
     "output_type": "execute_result"
    }
   ],
   "source": [
    "# 딕셔너리 - 정의\n",
    "a = {\"이름\":\"홍길동\", \"국어\":100, \"영어\":88, \"수학\": 95}\n",
    "a[\"수학\"]"
   ]
  },
  {
   "cell_type": "code",
   "execution_count": 2,
   "id": "79adbd98",
   "metadata": {},
   "outputs": [
    {
     "data": {
      "text/plain": [
       "'홍길동'"
      ]
     },
     "execution_count": 2,
     "metadata": {},
     "output_type": "execute_result"
    }
   ],
   "source": [
    "a[\"이름\"]"
   ]
  },
  {
   "cell_type": "code",
   "execution_count": 3,
   "id": "d144bf9d",
   "metadata": {},
   "outputs": [
    {
     "data": {
      "text/plain": [
       "dict_keys(['이름', '국어', '영어', '수학'])"
      ]
     },
     "execution_count": 3,
     "metadata": {},
     "output_type": "execute_result"
    }
   ],
   "source": [
    "# 딕셔너리 - 정의\n",
    "a.keys()"
   ]
  },
  {
   "cell_type": "code",
   "execution_count": 4,
   "id": "73f5b906",
   "metadata": {},
   "outputs": [
    {
     "data": {
      "text/plain": [
       "dict_values(['홍길동', 100, 88, 95])"
      ]
     },
     "execution_count": 4,
     "metadata": {},
     "output_type": "execute_result"
    }
   ],
   "source": [
    "a.values()"
   ]
  },
  {
   "cell_type": "code",
   "execution_count": 5,
   "id": "2e9fbcf6",
   "metadata": {},
   "outputs": [
    {
     "data": {
      "text/plain": [
       "dict_items([('이름', '홍길동'), ('국어', 100), ('영어', 88), ('수학', 95)])"
      ]
     },
     "execution_count": 5,
     "metadata": {},
     "output_type": "execute_result"
    }
   ],
   "source": [
    "a.items()"
   ]
  },
  {
   "cell_type": "code",
   "execution_count": 7,
   "id": "9f495192",
   "metadata": {},
   "outputs": [
    {
     "name": "stdout",
     "output_type": "stream",
     "text": [
      "('이름', '홍길동'),('국어', 100),('영어', 88),('수학', 95),"
     ]
    }
   ],
   "source": [
    "# 딕셔너리 - 정의\n",
    "a={\"이름\":\"홍길동\", \"국어\":100, \"영어\":88, \"수학\": 95}\n",
    "for i in a.items() :\n",
    "    print(i, end = \",\")"
   ]
  },
  {
   "cell_type": "code",
   "execution_count": 8,
   "id": "6cd99709",
   "metadata": {},
   "outputs": [
    {
     "name": "stdout",
     "output_type": "stream",
     "text": [
      "이름,국어,영어,수학,"
     ]
    }
   ],
   "source": [
    "for i in a.keys():\n",
    "    print (i,end=\",\")"
   ]
  },
  {
   "cell_type": "code",
   "execution_count": 9,
   "id": "2b62f976",
   "metadata": {},
   "outputs": [
    {
     "name": "stdout",
     "output_type": "stream",
     "text": [
      "홍길동,100,88,95,"
     ]
    }
   ],
   "source": [
    "for i in a.values():\n",
    "    print (i,end=\",\")"
   ]
  },
  {
   "cell_type": "code",
   "execution_count": 10,
   "id": "3ce36e85",
   "metadata": {},
   "outputs": [
    {
     "name": "stdout",
     "output_type": "stream",
     "text": [
      "None\n"
     ]
    }
   ],
   "source": [
    "# 딕셔너리 - 정의\n",
    "a={\"이름\":\"홍길동\", \"국어\":100, \"영어\":88, \"수학\": 95}\n",
    "print(a.get(\"과학\"))"
   ]
  },
  {
   "cell_type": "code",
   "execution_count": 11,
   "id": "d65fc70a",
   "metadata": {},
   "outputs": [
    {
     "name": "stdout",
     "output_type": "stream",
     "text": [
      "없는과목입니다\n"
     ]
    }
   ],
   "source": [
    "print(a.get(\"과학\",\"없는과목입니다\"))"
   ]
  },
  {
   "cell_type": "code",
   "execution_count": 13,
   "id": "d2beacad",
   "metadata": {},
   "outputs": [
    {
     "name": "stdout",
     "output_type": "stream",
     "text": [
      "95\n"
     ]
    }
   ],
   "source": [
    "print(a.get(\"수학\",\"없는과목입니다\"))"
   ]
  },
  {
   "cell_type": "code",
   "execution_count": 14,
   "id": "049a90b1",
   "metadata": {},
   "outputs": [
    {
     "name": "stdout",
     "output_type": "stream",
     "text": [
      "{'안': 1, '녕': 1, '하': 1, '셔': 1, '요': 3, '.': 2, ' ': 12, '오': 1, '늘': 1, '은': 2, '날': 1, '씨': 1, '가': 2, '매': 2, '우': 2, '화': 1, '창': 1, '합': 1, '니': 1, '다': 1, '그': 1, '래': 1, '서': 1, '기': 2, '분': 2, '이': 2, '좋': 2, '네': 1, '\\n': 1, '너': 1, '도': 1, '랄': 3, '라': 7, 'a': 1, 'b': 1, 'c': 1, '임': 1, '마': 1}\n"
     ]
    }
   ],
   "source": [
    "text=\"\"\"안녕하셔요. 오늘은 날씨가 매우 화창합니다. 그래서 기분이 매우 좋네요\n",
    "너도 기분이 좋은가요 랄라랄랄라라라라라라 abc임마\"\"\"\n",
    "\n",
    "a=dict() #하나의 딕셔너리 자료형을 정의\n",
    "for c in text: #위에 정의한 텍스트를 하나씩 추출하여 처리\n",
    "    if c not in a: #해당 추출글자가 지금까지의 딕셔너리에 없다면\n",
    "        a[c]=1 #그때는 최초 1값으로 시작\n",
    "    else: #이 경우는 해당 추출글자의 딕셔너리가 있다\n",
    "        a[c] +=1 #그럼 해당 딕셔너리 키에 해당되는 값을 하나더함\n",
    "print(a)"
   ]
  },
  {
   "cell_type": "code",
   "execution_count": 15,
   "id": "bdfcf10b",
   "metadata": {},
   "outputs": [
    {
     "name": "stdout",
     "output_type": "stream",
     "text": [
      "{'\\n': 1, ' ': 12, '.': 2, 'a': 1, 'b': 1, 'c': 1, '가': 2, '그': 1, '기': 2, '날': 1, '너': 1, '네': 1, '녕': 1, '늘': 1, '니': 1, '다': 1, '도': 1, '라': 7, '랄': 3, '래': 1, '마': 1, '매': 2, '분': 2, '서': 1, '셔': 1, '씨': 1, '안': 1, '오': 1, '요': 3, '우': 2, '은': 2, '이': 2, '임': 1, '좋': 2, '창': 1, '하': 1, '합': 1, '화': 1}\n"
     ]
    }
   ],
   "source": [
    "#아래서 부터는 보기 힘드니 각 글자(키)를 소트해 본다\n",
    "b=dict() #딕셔너리 하나 더 정의\n",
    "l=list(a.keys()) #앞에 딕서너리에 키만 뽑아 리스트를 만듦\n",
    "l.sort() #해당 리스트 소트\n",
    "for c in l: #각 리스트에 대하여 (결국 키값) 하나씩 뽑음\n",
    "    b[c]=a[c] # 새로운 딕셔너리는 키값 순서데로 다시 만듦\n",
    "print(b)"
   ]
  },
  {
   "cell_type": "code",
   "execution_count": 16,
   "id": "d611bdc1",
   "metadata": {},
   "outputs": [
    {
     "data": {
      "text/plain": [
       "{1, 2, 3, 4, 5}"
      ]
     },
     "execution_count": 16,
     "metadata": {},
     "output_type": "execute_result"
    }
   ],
   "source": [
    "# 집합\n",
    "a ={1,2,2,2,2,3,3,3,4,5}\n",
    "a"
   ]
  },
  {
   "cell_type": "code",
   "execution_count": 17,
   "id": "b9082316",
   "metadata": {},
   "outputs": [
    {
     "data": {
      "text/plain": [
       "{1, 2, 'a'}"
      ]
     },
     "execution_count": 17,
     "metadata": {},
     "output_type": "execute_result"
    }
   ],
   "source": [
    "set((\"a\",1,2))"
   ]
  },
  {
   "cell_type": "code",
   "execution_count": 18,
   "id": "50285735",
   "metadata": {},
   "outputs": [
    {
     "data": {
      "text/plain": [
       "{'a'}"
      ]
     },
     "execution_count": 18,
     "metadata": {},
     "output_type": "execute_result"
    }
   ],
   "source": [
    "set(\"a\")"
   ]
  },
  {
   "cell_type": "code",
   "execution_count": 19,
   "id": "d3492ba6",
   "metadata": {},
   "outputs": [
    {
     "data": {
      "text/plain": [
       "{'국어', '수학', '영어', '이름'}"
      ]
     },
     "execution_count": 19,
     "metadata": {},
     "output_type": "execute_result"
    }
   ],
   "source": [
    "set({\"이름\":\"홍길동\", \"국어\":100, \"영어\":88, \"수학\": 95})"
   ]
  },
  {
   "cell_type": "code",
   "execution_count": 20,
   "id": "af2cd0fc",
   "metadata": {},
   "outputs": [
    {
     "data": {
      "text/plain": [
       "{1, 2, 3, 4, 5}"
      ]
     },
     "execution_count": 20,
     "metadata": {},
     "output_type": "execute_result"
    }
   ],
   "source": [
    "# 집합의 정의\n",
    "a={1,2,3,4,5}\n",
    "a"
   ]
  },
  {
   "cell_type": "code",
   "execution_count": 21,
   "id": "416cb066",
   "metadata": {},
   "outputs": [
    {
     "data": {
      "text/plain": [
       "{0, 1, 2, 3, 4, 5}"
      ]
     },
     "execution_count": 21,
     "metadata": {},
     "output_type": "execute_result"
    }
   ],
   "source": [
    "a.add(0)\n",
    "a"
   ]
  },
  {
   "cell_type": "code",
   "execution_count": 22,
   "id": "13920c28",
   "metadata": {},
   "outputs": [
    {
     "data": {
      "text/plain": [
       "{0, 1, 2, 2.4, 3, 4, 5}"
      ]
     },
     "execution_count": 22,
     "metadata": {},
     "output_type": "execute_result"
    }
   ],
   "source": [
    "a.add(2.4)\n",
    "a"
   ]
  },
  {
   "cell_type": "code",
   "execution_count": 23,
   "id": "b4dd4b02",
   "metadata": {},
   "outputs": [
    {
     "data": {
      "text/plain": [
       "{0, 1, 2, 2.4, 4, 5}"
      ]
     },
     "execution_count": 23,
     "metadata": {},
     "output_type": "execute_result"
    }
   ],
   "source": [
    "a.remove(3)\n",
    "a"
   ]
  },
  {
   "cell_type": "code",
   "execution_count": 24,
   "id": "1c3668f5",
   "metadata": {},
   "outputs": [
    {
     "data": {
      "text/plain": [
       "{1, 2, 3, 4, 5, 6, 7, 8, 9, 10}"
      ]
     },
     "execution_count": 24,
     "metadata": {},
     "output_type": "execute_result"
    }
   ],
   "source": [
    "# 집합 - 연산\n",
    "A={1,2,3,4,5,6,7}\n",
    "B={7,8,9,10}\n",
    "A|B"
   ]
  },
  {
   "cell_type": "code",
   "execution_count": 25,
   "id": "a7c1bca9",
   "metadata": {},
   "outputs": [
    {
     "data": {
      "text/plain": [
       "{7}"
      ]
     },
     "execution_count": 25,
     "metadata": {},
     "output_type": "execute_result"
    }
   ],
   "source": [
    "A&B"
   ]
  },
  {
   "cell_type": "code",
   "execution_count": 26,
   "id": "5a5851e6",
   "metadata": {},
   "outputs": [
    {
     "data": {
      "text/plain": [
       "{1, 2, 3, 4, 5, 6}"
      ]
     },
     "execution_count": 26,
     "metadata": {},
     "output_type": "execute_result"
    }
   ],
   "source": [
    "A-B"
   ]
  },
  {
   "cell_type": "code",
   "execution_count": 33,
   "id": "5a331ea5",
   "metadata": {},
   "outputs": [
    {
     "data": {
      "text/plain": [
       "False"
      ]
     },
     "execution_count": 33,
     "metadata": {},
     "output_type": "execute_result"
    }
   ],
   "source": [
    "# 집합의 연산\n",
    "{1,2,3} < {1,2}"
   ]
  },
  {
   "cell_type": "code",
   "execution_count": 28,
   "id": "f6cae157",
   "metadata": {},
   "outputs": [
    {
     "data": {
      "text/plain": [
       "True"
      ]
     },
     "execution_count": 28,
     "metadata": {},
     "output_type": "execute_result"
    }
   ],
   "source": [
    " {1,2,3} > {1,2}"
   ]
  },
  {
   "cell_type": "code",
   "execution_count": 29,
   "id": "82673ba9",
   "metadata": {},
   "outputs": [
    {
     "data": {
      "text/plain": [
       "True"
      ]
     },
     "execution_count": 29,
     "metadata": {},
     "output_type": "execute_result"
    }
   ],
   "source": [
    " {1,2,3} >= {1,2}"
   ]
  },
  {
   "cell_type": "code",
   "execution_count": 30,
   "id": "bbcff85f",
   "metadata": {},
   "outputs": [
    {
     "data": {
      "text/plain": [
       "False"
      ]
     },
     "execution_count": 30,
     "metadata": {},
     "output_type": "execute_result"
    }
   ],
   "source": [
    " {1,2,3} == {1,2}"
   ]
  },
  {
   "cell_type": "code",
   "execution_count": 40,
   "id": "3384130b",
   "metadata": {},
   "outputs": [
    {
     "data": {
      "text/plain": [
       "True"
      ]
     },
     "execution_count": 40,
     "metadata": {},
     "output_type": "execute_result"
    }
   ],
   "source": [
    "{1,2,3} >= {3,1,2}"
   ]
  },
  {
   "cell_type": "code",
   "execution_count": 32,
   "id": "e7255e65",
   "metadata": {},
   "outputs": [
    {
     "data": {
      "text/plain": [
       "True"
      ]
     },
     "execution_count": 32,
     "metadata": {},
     "output_type": "execute_result"
    }
   ],
   "source": [
    "{1,2,3} == {3,1,2}"
   ]
  },
  {
   "cell_type": "code",
   "execution_count": 34,
   "id": "d98855bb",
   "metadata": {},
   "outputs": [
    {
     "data": {
      "text/plain": [
       "{0: 'a', 1: 'b', 2: 'c', 3: 'd', 4: 'e'}"
      ]
     },
     "execution_count": 34,
     "metadata": {},
     "output_type": "execute_result"
    }
   ],
   "source": [
    "# 컬렉션으로 변환\n",
    "a=[\"a\",\"b\",\"c\",\"d\",\"e\"]\n",
    "b={}\n",
    "for i in range (len(a)):\n",
    "    b[i]=a[i] #a는 리스트 b는 딕셔너리\n",
    "b"
   ]
  },
  {
   "cell_type": "code",
   "execution_count": 35,
   "id": "00af1c53",
   "metadata": {},
   "outputs": [
    {
     "data": {
      "text/plain": [
       "<enumerate at 0x17940824880>"
      ]
     },
     "execution_count": 35,
     "metadata": {},
     "output_type": "execute_result"
    }
   ],
   "source": [
    "# 컬렉션으로 변환\n",
    "a=[\"a\",\"b\",\"c\",\"d\",\"e\"]\n",
    "b=enumerate(a) #여기 까지는 중간단계\n",
    "b"
   ]
  },
  {
   "cell_type": "code",
   "execution_count": 36,
   "id": "da843903",
   "metadata": {},
   "outputs": [
    {
     "data": {
      "text/plain": [
       "{0: 'a', 1: 'b', 2: 'c', 3: 'd', 4: 'e'}"
      ]
     },
     "execution_count": 36,
     "metadata": {},
     "output_type": "execute_result"
    }
   ],
   "source": [
    "b=dict(enumerate(a)); c=list(enumerate(a)) #딕셔너리와 리스트를 만든다\n",
    "b"
   ]
  },
  {
   "cell_type": "code",
   "execution_count": 37,
   "id": "0d175bae",
   "metadata": {},
   "outputs": [
    {
     "data": {
      "text/plain": [
       "[(0, 'a'), (1, 'b'), (2, 'c'), (3, 'd'), (4, 'e')]"
      ]
     },
     "execution_count": 37,
     "metadata": {},
     "output_type": "execute_result"
    }
   ],
   "source": [
    "c"
   ]
  },
  {
   "cell_type": "code",
   "execution_count": 38,
   "id": "4021e522",
   "metadata": {},
   "outputs": [
    {
     "data": {
      "text/plain": [
       "<zip at 0x179407ac580>"
      ]
     },
     "execution_count": 38,
     "metadata": {},
     "output_type": "execute_result"
    }
   ],
   "source": [
    "# 컬렉션으로 변환\n",
    "a={1,2,3,4,5,6,7,8} #집합a\n",
    "b={\"a\",\"b\",\"c\",\"d\",\"e\"} #집합b\n",
    "zip(a,b) #zip만으로는 단순히 object임"
   ]
  },
  {
   "cell_type": "code",
   "execution_count": 39,
   "id": "acf70c04",
   "metadata": {},
   "outputs": [
    {
     "data": {
      "text/plain": [
       "{1: 'a', 2: 'e', 3: 'c', 4: 'b', 5: 'd'}"
      ]
     },
     "execution_count": 39,
     "metadata": {},
     "output_type": "execute_result"
    }
   ],
   "source": [
    "c=dict(zip(a,b));d=list(zip(a,b))\n",
    "c"
   ]
  },
  {
   "cell_type": "code",
   "execution_count": 41,
   "id": "38c8e67e",
   "metadata": {},
   "outputs": [
    {
     "data": {
      "text/plain": [
       "[(1, 'a'), (2, 'e'), (3, 'c'), (4, 'b'), (5, 'd')]"
      ]
     },
     "execution_count": 41,
     "metadata": {},
     "output_type": "execute_result"
    }
   ],
   "source": [
    "d"
   ]
  },
  {
   "cell_type": "code",
   "execution_count": 42,
   "id": "07aa38f3",
   "metadata": {},
   "outputs": [
    {
     "data": {
      "text/plain": [
       "{1: 'a', 2: 'b', 3: 'c', 4: 'd', 5: 'e'}"
      ]
     },
     "execution_count": 42,
     "metadata": {},
     "output_type": "execute_result"
    }
   ],
   "source": [
    "a=(1,2,3,4,5,6,7,8) #튜플a\n",
    "b=[\"a\",\"b\",\"c\",\"d\",\"e\"] #리스트 b\n",
    "c=dict(zip(a,b));d=list(zip(a,b))\n",
    "c"
   ]
  },
  {
   "cell_type": "code",
   "execution_count": 43,
   "id": "40e9560c",
   "metadata": {},
   "outputs": [
    {
     "data": {
      "text/plain": [
       "[(1, 'a'), (2, 'b'), (3, 'c'), (4, 'd'), (5, 'e')]"
      ]
     },
     "execution_count": 43,
     "metadata": {},
     "output_type": "execute_result"
    }
   ],
   "source": [
    "d"
   ]
  },
  {
   "cell_type": "code",
   "execution_count": 44,
   "id": "0568cf96",
   "metadata": {},
   "outputs": [
    {
     "name": "stdout",
     "output_type": "stream",
     "text": [
      "1\n",
      "2\n",
      "3\n",
      "4\n",
      "5\n",
      "6\n"
     ]
    }
   ],
   "source": [
    "# 함수 인자에 컬렉션 값을 차례로 대입\n",
    "def func(x):\n",
    "    return x/2\n",
    "x=(1,2,3,4,5,6)\n",
    "for i in filter(func,x):\n",
    "    print(i)"
   ]
  },
  {
   "cell_type": "code",
   "execution_count": 45,
   "id": "93f97f0b",
   "metadata": {},
   "outputs": [
    {
     "name": "stdout",
     "output_type": "stream",
     "text": [
      "8\n",
      "10\n",
      "12\n",
      "14\n",
      "16\n",
      "18\n"
     ]
    }
   ],
   "source": [
    "# 함수 인자에 컬렉션 값을 차례로 대입\n",
    "def func(x,y):\n",
    "    return x+y\n",
    "\n",
    "x=(1,2,3,4,5,6)\n",
    "y=(7,8,9,10,11,12)\n",
    "#for i in filter(func,x,y): #filter를 사용하면 에러\n",
    "for i in map(func,x,y):\n",
    "    print(i)"
   ]
  },
  {
   "cell_type": "code",
   "execution_count": 46,
   "id": "c8c94ebd",
   "metadata": {},
   "outputs": [
    {
     "name": "stdout",
     "output_type": "stream",
     "text": [
      "8\n",
      "10\n",
      "12\n",
      "14\n",
      "16\n",
      "18\n"
     ]
    }
   ],
   "source": [
    "# 함수 인자에 컬렉션 값을 차례로 대입\n",
    "x=(1,2,3,4,5,6)\n",
    "y=(7,8,9,10,11,12)\n",
    "for i in map(lambda x,y:x+y, x,y):\n",
    "    print(i)"
   ]
  },
  {
   "cell_type": "code",
   "execution_count": 48,
   "id": "55b2dfa8",
   "metadata": {},
   "outputs": [
    {
     "data": {
      "text/plain": [
       "[1, 2, 5]"
      ]
     },
     "execution_count": 48,
     "metadata": {},
     "output_type": "execute_result"
    }
   ],
   "source": [
    "#copy\n",
    "a=[1,2,3]\n",
    "b=a\n",
    "b[2]=5\n",
    "a"
   ]
  },
  {
   "cell_type": "code",
   "execution_count": 49,
   "id": "708f5be2",
   "metadata": {},
   "outputs": [
    {
     "data": {
      "text/plain": [
       "[1, 2, 5]"
      ]
     },
     "execution_count": 49,
     "metadata": {},
     "output_type": "execute_result"
    }
   ],
   "source": [
    "b"
   ]
  },
  {
   "cell_type": "code",
   "execution_count": 50,
   "id": "caae6105",
   "metadata": {},
   "outputs": [
    {
     "data": {
      "text/plain": [
       "[1, 3, 5]"
      ]
     },
     "execution_count": 50,
     "metadata": {},
     "output_type": "execute_result"
    }
   ],
   "source": [
    "b[1]=3\n",
    "a"
   ]
  },
  {
   "cell_type": "code",
   "execution_count": 52,
   "id": "ced1f7c9",
   "metadata": {},
   "outputs": [
    {
     "data": {
      "text/plain": [
       "[1, 2, 3]"
      ]
     },
     "execution_count": 52,
     "metadata": {},
     "output_type": "execute_result"
    }
   ],
   "source": [
    "# copy\n",
    "a=[1,2,3]\n",
    "b=a[:]\n",
    "b[2]=5\n",
    "a"
   ]
  },
  {
   "cell_type": "code",
   "execution_count": 53,
   "id": "7ba1062b",
   "metadata": {},
   "outputs": [
    {
     "data": {
      "text/plain": [
       "[1, 2, 5]"
      ]
     },
     "execution_count": 53,
     "metadata": {},
     "output_type": "execute_result"
    }
   ],
   "source": [
    "b"
   ]
  },
  {
   "cell_type": "code",
   "execution_count": 54,
   "id": "3ff3d540",
   "metadata": {},
   "outputs": [
    {
     "data": {
      "text/plain": [
       "[1, 2, 3]"
      ]
     },
     "execution_count": 54,
     "metadata": {},
     "output_type": "execute_result"
    }
   ],
   "source": [
    "a=[1,2,3]\n",
    "b=a.copy()\n",
    "b[2]=5\n",
    "a"
   ]
  },
  {
   "cell_type": "code",
   "execution_count": 55,
   "id": "9844ce4e",
   "metadata": {},
   "outputs": [
    {
     "data": {
      "text/plain": [
       "[1, 2, 5]"
      ]
     },
     "execution_count": 55,
     "metadata": {},
     "output_type": "execute_result"
    }
   ],
   "source": [
    "b"
   ]
  },
  {
   "cell_type": "code",
   "execution_count": 56,
   "id": "ac889c21",
   "metadata": {},
   "outputs": [
    {
     "data": {
      "text/plain": [
       "[[1, 2], 3, 4]"
      ]
     },
     "execution_count": 56,
     "metadata": {},
     "output_type": "execute_result"
    }
   ],
   "source": [
    "# deepcopy\n",
    "a=[[1,2],3,4]\n",
    "b=a.copy()\n",
    "b"
   ]
  },
  {
   "cell_type": "code",
   "execution_count": 57,
   "id": "73031791",
   "metadata": {},
   "outputs": [
    {
     "data": {
      "text/plain": [
       "[[1, 3], 3, 4]"
      ]
     },
     "execution_count": 57,
     "metadata": {},
     "output_type": "execute_result"
    }
   ],
   "source": [
    "b[0][1]=3\n",
    "b"
   ]
  },
  {
   "cell_type": "code",
   "execution_count": 58,
   "id": "d9cf4cea",
   "metadata": {},
   "outputs": [
    {
     "data": {
      "text/plain": [
       "[[1, 3], 3, 4]"
      ]
     },
     "execution_count": 58,
     "metadata": {},
     "output_type": "execute_result"
    }
   ],
   "source": [
    "a"
   ]
  },
  {
   "cell_type": "code",
   "execution_count": 60,
   "id": "c2fcdf12",
   "metadata": {},
   "outputs": [
    {
     "data": {
      "text/plain": [
       "[[1, 2], 3, 4]"
      ]
     },
     "execution_count": 60,
     "metadata": {},
     "output_type": "execute_result"
    }
   ],
   "source": [
    "a=[[1,2],3,4]\n",
    "b=a[ : ]\n",
    "b"
   ]
  },
  {
   "cell_type": "code",
   "execution_count": 61,
   "id": "0125c6bf",
   "metadata": {},
   "outputs": [
    {
     "data": {
      "text/plain": [
       "[[1, 3], 3, 4]"
      ]
     },
     "execution_count": 61,
     "metadata": {},
     "output_type": "execute_result"
    }
   ],
   "source": [
    "b[0][1]=3\n",
    "a"
   ]
  },
  {
   "cell_type": "code",
   "execution_count": 62,
   "id": "6a90ca22",
   "metadata": {},
   "outputs": [
    {
     "name": "stdout",
     "output_type": "stream",
     "text": [
      "[[1, 2], 3, 4] [[1, 3], 3, 4]\n"
     ]
    }
   ],
   "source": [
    "import copy as c\n",
    "\n",
    "a=[[1,2],3,4]\n",
    "b=c.deepcopy(a)\n",
    "b[0][1]=3\n",
    "print(a,b)"
   ]
  },
  {
   "cell_type": "code",
   "execution_count": null,
   "id": "cd05216b",
   "metadata": {},
   "outputs": [],
   "source": []
  }
 ],
 "metadata": {
  "kernelspec": {
   "display_name": "Python 3 (ipykernel)",
   "language": "python",
   "name": "python3"
  },
  "language_info": {
   "codemirror_mode": {
    "name": "ipython",
    "version": 3
   },
   "file_extension": ".py",
   "mimetype": "text/x-python",
   "name": "python",
   "nbconvert_exporter": "python",
   "pygments_lexer": "ipython3",
   "version": "3.8.8rc1"
  }
 },
 "nbformat": 4,
 "nbformat_minor": 5
}
