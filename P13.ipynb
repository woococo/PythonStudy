{
 "cells": [
  {
   "cell_type": "code",
   "execution_count": 5,
   "id": "1f295aa2",
   "metadata": {},
   "outputs": [
    {
     "ename": "NameError",
     "evalue": "name 'elevator' is not defined",
     "output_type": "error",
     "traceback": [
      "\u001b[1;31m---------------------------------------------------------------------------\u001b[0m",
      "\u001b[1;31mNameError\u001b[0m                                 Traceback (most recent call last)",
      "Input \u001b[1;32mIn [5]\u001b[0m, in \u001b[0;36m<cell line: 1>\u001b[1;34m()\u001b[0m\n\u001b[1;32m----> 1\u001b[0m myclass \u001b[38;5;241m=\u001b[39m \u001b[43melevator\u001b[49m(\u001b[38;5;241m1\u001b[39m,\u001b[38;5;241m15\u001b[39m,\u001b[38;5;241m0\u001b[39m,\u001b[38;5;124m\"\u001b[39m\u001b[38;5;124m\"\u001b[39m) \u001b[38;5;66;03m#(현재1층, 최저0층, 최고15층, 메시지)\u001b[39;00m\n\u001b[0;32m      2\u001b[0m \u001b[38;5;66;03m#값으로 클래스생성\u001b[39;00m\n\u001b[0;32m      3\u001b[0m \u001b[38;5;28;01mfor\u001b[39;00m i \u001b[38;5;129;01min\u001b[39;00m \u001b[38;5;28mrange\u001b[39m(\u001b[38;5;241m20\u001b[39m): \u001b[38;5;66;03m#20번 up()를 실행\u001b[39;00m\n",
      "\u001b[1;31mNameError\u001b[0m: name 'elevator' is not defined"
     ]
    }
   ],
   "source": [
    "myclass = elevator(1,15,0,\"\") #(현재1층, 최저0층, 최고15층, 메시지)\n",
    "#값으로 클래스생성\n",
    "for i in range(20): #20번 up()를 실행\n",
    "    myclass.up()\n",
    "for i in range(20): #20번 down()을 실\n",
    "    myclass.down()"
   ]
  },
  {
   "cell_type": "code",
   "execution_count": 3,
   "id": "971d5563",
   "metadata": {},
   "outputs": [
    {
     "ename": "SyntaxError",
     "evalue": "invalid syntax (3895714443.py, line 1)",
     "output_type": "error",
     "traceback": [
      "\u001b[1;36m  Input \u001b[1;32mIn [3]\u001b[1;36m\u001b[0m\n\u001b[1;33m    void main()\u001b[0m\n\u001b[1;37m         ^\u001b[0m\n\u001b[1;31mSyntaxError\u001b[0m\u001b[1;31m:\u001b[0m invalid syntax\n"
     ]
    }
   ],
   "source": [
    "void main()\n",
    "{\n",
    "    class *myclass elevator;\n",
    "    if(올라가라는 전기 신호가 왔다면) \n",
    "        myclass->up();\n",
    "    else if(내려가라는 전기 신호가 왔다면)\n",
    "        myclass->down();\n",
    "}\n"
   ]
  },
  {
   "cell_type": "code",
   "execution_count": 8,
   "id": "2c7cd4ee",
   "metadata": {},
   "outputs": [],
   "source": [
    "class elevator:\n",
    "    def __init__(self,floor,limit_up_floor,limit_down_floor,msg ):\n",
    "        self.floor=floor\n",
    "        self.limit_up_floor=limit_up_floor\n",
    "        self.limit_down_floor=limit_down_floor\n",
    "        self.msg=msg \n",
    "    def up(self):\n",
    "        if self.floor == self.limit_up_floor:\n",
    "            self.msgsg=\"최상층 입니다\"\n",
    "        else:\n",
    "            self.floor+=1\n",
    "            self.msg=str(self.floor)+\"층입니다\"\n",
    "        print(self.msg)\n",
    "    def down(self):\n",
    "        if self.floor == self.limit_down_floor:\n",
    "            self.msg=\"최하층 입니다\"\n",
    "        else:\n",
    "            self.floor-=1\n",
    "            self.msg=str(self.floor)+\"층입니다\"\n",
    "        print(self.msg)"
   ]
  },
  {
   "cell_type": "code",
   "execution_count": null,
   "id": "19cb7ae5",
   "metadata": {},
   "outputs": [],
   "source": []
  },
  {
   "cell_type": "code",
   "execution_count": null,
   "id": "6ebfc428",
   "metadata": {},
   "outputs": [],
   "source": []
  }
 ],
 "metadata": {
  "kernelspec": {
   "display_name": "Python 3 (ipykernel)",
   "language": "python",
   "name": "python3"
  },
  "language_info": {
   "codemirror_mode": {
    "name": "ipython",
    "version": 3
   },
   "file_extension": ".py",
   "mimetype": "text/x-python",
   "name": "python",
   "nbconvert_exporter": "python",
   "pygments_lexer": "ipython3",
   "version": "3.8.8"
  }
 },
 "nbformat": 4,
 "nbformat_minor": 5
}
