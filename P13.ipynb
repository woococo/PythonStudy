{
 "cells": [
  {
   "cell_type": "code",
   "execution_count": 66,
   "id": "bd99b67c",
   "metadata": {},
   "outputs": [
    {
     "name": "stdout",
     "output_type": "stream",
     "text": [
      "2층입니다\n",
      "3층입니다\n",
      "4층입니다\n",
      "5층입니다\n",
      "6층입니다\n",
      "7층입니다\n",
      "8층입니다\n",
      "9층입니다\n",
      "10층입니다\n",
      "11층입니다\n",
      "12층입니다\n",
      "13층입니다\n",
      "14층입니다\n",
      "15층입니다\n",
      "최상층 입니다\n",
      "최상층 입니다\n",
      "최상층 입니다\n",
      "최상층 입니다\n",
      "최상층 입니다\n",
      "최상층 입니다\n",
      "14층입니다\n",
      "13층입니다\n",
      "12층입니다\n",
      "11층입니다\n",
      "10층입니다\n",
      "9층입니다\n",
      "8층입니다\n",
      "7층입니다\n",
      "6층입니다\n",
      "5층입니다\n",
      "4층입니다\n",
      "3층입니다\n",
      "2층입니다\n",
      "1층입니다\n",
      "0층입니다\n",
      "최하층 입니다\n",
      "최하층 입니다\n",
      "최하층 입니다\n",
      "최하층 입니다\n",
      "최하층 입니다\n"
     ]
    }
   ],
   "source": [
    "# 파이썬 클래스\n",
    "\n",
    "# 클래스 부분 구성\n",
    "class elevator: # 엘리베이터 클래스를 생성하고 클래스 내부의 함수를 생성\n",
    "    # self: 클래스를 호출하면 하나의 복제물(인스턴스)\n",
    "    # 각 함수의 첫 글자엔 self 기입\n",
    "    # 클래스 내에서 사용되는 변수들에게 self.floor와 같은 방식으로 값을 가지고 있음\n",
    "    # 클래스 호출하면 self, 최상층, 최하층, 메세지 인수를 입력\n",
    "    def __init__(self, floor, limit_up_floor, limit_down_floor, msg ):\n",
    "        self.floor = floor # 현재 층\n",
    "        self.limit_up_floor = limit_up_floor # 최상층\n",
    "        self.limit_down_floor = limit_down_floor # 최하층\n",
    "        self.msg = msg # 안내문\n",
    "    def up(self): # 엘리베이터 상승 함수\n",
    "        if self.floor == self.limit_up_floor:# 현재 층이 최상층에 도달하면\n",
    "            self.msg = \"최상층 입니다\" # 최상층이라고 안내\n",
    "        else:\n",
    "            self.floor += 1 # 현재 층에 1씩 더한다\n",
    "            self.msg = str(self.floor) + \"층입니다\" # 현재층수 출력\n",
    "        print(self.msg)\n",
    "    def down(self): # 엘리베이터 하강 함수\n",
    "        if self.floor == self.limit_down_floor:  # 현재층이 최하층에 도달하면\n",
    "            self.msg = \"최하층 입니다\" # 최하층이라고 안내\n",
    "        else:\n",
    "            self.floor -= 1 # 현재 층에 1씩 뺀다\n",
    "            self.msg = str(self.floor) + \"층입니다\" # 현재 층수 출력\n",
    "        print(self.msg)\n",
    "\n",
    "# 클래스를 이용한 메인 처리 부분\n",
    "myclass = elevator(1,15,0,\"\") # (현재 1층, 최저 0층, 최고 15층, 메시지)\n",
    "\n",
    "for i in range(20): #20번 up()을 실행\n",
    "    myclass.up()\n",
    "for i in range(20): #20번 down()을 실행\n",
    "    myclass.down()"
   ]
  },
  {
   "cell_type": "code",
   "execution_count": 67,
   "id": "99f467b7",
   "metadata": {},
   "outputs": [
    {
     "name": "stdout",
     "output_type": "stream",
     "text": [
      "myclass->2층입니다\n",
      "yourclass->6층입니다\n",
      "myclass->3층입니다\n",
      "yourclass->7층입니다\n",
      "myclass->4층입니다\n",
      "yourclass->8층입니다\n",
      "myclass->5층입니다\n",
      "yourclass->9층입니다\n",
      "myclass->6층입니다\n",
      "yourclass->10층입니다\n",
      "myclass->7층입니다\n",
      "yourclass->최상층 입니다\n",
      "myclass->8층입니다\n",
      "yourclass->최상층 입니다\n",
      "myclass->9층입니다\n",
      "yourclass->최상층 입니다\n",
      "myclass->10층입니다\n",
      "yourclass->최상층 입니다\n",
      "myclass->11층입니다\n",
      "yourclass->최상층 입니다\n",
      "myclass->12층입니다\n",
      "yourclass->최상층 입니다\n",
      "myclass->13층입니다\n",
      "yourclass->최상층 입니다\n",
      "myclass->14층입니다\n",
      "yourclass->최상층 입니다\n",
      "myclass->15층입니다\n",
      "yourclass->최상층 입니다\n",
      "myclass->최상층 입니다\n",
      "yourclass->최상층 입니다\n",
      "myclass->최상층 입니다\n",
      "yourclass->최상층 입니다\n",
      "myclass->최상층 입니다\n",
      "yourclass->최상층 입니다\n",
      "myclass->최상층 입니다\n",
      "yourclass->최상층 입니다\n",
      "myclass->최상층 입니다\n",
      "yourclass->최상층 입니다\n",
      "myclass->최상층 입니다\n",
      "yourclass->최상층 입니다\n",
      "myclass->14층입니다\n",
      "yourclass->9층입니다\n",
      "myclass->13층입니다\n",
      "yourclass->8층입니다\n",
      "myclass->12층입니다\n",
      "yourclass->7층입니다\n",
      "myclass->11층입니다\n",
      "yourclass->6층입니다\n",
      "myclass->10층입니다\n",
      "yourclass->5층입니다\n",
      "myclass->9층입니다\n",
      "yourclass->4층입니다\n",
      "myclass->8층입니다\n",
      "yourclass->3층입니다\n",
      "myclass->7층입니다\n",
      "yourclass->2층입니다\n",
      "myclass->6층입니다\n",
      "yourclass->1층입니다\n",
      "myclass->5층입니다\n",
      "yourclass->0층입니다\n",
      "myclass->4층입니다\n",
      "yourclass->-1층입니다\n",
      "myclass->3층입니다\n",
      "yourclass->최하층 입니다\n",
      "myclass->2층입니다\n",
      "yourclass->최하층 입니다\n",
      "myclass->1층입니다\n",
      "yourclass->최하층 입니다\n",
      "myclass->0층입니다\n",
      "yourclass->최하층 입니다\n",
      "myclass->최하층 입니다\n",
      "yourclass->최하층 입니다\n",
      "myclass->최하층 입니다\n",
      "yourclass->최하층 입니다\n",
      "myclass->최하층 입니다\n",
      "yourclass->최하층 입니다\n",
      "myclass->최하층 입니다\n",
      "yourclass->최하층 입니다\n",
      "myclass->최하층 입니다\n",
      "yourclass->최하층 입니다\n"
     ]
    }
   ],
   "source": [
    "# self\n",
    "# 같은 엘레베이터라는 설계도를 가지고 만들어진 mtclass와 yourclass\n",
    "\n",
    "myclass = elevator(1, 15, 0, \"\") # (현재1층, 최저0층, 최고15층, 메시지)로 클래스생성\n",
    "yourclass = elevator(5,10,-1,\"\") # (현재1층, 최저0층, 최고15층, 메시지)로 클래스생성\n",
    "for i in range(20): # 20번 up()을 실행\n",
    "    print(\"myclass->\", end = \"\")\n",
    "    myclass.up() # 엘레베이터의 동작 클래스를 불러오고, 엘리베이터의 설정에 맞게 작동\n",
    "    print(\"yourclass->\", end = \"\")\n",
    "    yourclass.up() # 엘레베이터의 동작 클래스를 불러오고, 엘리베이터의 설정에 맞게 작동\n",
    "\n",
    "for i in range(20): # 20번 down()을 실행\n",
    "    print(\"myclass->\", end = \"\")\n",
    "    myclass.down() # elevator 클래스의 down 함수 실행\n",
    "    print(\"yourclass->\",end = \"\")\n",
    "    yourclass.down() # elevator 클래스의 down 함수 실행\n",
    "\n",
    "    #동일한 클래스를 사용했지만 다른 클래스로 입력되어 작동"
   ]
  },
  {
   "cell_type": "code",
   "execution_count": 68,
   "id": "ade7d202",
   "metadata": {},
   "outputs": [],
   "source": [
    "# 생성자\n",
    "# 클래스를 처음 생성하여 인스턴스를 만들 때 오출되는 함수(method)\n",
    "# 호출하는 쪽에서는 클래스 명으로 부르고, 클래스에서는 __int__로 정의함\n",
    "# class 선언 부분\n",
    "class elevator: # elevator 클래스 생성\n",
    "    def __init__(self, floor, limit_up_floor, limit_down_floor, msg ):\n",
    "        self.floor = floor # 현재 층\n",
    "        self.limit_up_floor = limit_up_floor # 최상층\n",
    "        self.limit_down_floor = limit_down_floor # 최하층\n",
    "        self.msg = msg # 안내문\n",
    "\n",
    "# class 호출 부분\n",
    "#(현재1층, 최저0층, 최고15층, 메시지)값으로 클래스생성\n",
    "myclass = elevator(1,15,0,\"\")\n",
    "#(현재1층, 최저0층, 최고15층, 메시지)값으로 클래스생성\n",
    "yourclass = elevator(5,10,-1,\"\")"
   ]
  },
  {
   "cell_type": "code",
   "execution_count": 52,
   "id": "8fc33279",
   "metadata": {},
   "outputs": [
    {
     "name": "stdout",
     "output_type": "stream",
     "text": [
      "2층입니다\n",
      "3층입니다\n",
      "2층입니다\n",
      "1층입니다\n",
      "2층입니다\n",
      "3층입니다\n",
      "2층입니다\n",
      "1층입니다\n",
      "2층입니다\n",
      "3층입니다\n",
      "2층입니다\n",
      "1층입니다\n",
      "2층입니다\n",
      "3층입니다\n",
      "2층입니다\n",
      "1층입니다\n",
      "2층입니다\n",
      "3층입니다\n",
      "2층입니다\n",
      "1층입니다\n",
      "2층입니다\n",
      "3층입니다\n",
      "2층입니다\n",
      "1층입니다\n",
      "2층입니다\n",
      "3층입니다\n",
      "2층입니다\n",
      "1층입니다\n",
      "2층입니다\n",
      "3층입니다\n",
      "2층입니다\n",
      "1층입니다\n",
      "2층입니다\n",
      "3층입니다\n",
      "2층입니다\n",
      "1층입니다\n",
      "2층입니다\n",
      "3층입니다\n",
      "2층입니다\n",
      "1층입니다\n",
      "2층입니다\n",
      "3층입니다\n",
      "2층입니다\n",
      "1층입니다\n",
      "2층입니다\n",
      "3층입니다\n",
      "2층입니다\n",
      "1층입니다\n",
      "2층입니다\n",
      "3층입니다\n",
      "2층입니다\n",
      "1층입니다\n",
      "2층입니다\n",
      "3층입니다\n",
      "2층입니다\n",
      "1층입니다\n",
      "2층입니다\n",
      "3층입니다\n",
      "2층입니다\n",
      "1층입니다\n",
      "2층입니다\n",
      "3층입니다\n",
      "2층입니다\n",
      "1층입니다\n",
      "2층입니다\n",
      "3층입니다\n",
      "2층입니다\n",
      "1층입니다\n",
      "2층입니다\n",
      "3층입니다\n",
      "2층입니다\n",
      "1층입니다\n",
      "2층입니다\n",
      "3층입니다\n",
      "2층입니다\n",
      "1층입니다\n",
      "2층입니다\n",
      "3층입니다\n",
      "2층입니다\n",
      "1층입니다\n"
     ]
    }
   ],
   "source": [
    "# 상속\n",
    "# 기존 클래스의 정의를 가지고, 즉 성질을 그대로 물려받은 후 \n",
    "#   변수 및 method의 추가, 수정, 변경, 삭제로 또 다른 클래스를 정의하는 것\n",
    "# 기존 elevator를 가지고 새로운 s_elevator 클래스를 생성함\n",
    "class s_elevator(elevator):\n",
    "    def __init__(self):\n",
    "        super().__init__(1,15,0,\"\") # (현재1층, 최저0층, 최고15층, 메시지)로 클래스생성\n",
    "    def up(self):\n",
    "        # 2층씩 올라가게 만든 함수\n",
    "        super().up() #엘리베이터 클래스의 상승 메소드를 불러옴\n",
    "        super().up() #엘리베이터 클래스의 상승 메소드를 불러옴\n",
    "    def down(self):\n",
    "        # 2층씩 내려가게 만든 함수, 엘리베이터 클래스를 불러옴\n",
    "        super().down()\n",
    "        super().down()\n",
    "\n",
    "# 상속된 클래스 호출과 기존 클래스 호출\n",
    "# myclass = elevator(1,15,0,\"\")\n",
    "myclass = s_elevator()\n",
    "for i in range(20): #20번 up()를 실행\n",
    "    myclass.up()\n",
    "    myclass.down()   "
   ]
  },
  {
   "cell_type": "code",
   "execution_count": 39,
   "id": "40f62a74",
   "metadata": {},
   "outputs": [
    {
     "name": "stdout",
     "output_type": "stream",
     "text": [
      "3125\n"
     ]
    }
   ],
   "source": [
    "# 정보은닉(gatter, setter)1\n",
    "# getter, setter를 통한 접근 예제로 \"a**b\" 거듭제곱을 구하는 예제\n",
    "class multibox: # multibox 클래스 생성\n",
    "    def __init__(self,multi): # 제곱횟수를 입력\n",
    "        self.multi = multi # 거듭제곱할 횟수를 입력\n",
    "    def getnumber(self):\n",
    "        return self.num ** self.multi # 거듭제곱의 결과를 반환\n",
    "    def setnumber(self,num): \n",
    "        self.num = num # 거듭제곱할 수를 입력\n",
    "\n",
    "m = multibox(5) # multibox 클래스 및 생성자의 변수 설정\n",
    "m.setnumber(5) # 거듭제곱할 수를 입력\n",
    "print(m.getnumber()) # 결과값 리턴#거듭제곱할 수를 입력 받음"
   ]
  },
  {
   "cell_type": "code",
   "execution_count": 40,
   "id": "2a905b37",
   "metadata": {},
   "outputs": [
    {
     "name": "stdout",
     "output_type": "stream",
     "text": [
      "3125\n"
     ]
    }
   ],
   "source": [
    "# 정보은닉(getter, setter)2\n",
    "class multibox: # 거듭제곱 클래스 생성\n",
    "    def __init__(self,multi): # 제곱횟수 입력\n",
    "        self.multi = multi # 거듭제곱할 횟수 입력\n",
    "    def getnumber(self):\n",
    "        return self.num ** self.multi # 거듭제곱의 결과를 반환\n",
    "    def setnumber(self,num):\n",
    "        self.num = num # 제곱할 수를 결정\n",
    "    number = property(getnumber,setnumber)\n",
    "    \n",
    "m = multibox(5) #multibox 클래스 및 생성자의 변수 입력\n",
    "m.number = 5 # 거듭제곱할 수를 입력\n",
    "print(m.number) "
   ]
  },
  {
   "cell_type": "code",
   "execution_count": 41,
   "id": "afbfb976",
   "metadata": {},
   "outputs": [
    {
     "name": "stdout",
     "output_type": "stream",
     "text": [
      "3125\n"
     ]
    }
   ],
   "source": [
    "# 정보은닉(getter, setter)3\n",
    "class multibox: # 거듭제곱 클래스 생성\n",
    "    def __init__(self,multi): # 제곱횟수 입력 \n",
    "        self.multi = multi # 거듭제곱할 횟수 입력\n",
    "    @property # 데코레이터로 선언\n",
    "    def number(self): # 거듭제곱의 결과를 반환\n",
    "        return self.num ** self.multi \n",
    "    @number.setter #제곱할 수를 설정\n",
    "    def number(self,num):\n",
    "        self.num = num # 제곱할 수를 결정\n",
    "        \n",
    "m = multibox(5) # multibox 클래스 및 생성자의 변수 입력\n",
    "m.number = 5 # 거듭제곱할 수를 입력\n",
    "print(m.number)"
   ]
  },
  {
   "cell_type": "code",
   "execution_count": 42,
   "id": "f5ba2f47",
   "metadata": {},
   "outputs": [
    {
     "name": "stdout",
     "output_type": "stream",
     "text": [
      "클래스 참조횟수는 2 회 입니다\n"
     ]
    }
   ],
   "source": [
    "# 클래스 메서드\n",
    "# 클래스에서 정의하는 메서드(method,함수) 중에 몇몇 특별한 기능의 메서드를 정의하는 방법\n",
    "# 클래서 정의를 가져다 선언하고 있는 전체의 클래스에서 공유하는 메서드\n",
    "# 선언 : @classmethod\n",
    "# cls : 전체 클래스\n",
    "class myclass:\n",
    "    cnt = 0 # self가 없는 myclass에서 사용되는 내부 static변수\n",
    "    def __init__(self): \n",
    "        myclass.cnt += 1 # myclass의 static변수\n",
    "    @classmethod # 클래스 메서드 선언\n",
    "    def refcount(cls): # self가 아니라 cls로 정의\n",
    "        print(\"클래스 참조횟수는\", cls.cnt, \"회 입니다\")\n",
    "a = myclass() # a에 myclass 설정\n",
    "b = myclass() # b에 myclass 설정\n",
    "myclass.refcount() # myclass의 refcount() 메소드 실행, 참조된 횟수를 출력"
   ]
  },
  {
   "cell_type": "code",
   "execution_count": 43,
   "id": "b8b3f4f0",
   "metadata": {},
   "outputs": [
    {
     "name": "stdout",
     "output_type": "stream",
     "text": [
      "이 클래스는 아무런 일도 하지 않는다\n",
      "이 클래스는 아무런 일도 하지 않는다\n"
     ]
    }
   ],
   "source": [
    "# 정적 메서드\n",
    "# 생성되는 클래스와는 별개로 하나의 역할을 수행하는 메서드\n",
    "# 선언 : @staticmethod\n",
    "# 클래스 생성과 상관없으므로 __init__를 수행하지 않아도 됨\n",
    "# self 나 cls를 인수로 받지도 않음\n",
    "class myclass:\n",
    "    cnt = 0 # self가 없는 myclass에서 사용되는 내부 static변수\n",
    "    def __init__(self): \n",
    "        myclass.cnt += 1 # myclass의 static변수\n",
    "    @staticmethod #생성되는 클래스와는 별개로 하나의 역할을 수행하는 메서드\n",
    "    def helf():\n",
    "        print(\"이 클래스는 아무런 일도 하지 않는다\")\n",
    "        \n",
    "myclass.helf()\n",
    "a = myclass() # a에 myclass 설정\n",
    "myclass.helf()"
   ]
  },
  {
   "cell_type": "code",
   "execution_count": 44,
   "id": "c4c50318",
   "metadata": {},
   "outputs": [
    {
     "name": "stdout",
     "output_type": "stream",
     "text": [
      "defabc\n"
     ]
    }
   ],
   "source": [
    "# 연산자메서드\n",
    "# 클래스와 클래스의 연산관계를 정의하는 특별한 메서드\n",
    "# __add__은 클래스간 + 연산을 정의한 메서드\n",
    "class mystr:\n",
    "    def __init__(self, s):\n",
    "        self.s = s\n",
    "    def __add__(self, other): # 클래스간 +연산자를 정의\n",
    "        return other.s + self.s # 문자간 연산을 반대로 수행\n",
    "a = mystr(\"abc\")\n",
    "b = mystr(\"def\")\n",
    "print(a+b) # a + b를 출력"
   ]
  },
  {
   "cell_type": "code",
   "execution_count": 45,
   "id": "23b5379b",
   "metadata": {
    "scrolled": true
   },
   "outputs": [
    {
     "name": "stdout",
     "output_type": "stream",
     "text": [
      "9.99999999999998\n"
     ]
    }
   ],
   "source": [
    "# Decimal1\n",
    "# 유틸리티 클래스는 유용한 기능을 미리 만들어 클래스로 제공하는 것\n",
    "sum = 0\n",
    "for i in range(100):\n",
    "    sum += 0.1\n",
    "print(sum)\n",
    "# 1/3을 십진수로 완벽하게 나타낼 수 없고 0.1을 2진수로 완벽히 나타낼 수 없음\n",
    "# 계산상 오차가 나타남"
   ]
  },
  {
   "cell_type": "code",
   "execution_count": 46,
   "id": "91d8597d",
   "metadata": {
    "scrolled": true
   },
   "outputs": [
    {
     "name": "stdout",
     "output_type": "stream",
     "text": [
      "0.1 => 9.99999999999998\n",
      "0.1000000000000000055511151231257827021181583404541015625 => 10.00000000000000055511151230\n",
      "0.1 => 10.0\n"
     ]
    }
   ],
   "source": [
    "# Decimal2\n",
    "# Decimal클래스는 문자형을 숫자형(정수형)으로 바꾸는데 사용함\n",
    "#  --> 다른 관점으로 보면 함수처럼 사용\n",
    "# 문자형으로 클래스를 초기화하여 생성하면\n",
    "#   컴퓨터연산오류 없는 계산을 수행가능(십진수계산)\n",
    "\n",
    "from decimal import Decimal\n",
    "\n",
    "a_sum = 0; b_sum = 0; c_sum = 0 # 합계 변수들을 0으로 설정\n",
    "\n",
    "a = 0.1 # a에 0.1 입력\n",
    "b = Decimal(a) # b는 a를 decimal 한 값\n",
    "c = Decimal(\"0.1\") # c는 0.1을 decimal 한 값\n",
    "\n",
    "for i in range(100):\n",
    "    a_sum += a # a_sum은 a값을 누적\n",
    "    b_sum += b # b_sum은 b값을 누적\n",
    "    c_sum += c # c_sum은 c값을 누적\n",
    "\n",
    "print(a,\"=>\",a_sum)\n",
    "print(b,\"=>\",b_sum)\n",
    "print(c,\"=>\",c_sum)"
   ]
  },
  {
   "cell_type": "code",
   "execution_count": 47,
   "id": "868b91fb",
   "metadata": {
    "scrolled": true
   },
   "outputs": [
    {
     "name": "stdout",
     "output_type": "stream",
     "text": [
      "2/3 + 1/2 = 7/6\n",
      "2/3 * 1/2 = 1/3\n",
      "2/3 * 1.5 = 2.1666666666666665\n"
     ]
    }
   ],
   "source": [
    "# Fraction\n",
    "# 분수를 나타내주고 분수계산이 가능한 클래스 \n",
    "#   (단, 정수 및 실수와 같이 연산하면 실수형으로 바뀜)\n",
    "from fractions import *\n",
    "a = Fraction(2, 3) # 3분의 2\n",
    "b = Fraction(5, 10) # 10분의 5로 약분되어 1/2\n",
    "print(a, \"+\", b, \"=\", a + b) # 분수의 덧셈 결과 출력\n",
    "print(a, \"*\", b, \"=\", a * b) # 분수의 곱셈 결과 출력\n",
    "print(a, \"*\", 1.5, \"=\", a + 1.5) # 분수의 실수의 곱셈 결과 출력"
   ]
  },
  {
   "cell_type": "code",
   "execution_count": null,
   "id": "d9cbae4e",
   "metadata": {},
   "outputs": [],
   "source": []
  },
  {
   "cell_type": "code",
   "execution_count": null,
   "id": "c765bc87",
   "metadata": {},
   "outputs": [],
   "source": []
  }
 ],
 "metadata": {
  "kernelspec": {
   "display_name": "Python 3 (ipykernel)",
   "language": "python",
   "name": "python3"
  },
  "language_info": {
   "codemirror_mode": {
    "name": "ipython",
    "version": 3
   },
   "file_extension": ".py",
   "mimetype": "text/x-python",
   "name": "python",
   "nbconvert_exporter": "python",
   "pygments_lexer": "ipython3",
   "version": "3.8.8rc1"
  }
 },
 "nbformat": 4,
 "nbformat_minor": 5
}
