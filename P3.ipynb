{
 "cells": [
  {
   "cell_type": "code",
   "execution_count": 1,
   "id": "6f5d513d",
   "metadata": {},
   "outputs": [
    {
     "name": "stdout",
     "output_type": "stream",
     "text": [
      "a =  10  b =  1200  c =  1200  d =  -1234\n"
     ]
    }
   ],
   "source": [
    "# 정수형1\n",
    "a = 10\n",
    "b = 1200\n",
    "c =+ 1200\n",
    "d =- 1234\n",
    "print(\"a = \", a, \" b = \", b, \" c = \", c, \" d = \", d) # a,b,c,d 값 출력\n",
    " "
   ]
  },
  {
   "cell_type": "code",
   "execution_count": 2,
   "id": "a25c1583",
   "metadata": {},
   "outputs": [
    {
     "name": "stdout",
     "output_type": "stream",
     "text": [
      "a + b=  1211292266003592077706530063059402700791067600593923830163855728438919\n",
      "a * b=  334658987064103304547873904301442629269389918884314621207446011076698870439178678789840062973576643806004592520987062622993445895118864068\n"
     ]
    }
   ],
   "source": [
    "# 정수형2\n",
    "# java나 c와 다르게 파이썬은 상당히 큰 숫자의 계산이 가능하다\n",
    "a = 426346798491246579244385468465138436526421954951459595929621433843468\n",
    "b = 784945467512345498462144594594264264264645645642464234234234294595451\n",
    "print(\"a + b= \", a + b) # a + b 값 출력\n",
    "print(\"a * b= \", a * b) # a * b 값 출력"
   ]
  },
  {
   "cell_type": "code",
   "execution_count": 8,
   "id": "6be1bba1",
   "metadata": {},
   "outputs": [
    {
     "data": {
      "text/plain": [
       "10"
      ]
     },
     "execution_count": 8,
     "metadata": {},
     "output_type": "execute_result"
    }
   ],
   "source": [
    "# 정수형3\n",
    "0b1010 # 2진수를 입력하면 10진수로 출력 됨"
   ]
  },
  {
   "cell_type": "code",
   "execution_count": 9,
   "id": "77090a7a",
   "metadata": {},
   "outputs": [
    {
     "data": {
      "text/plain": [
       "15"
      ]
     },
     "execution_count": 9,
     "metadata": {},
     "output_type": "execute_result"
    }
   ],
   "source": [
    "0b1111 # 2진수를 입력하면 10진수로 출력 됨"
   ]
  },
  {
   "cell_type": "code",
   "execution_count": 10,
   "id": "3c5d3c9e",
   "metadata": {},
   "outputs": [
    {
     "data": {
      "text/plain": [
       "1"
      ]
     },
     "execution_count": 10,
     "metadata": {},
     "output_type": "execute_result"
    }
   ],
   "source": [
    "0b0001 # 2진수를 입력하면 10진수로 출력 됨"
   ]
  },
  {
   "cell_type": "code",
   "execution_count": 11,
   "id": "1efed58b",
   "metadata": {
    "scrolled": false
   },
   "outputs": [
    {
     "ename": "SyntaxError",
     "evalue": "invalid digit '2' in binary literal (4097528594.py, line 1)",
     "output_type": "error",
     "traceback": [
      "\u001b[1;36m  Input \u001b[1;32mIn [11]\u001b[1;36m\u001b[0m\n\u001b[1;33m    0b0201\u001b[0m\n\u001b[1;37m       ^\u001b[0m\n\u001b[1;31mSyntaxError\u001b[0m\u001b[1;31m:\u001b[0m invalid digit '2' in binary literal\n"
     ]
    }
   ],
   "source": [
    "0b0201 # 2진수는 0과 1로만 이루어져있으므로 2를 입력하면 오류가 발생"
   ]
  },
  {
   "cell_type": "code",
   "execution_count": 12,
   "id": "bd032bf7",
   "metadata": {
    "scrolled": true
   },
   "outputs": [
    {
     "data": {
      "text/plain": [
       "16"
      ]
     },
     "execution_count": 12,
     "metadata": {},
     "output_type": "execute_result"
    }
   ],
   "source": [
    "# 정수형4\n",
    "0x10 # 16진수를 입력하면 10진수로 출력"
   ]
  },
  {
   "cell_type": "code",
   "execution_count": 13,
   "id": "a4a5af2b",
   "metadata": {},
   "outputs": [
    {
     "data": {
      "text/plain": [
       "26"
      ]
     },
     "execution_count": 13,
     "metadata": {},
     "output_type": "execute_result"
    }
   ],
   "source": [
    "0x1a # 16진수를 입력하면 10진수로 출력"
   ]
  },
  {
   "cell_type": "code",
   "execution_count": 14,
   "id": "dabf461d",
   "metadata": {},
   "outputs": [
    {
     "data": {
      "text/plain": [
       "47"
      ]
     },
     "execution_count": 14,
     "metadata": {},
     "output_type": "execute_result"
    }
   ],
   "source": [
    "0x2f # 16진수를 입력하면 10진수로 출력"
   ]
  },
  {
   "cell_type": "code",
   "execution_count": 15,
   "id": "7a609348",
   "metadata": {
    "scrolled": false
   },
   "outputs": [
    {
     "ename": "SyntaxError",
     "evalue": "invalid syntax (3986162713.py, line 1)",
     "output_type": "error",
     "traceback": [
      "\u001b[1;36m  Input \u001b[1;32mIn [15]\u001b[1;36m\u001b[0m\n\u001b[1;33m    0x3z\u001b[0m\n\u001b[1;37m       ^\u001b[0m\n\u001b[1;31mSyntaxError\u001b[0m\u001b[1;31m:\u001b[0m invalid syntax\n"
     ]
    }
   ],
   "source": [
    "0x3z # 16진수는 0~9, a~f를 사용하므로 z는 입력하면 오류 발생"
   ]
  },
  {
   "cell_type": "code",
   "execution_count": 16,
   "id": "4122374b",
   "metadata": {},
   "outputs": [
    {
     "name": "stdout",
     "output_type": "stream",
     "text": [
      "0xc\n",
      "0o26\n",
      "0b100001\n"
     ]
    }
   ],
   "source": [
    "# 정수형5\n",
    "# hex() : 16진수로 변환\n",
    "# bon() : 2진수로 변환\n",
    "# oct() : 8진수로 변환\n",
    "print(hex(12)); print(oct(22)); print(bin(33))\n",
    "# 12를 16진수로 변환, 22를 2진수로 변환, 33을 8진수로 변환"
   ]
  },
  {
   "cell_type": "code",
   "execution_count": 17,
   "id": "10fca044",
   "metadata": {},
   "outputs": [
    {
     "data": {
      "text/plain": [
       "9460000000000.0"
      ]
     },
     "execution_count": 17,
     "metadata": {},
     "output_type": "execute_result"
    }
   ],
   "source": [
    "# 실수형1\n",
    "# 소수점 이하의 정밀한 값을 표현하기 위하여 사용하거나 정밀한 값을 저장하기 위해 사용\n",
    "# 유효숫자 개념"
   ]
  },
  {
   "cell_type": "code",
   "execution_count": 1,
   "id": "7f01ab87",
   "metadata": {},
   "outputs": [
    {
     "data": {
      "text/plain": [
       "9460000000000.0"
      ]
     },
     "execution_count": 1,
     "metadata": {},
     "output_type": "execute_result"
    }
   ],
   "source": [
    "# 실수형2\n",
    "# 1광년의 표현\n",
    "9.46e12"
   ]
  },
  {
   "cell_type": "code",
   "execution_count": 18,
   "id": "b88a74a6",
   "metadata": {
    "scrolled": true
   },
   "outputs": [
    {
     "ename": "SyntaxError",
     "evalue": "invalid syntax (3459291321.py, line 1)",
     "output_type": "error",
     "traceback": [
      "\u001b[1;36m  Input \u001b[1;32mIn [18]\u001b[1;36m\u001b[0m\n\u001b[1;33m    9.46e12 + 1251384984351681381321.6811313684e + 32\u001b[0m\n\u001b[1;37m                                               ^\u001b[0m\n\u001b[1;31mSyntaxError\u001b[0m\u001b[1;31m:\u001b[0m invalid syntax\n"
     ]
    }
   ],
   "source": [
    "# 실수형3\n",
    "# 실수형과 정수형의 연산을 수행하면 유효숫자만큼만 표현되는데 주의해야 함\n",
    "9.46e12 + 1251384984351681381321.6811313684e + 32"
   ]
  },
  {
   "cell_type": "code",
   "execution_count": 2,
   "id": "a5ac0b69",
   "metadata": {
    "scrolled": true
   },
   "outputs": [],
   "source": [
    "# 복소수\n",
    "# 허수 : 제곱을 하였을 때 -1이 나오는 가상의 수\n",
    "# 복소수 : 실수부와 허수부로 표현하는 가상의 수\n",
    "# 복소평면의 수학 학술적 연산 처리 등에 활용함\n",
    "# 실제 복소수는1+2i 와 같이 허수부분이 i로 표현하나 \n",
    "# 파이썬에서는 j를 사용하는것에 유의해야함"
   ]
  },
  {
   "cell_type": "code",
   "execution_count": 3,
   "id": "182cab66",
   "metadata": {},
   "outputs": [
    {
     "ename": "SyntaxError",
     "evalue": "invalid syntax (2578974726.py, line 1)",
     "output_type": "error",
     "traceback": [
      "\u001b[1;36m  Input \u001b[1;32mIn [3]\u001b[1;36m\u001b[0m\n\u001b[1;33m    a = 1 + 2i # -> 파이썬에서는 i 대신 j를 사용한다\u001b[0m\n\u001b[1;37m             ^\u001b[0m\n\u001b[1;31mSyntaxError\u001b[0m\u001b[1;31m:\u001b[0m invalid syntax\n"
     ]
    }
   ],
   "source": [
    "# 복소수형2\n",
    "# 복소수 연산\n",
    "a = 1 + 2i # -> 파이썬에서는 i 대신 j를 사용한다"
   ]
  },
  {
   "cell_type": "code",
   "execution_count": 4,
   "id": "4e932f4f",
   "metadata": {},
   "outputs": [
    {
     "name": "stdout",
     "output_type": "stream",
     "text": [
      "(2+0j) (5+0j)\n"
     ]
    }
   ],
   "source": [
    "# 더하기, 빼기 : (a+bi)+(c+di) = (a+c)+(b+d)i \n",
    "# 곱하기 : (a+bi)(c+di) = ac+(ad)i+(bc)i+bd(i*i) = = (ac- bd)+(ad+bc)i\n",
    "a = 1 + 2j\n",
    "b = 1 - 2j\n",
    "print(a + b, a * b)"
   ]
  },
  {
   "cell_type": "code",
   "execution_count": 23,
   "id": "8aa6f7c4",
   "metadata": {},
   "outputs": [
    {
     "data": {
      "text/plain": [
       "'aaabbb'"
      ]
     },
     "execution_count": 23,
     "metadata": {},
     "output_type": "execute_result"
    }
   ],
   "source": [
    "# 문자형1\n",
    "a = \"aaa\"\n",
    "b = \"bbb\"\n",
    "a + b # -> a값과 b값을 붙여서 출력"
   ]
  },
  {
   "cell_type": "code",
   "execution_count": 24,
   "id": "b649d690",
   "metadata": {
    "scrolled": true
   },
   "outputs": [
    {
     "ename": "TypeError",
     "evalue": "can't multiply sequence by non-int of type 'str'",
     "output_type": "error",
     "traceback": [
      "\u001b[1;31m---------------------------------------------------------------------------\u001b[0m",
      "\u001b[1;31mTypeError\u001b[0m                                 Traceback (most recent call last)",
      "Input \u001b[1;32mIn [24]\u001b[0m, in \u001b[0;36m<cell line: 3>\u001b[1;34m()\u001b[0m\n\u001b[0;32m      1\u001b[0m a \u001b[38;5;241m=\u001b[39m \u001b[38;5;124m\"\u001b[39m\u001b[38;5;124maaa\u001b[39m\u001b[38;5;124m\"\u001b[39m\n\u001b[0;32m      2\u001b[0m b \u001b[38;5;241m=\u001b[39m \u001b[38;5;124m\"\u001b[39m\u001b[38;5;124mbbb\u001b[39m\u001b[38;5;124m\"\u001b[39m\n\u001b[1;32m----> 3\u001b[0m \u001b[43ma\u001b[49m\u001b[43m \u001b[49m\u001b[38;5;241;43m*\u001b[39;49m\u001b[43m \u001b[49m\u001b[43mb\u001b[49m\n",
      "\u001b[1;31mTypeError\u001b[0m: can't multiply sequence by non-int of type 'str'"
     ]
    }
   ],
   "source": [
    "a = \"aaa\"\n",
    "b = \"bbb\"\n",
    "a * b # -> 문자형에서 곱셈은 존재하지 않는다"
   ]
  },
  {
   "cell_type": "code",
   "execution_count": 26,
   "id": "d95e89f5",
   "metadata": {},
   "outputs": [
    {
     "data": {
      "text/plain": [
       "'aaaaaaaaa'"
      ]
     },
     "execution_count": 26,
     "metadata": {},
     "output_type": "execute_result"
    }
   ],
   "source": [
    "a = \"aaa\"\n",
    "a * 3 # 곱셈은 존재하지 않지만 반복은 가능하다"
   ]
  },
  {
   "cell_type": "code",
   "execution_count": 28,
   "id": "8ad684ed",
   "metadata": {},
   "outputs": [
    {
     "data": {
      "text/plain": [
       "'bbbbbbbbbbbbbbb'"
      ]
     },
     "execution_count": 28,
     "metadata": {},
     "output_type": "execute_result"
    }
   ],
   "source": [
    "b = \"bbb\"\n",
    "b * 5 # 곱셈은 존재하지 않지만 반복은 가능하다"
   ]
  },
  {
   "cell_type": "code",
   "execution_count": 29,
   "id": "81d6a91d",
   "metadata": {
    "scrolled": true
   },
   "outputs": [
    {
     "name": "stdout",
     "output_type": "stream",
     "text": [
      "호랑이가 \"떡하나 주면 안잡아 먹지\"라고 말했습니다.\n"
     ]
    }
   ],
   "source": [
    "# 확장문자1\n",
    "# 호랑이가 \"떡하나 주면 안잡아 먹지\"라고 말했습니다.\n",
    "print('호랑이가 \"떡하나 주면 안잡아 먹지\"라고 말했습니다.')\n",
    "print(\"호랑이가 \\\"떡하나 주면 안잡아 먹지\\\"라고 말했습니다.\")\n",
    "# I say \"I love you\"\n",
    "print(\"I say \\\"I love you\\\"\")\n",
    "print(\"I say \"I love you\"\")"
   ]
  },
  {
   "cell_type": "code",
   "execution_count": 34,
   "id": "92790086",
   "metadata": {},
   "outputs": [
    {
     "name": "stdout",
     "output_type": "stream",
     "text": [
      "오늘 열심히 파이썬을 공부했습니다. \n",
      "내일도 열심히 파이썬을 공부할 것입니다. \n",
      "그래서 일등할 것입니다\n"
     ]
    }
   ],
   "source": [
    "# 긴 문자열1\n",
    "# 긴 문자열을 사용하기 위해서 따옴표를 세개(\"\"\") 사용하면 \n",
    "# 다음 세개의 따옴표가 나올때까지 줄을 바꾸어서 사용할 수 있음\n",
    "# -> 줄을 바꾼 것이 그대로 표현 됨\n",
    "print(\"\"\"오늘 열심히 파이썬을 공부했습니다. \n",
    "내일도 열심히 파이썬을 공부할 것입니다. \n",
    "그래서 일등할 것입니다\"\"\")"
   ]
  },
  {
   "cell_type": "code",
   "execution_count": 35,
   "id": "910a6475",
   "metadata": {},
   "outputs": [
    {
     "name": "stdout",
     "output_type": "stream",
     "text": [
      "오늘 열심히 파이썬을 공부했습니다. 내일도 열심히 파이썬을 공부할 것입니다. 그래서 일등할 것입니다\n"
     ]
    }
   ],
   "source": [
    "# 문자열의 합이나 명령어 연장(\\ )방법으로도 표현할 수 있음\n",
    "print(\"오늘 열심히 파이썬을 공부했습니다. \\\n",
    "내일도 열심히 파이썬을 공부할 것입니다. \\\n",
    "그래서 일등할 것입니다\")"
   ]
  },
  {
   "cell_type": "code",
   "execution_count": 37,
   "id": "52fc2e31",
   "metadata": {},
   "outputs": [
    {
     "name": "stdout",
     "output_type": "stream",
     "text": [
      "오늘은즐거운일요일\n",
      "오늘 열심히 파이썬을 공부했습니다. \n",
      "내일도 열심히 파이썬을 공부할 것입니다. \n",
      "그래서 일등할 것입니다\n"
     ]
    }
   ],
   "source": [
    "# 긴 문자열2\n",
    "a = \"오늘은\" \"즐거운\" \"일요일\"\n",
    "print(a) # a 값을 출력\n",
    "print(\"오늘 열심히 파이썬을 공부했습니다. \\n\"\n",
    "\"내일도 열심히 파이썬을 공부할 것입니다. \\n\"\n",
    "\"그래서 일등할 것입니다\") # \\n을 사용해서 줄넘기할 수 있음"
   ]
  },
  {
   "cell_type": "code",
   "execution_count": 40,
   "id": "5e638db5",
   "metadata": {},
   "outputs": [
    {
     "data": {
      "text/plain": [
       "False"
      ]
     },
     "execution_count": 40,
     "metadata": {},
     "output_type": "execute_result"
    }
   ],
   "source": [
    "# 부울형1\n",
    "# 참 : True, 거짓 : False로 표현 (대소문자 주의)\n",
    "a = True\n",
    "b = False\n",
    "a and b"
   ]
  },
  {
   "cell_type": "code",
   "execution_count": 41,
   "id": "cb7f5c76",
   "metadata": {
    "scrolled": true
   },
   "outputs": [
    {
     "data": {
      "text/plain": [
       "True"
      ]
     },
     "execution_count": 41,
     "metadata": {},
     "output_type": "execute_result"
    }
   ],
   "source": [
    "a or b"
   ]
  },
  {
   "cell_type": "code",
   "execution_count": 42,
   "id": "e3c01852",
   "metadata": {
    "scrolled": true
   },
   "outputs": [
    {
     "data": {
      "text/plain": [
       "True"
      ]
     },
     "execution_count": 42,
     "metadata": {},
     "output_type": "execute_result"
    }
   ],
   "source": [
    "a and not b"
   ]
  },
  {
   "cell_type": "code",
   "execution_count": 43,
   "id": "d0c2a358",
   "metadata": {},
   "outputs": [
    {
     "data": {
      "text/plain": [
       "True"
      ]
     },
     "execution_count": 43,
     "metadata": {},
     "output_type": "execute_result"
    }
   ],
   "source": [
    "a = 0 \n",
    "b = a == 0 # b는 a가 0과 일치하는지 값(True 거나 False)\n",
    "b"
   ]
  },
  {
   "cell_type": "code",
   "execution_count": 44,
   "id": "cd4d4fa1",
   "metadata": {
    "scrolled": true
   },
   "outputs": [
    {
     "name": "stdout",
     "output_type": "stream",
     "text": [
      "참\n"
     ]
    }
   ],
   "source": [
    "# 부울형2\n",
    "# 추후 배울 비교문의 기본적 형태\n",
    "a = True\n",
    "b = False\n",
    "if 1 > 2 and a and b or b or a : # 이 값이면\n",
    "    print(\"참\") # 참이라고 출력\n",
    "else : # 아니면\n",
    "    print(\"거짓\") # 거짓이라고 출력"
   ]
  },
  {
   "cell_type": "code",
   "execution_count": 5,
   "id": "37824875",
   "metadata": {
    "scrolled": true
   },
   "outputs": [
    {
     "name": "stdout",
     "output_type": "stream",
     "text": [
      "['빨', '주', '노', '초', '파', '남', '보']\n"
     ]
    }
   ],
   "source": [
    "# 컬렉션1\n",
    "# 여러개의 값을 모아서 저장하는 형태, java의 배열과 비슷\n",
    "# 컬렉션 중 리스트를 많이 사용, 리스트는 []안에 값을 나열하는 형식\n",
    "rainbow = [\"빨\",\"주\",\"노\",\"초\",\"파\",\"남\",\"보\"]\n",
    "print(rainbow) # rainbow 출력"
   ]
  },
  {
   "cell_type": "code",
   "execution_count": 49,
   "id": "0c4277d7",
   "metadata": {
    "scrolled": true
   },
   "outputs": [
    {
     "name": "stdout",
     "output_type": "stream",
     "text": [
      "빨강 색\n",
      "주황 색\n",
      "노랑 색\n",
      "초록 색\n",
      "파랑 색\n",
      "남 색\n",
      "보라 색\n"
     ]
    }
   ],
   "source": [
    "# 컬렉션2\n",
    "# 리스트는 하나하나 반복문으로 처리 가능\n",
    "# 예제에 반복문으로 for문 사용\n",
    "rainbow = [\"빨강\",\"주황\",\"노랑\",\"초록\",\"파랑\",\"남\",\"보라\"]\n",
    "for color in rainbow : # color는 rainbow의 순서대로 가지는 값인가?\n",
    "    print(color, \"색\") # color 값과 색을 같이 출력"
   ]
  },
  {
   "cell_type": "code",
   "execution_count": 50,
   "id": "3e770f91",
   "metadata": {},
   "outputs": [
    {
     "name": "stdout",
     "output_type": "stream",
     "text": [
      "빨강 색\n",
      "주황 색\n",
      "노랑 색\n",
      "초록 색\n",
      "파랑 색\n",
      "남 색\n",
      "보라 색\n"
     ]
    }
   ],
   "source": [
    "# 컬레션3\n",
    "# 리스트와 유사한 튜플이라는 자료형이 있음\n",
    "# 튜플은 내용을 바꿀 수 없으며, []가 아니라 ()로 표시함\n",
    "rainbow = (\"빨강\",\"주황\",\"노랑\",\"초록\",\"파랑\",\"남\",\"보라\")\n",
    "for color in rainbow : # color는 rainbow의 순서대로 가지는 값인가?\n",
    "    print(color, \"색\") # color 값과 색을 같이 출력"
   ]
  },
  {
   "cell_type": "code",
   "execution_count": null,
   "id": "566a5a0b",
   "metadata": {},
   "outputs": [],
   "source": []
  }
 ],
 "metadata": {
  "kernelspec": {
   "display_name": "Python 3 (ipykernel)",
   "language": "python",
   "name": "python3"
  },
  "language_info": {
   "codemirror_mode": {
    "name": "ipython",
    "version": 3
   },
   "file_extension": ".py",
   "mimetype": "text/x-python",
   "name": "python",
   "nbconvert_exporter": "python",
   "pygments_lexer": "ipython3",
   "version": "3.8.8rc1"
  }
 },
 "nbformat": 4,
 "nbformat_minor": 5
}
