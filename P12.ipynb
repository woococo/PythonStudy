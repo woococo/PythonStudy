{
 "cells": [
  {
   "cell_type": "code",
   "execution_count": 1,
   "id": "6e246e48",
   "metadata": {},
   "outputs": [
    {
     "name": "stdout",
     "output_type": "stream",
     "text": [
      "파일없음\n",
      "프로그램 끝\n"
     ]
    }
   ],
   "source": [
    "# 파일 다루기\n",
    "f = 0\n",
    "try: # 발생되는 에러에 대하여 예외 에러처리를 해준다\n",
    "    f = open(\"LICENSE.txt\",\"rt\") # LICENSE라는 텍스트 파일을 읽기모드로 연다\n",
    "    while True: # 반복문\n",
    "        r = f.readline() # r은 한줄을 읽는 것\n",
    "        if not r : # r이 없다면 탈출\n",
    "            break\n",
    "        print(r) \n",
    "except FileNotFoundError: # 에러가 있을 경우 파일 없음을 출력\n",
    "    print(\"파일없음\")\n",
    "finally: # 마지막에\n",
    "    if(f): f.close() # 파일을 닫고\n",
    "    print(\"프로그램 끝\") # 프로그램 끝을 출력"
   ]
  },
  {
   "cell_type": "code",
   "execution_count": 34,
   "id": "3c38f672",
   "metadata": {},
   "outputs": [
    {
     "ename": "TypeError",
     "evalue": "bad operand type for unary +: 'str'",
     "output_type": "error",
     "traceback": [
      "\u001b[1;31m---------------------------------------------------------------------------\u001b[0m",
      "\u001b[1;31mTypeError\u001b[0m                                 Traceback (most recent call last)",
      "Input \u001b[1;32mIn [34]\u001b[0m, in \u001b[0;36m<cell line: 6>\u001b[1;34m()\u001b[0m\n\u001b[0;32m      6\u001b[0m \u001b[38;5;28;01mfor\u001b[39;00m i \u001b[38;5;129;01min\u001b[39;00m \u001b[38;5;28mrange\u001b[39m(\u001b[38;5;241m100\u001b[39m): \u001b[38;5;66;03m# 100번 실행하는 for문\u001b[39;00m\n\u001b[0;32m      7\u001b[0m     one_person \u001b[38;5;241m=\u001b[39m \u001b[38;5;124m\"\u001b[39m\u001b[38;5;124m홍길동\u001b[39m\u001b[38;5;124m\"\u001b[39m \u001b[38;5;241m+\u001b[39m \u001b[38;5;28mstr\u001b[39m(i) \u001b[38;5;241m+\u001b[39m \u001b[38;5;124m\"\u001b[39m\u001b[38;5;124m,\u001b[39m\u001b[38;5;124m\"\u001b[39m \u001b[38;5;241m+\u001b[39m \u001b[38;5;28mstr\u001b[39m(random\u001b[38;5;241m.\u001b[39mrandrange(\u001b[38;5;241m0\u001b[39m,\u001b[38;5;241m100\u001b[39m)) \u001b[38;5;241m+\u001b[39m \u001b[38;5;124m\"\u001b[39m\u001b[38;5;124m,\u001b[39m\u001b[38;5;124m\"\u001b[39m\n\u001b[1;32m----> 8\u001b[0m     \u001b[38;5;241;43m+\u001b[39;49m\u001b[43m \u001b[49m\u001b[38;5;28;43mstr\u001b[39;49m\u001b[43m(\u001b[49m\u001b[43mrandom\u001b[49m\u001b[38;5;241;43m.\u001b[39;49m\u001b[43mrandrange\u001b[49m\u001b[43m(\u001b[49m\u001b[38;5;241;43m0\u001b[39;49m\u001b[43m,\u001b[49m\u001b[43m \u001b[49m\u001b[38;5;241;43m100\u001b[39;49m\u001b[43m)\u001b[49m\u001b[43m)\u001b[49m \u001b[38;5;241m+\u001b[39m \u001b[38;5;124m\"\u001b[39m\u001b[38;5;124m,\u001b[39m\u001b[38;5;124m\"\u001b[39m \u001b[38;5;241m+\u001b[39m \u001b[38;5;28mstr\u001b[39m(random\u001b[38;5;241m.\u001b[39mrandrange(\u001b[38;5;241m0\u001b[39m,\u001b[38;5;241m100\u001b[39m)) \u001b[38;5;241m+\u001b[39m \u001b[38;5;124m\"\u001b[39m\u001b[38;5;130;01m\\n\u001b[39;00m\u001b[38;5;124m\"\u001b[39m\n\u001b[0;32m      9\u001b[0m     f\u001b[38;5;241m.\u001b[39mwrite(one_person) \u001b[38;5;66;03m#한 줄씩 쓴다\u001b[39;00m\n\u001b[0;32m     10\u001b[0m     \u001b[38;5;28mprint\u001b[39m(one_person) \u001b[38;5;66;03m# 한 줄씩 출력\u001b[39;00m\n",
      "\u001b[1;31mTypeError\u001b[0m: bad operand type for unary +: 'str'"
     ]
    }
   ],
   "source": [
    "# 파일 쓰기\n",
    "import random\n",
    "\n",
    "f = 0 \n",
    "f = open(\"score.txt\",\"wt\") # score파일을 쓰기모드로 연다\n",
    "for i in range(100): # 100번 실행하는 for문\n",
    "    one_person = \"홍길동\" + str(i) + \",\" + str(random.randrange(0,100)) + \",\"\n",
    "    + str(random.randrange(0, 100)) + \",\" + str(random.randrange(0,100)) + \"\\n\"\n",
    "    f.write(one_person) #한 줄씩 쓴다\n",
    "    print(one_person) # 한 줄씩 출력\n",
    "f.close() # 파일을 닫는다"
   ]
  },
  {
   "cell_type": "code",
   "execution_count": 20,
   "id": "91b60112",
   "metadata": {},
   "outputs": [],
   "source": [
    "f = 0\n",
    "f = open(\"score.txt\",\"rt\")\n",
    "while True:\n",
    "    one_person = f.readline() #한 줄씩 읽는다\n",
    "    if not one_person: break #읽을 내용이 없으면 루프탈출\n",
    "    one_person=one_person.replace(\"\\n\",\"\") #줄 바꿈문자 없애기\n",
    "    item=one_person.split(\",\") #콤마 구분자로 짜르기\n",
    "    print(\"=\"*10)\n",
    "    print(\"이름: \", item[0])\n",
    "    print(\"국어: \", item[1])\n",
    "    print(\"영어: \", item[2])\n",
    "    print(\"수학: \", item[3])\n",
    "    print(\"=\"*10)\n",
    "f.close()"
   ]
  },
  {
   "cell_type": "code",
   "execution_count": null,
   "id": "573c33d5",
   "metadata": {},
   "outputs": [],
   "source": []
  }
 ],
 "metadata": {
  "kernelspec": {
   "display_name": "Python 3 (ipykernel)",
   "language": "python",
   "name": "python3"
  },
  "language_info": {
   "codemirror_mode": {
    "name": "ipython",
    "version": 3
   },
   "file_extension": ".py",
   "mimetype": "text/x-python",
   "name": "python",
   "nbconvert_exporter": "python",
   "pygments_lexer": "ipython3",
   "version": "3.8.8"
  }
 },
 "nbformat": 4,
 "nbformat_minor": 5
}
