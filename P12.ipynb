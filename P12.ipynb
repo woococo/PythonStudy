{
 "cells": [
  {
   "cell_type": "code",
   "execution_count": 1,
   "id": "6e246e48",
   "metadata": {},
   "outputs": [
    {
     "name": "stdout",
     "output_type": "stream",
     "text": [
      "파일없음\n",
      "프로그램 끝\n"
     ]
    }
   ],
   "source": [
    "# 파일 다루기\n",
    "f=0\n",
    "try:\n",
    "    f=open(\"LICENSE.txt\",\"rt\")\n",
    "    while True:\n",
    "        r=f.readline()\n",
    "        if not r:\n",
    "            break\n",
    "        print(r) \n",
    "except FileNotFoundError:\n",
    "    print(\"파일없음\")\n",
    "finally:\n",
    "    if(f): f.close()\n",
    "    print(\"프로그램 끝\")"
   ]
  },
  {
   "cell_type": "code",
   "execution_count": 6,
   "id": "3c38f672",
   "metadata": {},
   "outputs": [
    {
     "ename": "SyntaxError",
     "evalue": "unmatched ')' (582407060.py, line 9)",
     "output_type": "error",
     "traceback": [
      "\u001b[1;36m  Input \u001b[1;32mIn [6]\u001b[1;36m\u001b[0m\n\u001b[1;33m    one_person=\"홍길동\"+str(i)+\",\"+str(r.randrange(0,100))+\",\"+str(r.randrange(0,100))+\",\"+str(r.randrange(0,100)))+\"\\n\"\u001b[0m\n\u001b[1;37m                                                                                                               ^\u001b[0m\n\u001b[1;31mSyntaxError\u001b[0m\u001b[1;31m:\u001b[0m unmatched ')'\n"
     ]
    }
   ],
   "source": [
    "# 파일 쓰기\n",
    "f=0\n",
    "f=open(\"score.txt\",\"wt\")\n",
    "for i in range(100):\n",
    "# 아래와 같은 형태를 만들기 위하여 str.format 함수를 사용할 수 있다.\n",
    "# one_person=\"{0:s},{1:d},{2:d},{3:d}\\n“\n",
    "#.format(\"홍길동\"+str(i),r.randrange(0,100),r.randrange(0,100),r.randrange(0,100))\n",
    "\n",
    "    one_person=\"홍길동\"+str(i)+\",\"+str(r.randrange(0,100))+\",\"+str(r.randrange(0,100))+\",\"+str(r.randrange(0,100)))+\"\\n\"\n",
    "    \n",
    "    f.write(one_person) #한 줄씩 쓴다\n",
    "    print(one_person)\n",
    "f.close()"
   ]
  },
  {
   "cell_type": "code",
   "execution_count": null,
   "id": "91b60112",
   "metadata": {},
   "outputs": [],
   "source": []
  }
 ],
 "metadata": {
  "kernelspec": {
   "display_name": "Python 3 (ipykernel)",
   "language": "python",
   "name": "python3"
  },
  "language_info": {
   "codemirror_mode": {
    "name": "ipython",
    "version": 3
   },
   "file_extension": ".py",
   "mimetype": "text/x-python",
   "name": "python",
   "nbconvert_exporter": "python",
   "pygments_lexer": "ipython3",
   "version": "3.8.8"
  }
 },
 "nbformat": 4,
 "nbformat_minor": 5
}
