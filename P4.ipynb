{
 "cells": [
  {
   "cell_type": "code",
   "execution_count": 1,
   "id": "bcc0eac5",
   "metadata": {},
   "outputs": [
    {
     "data": {
      "text/plain": [
       "(3, 4, 2859)"
      ]
     },
     "execution_count": 1,
     "metadata": {},
     "output_type": "execute_result"
    }
   ],
   "source": [
    "# 단순 대입 연산자1\n",
    "# 단순 대입 연산자란 변수의 값을 집어넣는 형태이다\n",
    "# 변수 = 값, 변수 = 수식의 형태로 사용\n",
    "# 수식 = 변수는 불가능\n",
    "a = 3\n",
    "b = 4\n",
    "c = 123 + 456 *6\n",
    "a, b, c"
   ]
  },
  {
   "cell_type": "code",
   "execution_count": 2,
   "id": "207fe7a6",
   "metadata": {},
   "outputs": [
    {
     "ename": "SyntaxError",
     "evalue": "cannot assign to operator (1437919179.py, line 1)",
     "output_type": "error",
     "traceback": [
      "\u001b[1;36m  Input \u001b[1;32mIn [2]\u001b[1;36m\u001b[0m\n\u001b[1;33m    a + b = c\u001b[0m\n\u001b[1;37m    ^\u001b[0m\n\u001b[1;31mSyntaxError\u001b[0m\u001b[1;31m:\u001b[0m cannot assign to operator\n"
     ]
    }
   ],
   "source": [
    "a + b = c # 수식 = 변수는 불가능 -> 오류 발생"
   ]
  },
  {
   "cell_type": "code",
   "execution_count": 3,
   "id": "4bee1775",
   "metadata": {
    "scrolled": true
   },
   "outputs": [
    {
     "ename": "SyntaxError",
     "evalue": "cannot assign to operator (3162896274.py, line 1)",
     "output_type": "error",
     "traceback": [
      "\u001b[1;36m  Input \u001b[1;32mIn [3]\u001b[1;36m\u001b[0m\n\u001b[1;33m    123 + 456 = a\u001b[0m\n\u001b[1;37m    ^\u001b[0m\n\u001b[1;31mSyntaxError\u001b[0m\u001b[1;31m:\u001b[0m cannot assign to operator\n"
     ]
    }
   ],
   "source": [
    "123 + 456 = a # 수식 = 변수는 불가능 -> 오류 발생"
   ]
  },
  {
   "cell_type": "code",
   "execution_count": 4,
   "id": "c1eba47d",
   "metadata": {},
   "outputs": [
    {
     "ename": "TypeError",
     "evalue": "unsupported operand type(s) for +: 'int' and 'str'",
     "output_type": "error",
     "traceback": [
      "\u001b[1;31m---------------------------------------------------------------------------\u001b[0m",
      "\u001b[1;31mTypeError\u001b[0m                                 Traceback (most recent call last)",
      "Input \u001b[1;32mIn [4]\u001b[0m, in \u001b[0;36m<cell line: 2>\u001b[1;34m()\u001b[0m\n\u001b[0;32m      1\u001b[0m a \u001b[38;5;241m=\u001b[39m \u001b[38;5;241m1\u001b[39m\n\u001b[1;32m----> 2\u001b[0m a \u001b[38;5;241m=\u001b[39m \u001b[43ma\u001b[49m\u001b[43m \u001b[49m\u001b[38;5;241;43m+\u001b[39;49m\u001b[43m \u001b[49m\u001b[38;5;124;43m\"\u001b[39;49m\u001b[38;5;124;43m안녕\u001b[39;49m\u001b[38;5;124;43m\"\u001b[39;49m\n",
      "\u001b[1;31mTypeError\u001b[0m: unsupported operand type(s) for +: 'int' and 'str'"
     ]
    }
   ],
   "source": [
    "# 단순 대입 연산자2\n",
    "# 변수의 값을 집어넣는 수낙ㄴ 변수의 자료형이 결정됨\n",
    "# 자료형이 결정된 이후 자료형 형태로 사용해야 함\n",
    "# 다시 다른 자료형을 대입 시 자료형이 변경됨\n",
    "a = 1\n",
    "a = a + \"안녕\" # a는 수치형인데 문자형을 더한다..? 안됨"
   ]
  },
  {
   "cell_type": "code",
   "execution_count": 5,
   "id": "4e4c9b43",
   "metadata": {},
   "outputs": [
    {
     "data": {
      "text/plain": [
       "'abc안녕'"
      ]
     },
     "execution_count": 5,
     "metadata": {},
     "output_type": "execute_result"
    }
   ],
   "source": [
    "a = \"abc\" #  a에 다시 문자를 대입하는 순간 a는 문자형이 됨\n",
    "a = a + \"안녕\" # 기존 abc에 안녕을 붙임\n",
    "a # -> abc안녕"
   ]
  },
  {
   "cell_type": "code",
   "execution_count": 6,
   "id": "26e5245e",
   "metadata": {},
   "outputs": [
    {
     "data": {
      "text/plain": [
       "(1, 2)"
      ]
     },
     "execution_count": 6,
     "metadata": {},
     "output_type": "execute_result"
    }
   ],
   "source": [
    "# 복합형태 대입 연산자1\n",
    "# a,b=b,a 로a,b변수의값을서로바꿀수있음\n",
    "a = 1\n",
    "b = 2\n",
    "a, b  # -> 1,2"
   ]
  },
  {
   "cell_type": "code",
   "execution_count": 7,
   "id": "a92c67f4",
   "metadata": {},
   "outputs": [
    {
     "data": {
      "text/plain": [
       "(2, 1)"
      ]
     },
     "execution_count": 7,
     "metadata": {},
     "output_type": "execute_result"
    }
   ],
   "source": [
    "a, b = b, a # a, b 값은 b, a로 변경\n",
    "a, b # -> 2,1"
   ]
  },
  {
   "cell_type": "code",
   "execution_count": 8,
   "id": "067d16a0",
   "metadata": {},
   "outputs": [
    {
     "data": {
      "text/plain": [
       "(1, 2, '안녕', '하세요', 3, 4)"
      ]
     },
     "execution_count": 8,
     "metadata": {},
     "output_type": "execute_result"
    }
   ],
   "source": [
    "# 복합형태 대입 연산자2\n",
    "# 여러 변수의 값을 한번에 대입할 수 있음\n",
    "a, b, c, d, e, f = 1, 2, \"안녕\", \"하세요\", 3, 4\n",
    "a, b, c, d, e, f"
   ]
  },
  {
   "cell_type": "code",
   "execution_count": 9,
   "id": "30a3a522",
   "metadata": {},
   "outputs": [
    {
     "data": {
      "text/plain": [
       "(1, 1)"
      ]
     },
     "execution_count": 9,
     "metadata": {},
     "output_type": "execute_result"
    }
   ],
   "source": [
    "# 복합형태 대입 연산자3\n",
    "# 단순 변수는 값을 대입하는 형태로 이해 가능하나, 컬렉션의 경우 같은 변수를\n",
    "#   공유하는 것으로 이해해야 함\n",
    "a = b = 1 # a,b 값을 공유\n",
    "a, b"
   ]
  },
  {
   "cell_type": "code",
   "execution_count": 10,
   "id": "1adcc6d6",
   "metadata": {},
   "outputs": [
    {
     "data": {
      "text/plain": [
       "(1, 2)"
      ]
     },
     "execution_count": 10,
     "metadata": {},
     "output_type": "execute_result"
    }
   ],
   "source": [
    "b = 2 # b 값을 2로 변경\n",
    "a, b"
   ]
  },
  {
   "cell_type": "code",
   "execution_count": 11,
   "id": "9cf69b82",
   "metadata": {},
   "outputs": [
    {
     "data": {
      "text/plain": [
       "([1, 2, 3], [1, 2, 3])"
      ]
     },
     "execution_count": 11,
     "metadata": {},
     "output_type": "execute_result"
    }
   ],
   "source": [
    "a = b = [1, 2, 3] # a,b 값을 공유 \n",
    "a, b"
   ]
  },
  {
   "cell_type": "code",
   "execution_count": 12,
   "id": "c31ce8ae",
   "metadata": {},
   "outputs": [
    {
     "data": {
      "text/plain": [
       "([1, 4, 3], [1, 4, 3])"
      ]
     },
     "execution_count": 12,
     "metadata": {},
     "output_type": "execute_result"
    }
   ],
   "source": [
    "a[1] = 4\n",
    "a, b"
   ]
  },
  {
   "cell_type": "code",
   "execution_count": 13,
   "id": "4fb267a6",
   "metadata": {},
   "outputs": [
    {
     "data": {
      "text/plain": [
       "([1, 2, 3, 4, 5], [1, 2, 3, 4, 5])"
      ]
     },
     "execution_count": 13,
     "metadata": {},
     "output_type": "execute_result"
    }
   ],
   "source": [
    "# 복합형태 대입 연산자4\n",
    "# 심화 학습1\n",
    "# 컬렉션에서 값을 복사하는 경우\n",
    "a = [1, 2, 3, 4, 5]\n",
    "b = a[:] # b는 a를 복사한 값\n",
    "a, b"
   ]
  },
  {
   "cell_type": "code",
   "execution_count": 14,
   "id": "cad9c95b",
   "metadata": {},
   "outputs": [
    {
     "data": {
      "text/plain": [
       "([1, 2, 5, 4, 5], [1, 2, 3, 4, 5])"
      ]
     },
     "execution_count": 14,
     "metadata": {},
     "output_type": "execute_result"
    }
   ],
   "source": [
    "a[2] = 5 # a[2] 값이 3에서 5로 바뀜\n",
    "a, b"
   ]
  },
  {
   "cell_type": "code",
   "execution_count": 1,
   "id": "2994c278",
   "metadata": {},
   "outputs": [
    {
     "data": {
      "text/plain": [
       "31"
      ]
     },
     "execution_count": 1,
     "metadata": {},
     "output_type": "execute_result"
    }
   ],
   "source": [
    "# 복합형태 대입 연산자5\n",
    "# 심화 학습2\n",
    "# 파이썬에서 실제 변수에 값을 집어 넣는 경우 \n",
    "#   -> 값이라는 오브젝트(object)를 어디에 정의해 놓고 참고해서 사용하는 방식\n",
    "import sys\n",
    "a = 123 # a는 123이라고 정의\n",
    "sys.getrefcount(123) # 123을 어느 공간에 만들어 놓고 참조하는 방식"
   ]
  },
  {
   "cell_type": "code",
   "execution_count": 2,
   "id": "0fe2ec22",
   "metadata": {},
   "outputs": [
    {
     "data": {
      "text/plain": [
       "32"
      ]
     },
     "execution_count": 2,
     "metadata": {},
     "output_type": "execute_result"
    }
   ],
   "source": [
    "b = 123; sys.getrefcount(123)\n"
   ]
  },
  {
   "cell_type": "code",
   "execution_count": 3,
   "id": "526ad950",
   "metadata": {},
   "outputs": [
    {
     "data": {
      "text/plain": [
       "33"
      ]
     },
     "execution_count": 3,
     "metadata": {},
     "output_type": "execute_result"
    }
   ],
   "source": [
    "c = 123; sys.getrefcount(123)"
   ]
  },
  {
   "cell_type": "code",
   "execution_count": 27,
   "id": "bda11a03",
   "metadata": {},
   "outputs": [
    {
     "data": {
      "text/plain": [
       "2.5"
      ]
     },
     "execution_count": 27,
     "metadata": {},
     "output_type": "execute_result"
    }
   ],
   "source": [
    "# 일반 산술 연산자1\n",
    "# 사칙연산 순으로 계산\n",
    "1 + 2 * 3 / 4"
   ]
  },
  {
   "cell_type": "code",
   "execution_count": 28,
   "id": "178e5bfd",
   "metadata": {},
   "outputs": [
    {
     "data": {
      "text/plain": [
       "8"
      ]
     },
     "execution_count": 28,
     "metadata": {},
     "output_type": "execute_result"
    }
   ],
   "source": [
    "2 ** 3"
   ]
  },
  {
   "cell_type": "code",
   "execution_count": 29,
   "id": "f5da1a6d",
   "metadata": {
    "scrolled": true
   },
   "outputs": [
    {
     "data": {
      "text/plain": [
       "3.3333333333333335"
      ]
     },
     "execution_count": 29,
     "metadata": {},
     "output_type": "execute_result"
    }
   ],
   "source": [
    "10 / 3"
   ]
  },
  {
   "cell_type": "code",
   "execution_count": 30,
   "id": "46e28c13",
   "metadata": {},
   "outputs": [
    {
     "data": {
      "text/plain": [
       "1.23456789012e+23"
      ]
     },
     "execution_count": 30,
     "metadata": {},
     "output_type": "execute_result"
    }
   ],
   "source": [
    "1e12 * 123456789012"
   ]
  },
  {
   "cell_type": "code",
   "execution_count": 31,
   "id": "38b38988",
   "metadata": {
    "scrolled": true
   },
   "outputs": [
    {
     "data": {
      "text/plain": [
       "(123+14j)"
      ]
     },
     "execution_count": 31,
     "metadata": {},
     "output_type": "execute_result"
    }
   ],
   "source": [
    "a = 1 * 2j\n",
    "a + (123+12j)"
   ]
  },
  {
   "cell_type": "code",
   "execution_count": null,
   "id": "11907883",
   "metadata": {},
   "outputs": [],
   "source": [
    "# 일반 산술 연산자2\n",
    "# 정수형 연산자 : //(정수형 나눗셈), %(나머지)"
   ]
  },
  {
   "cell_type": "code",
   "execution_count": 32,
   "id": "ca032b50",
   "metadata": {},
   "outputs": [
    {
     "data": {
      "text/plain": [
       "2.5"
      ]
     },
     "execution_count": 32,
     "metadata": {},
     "output_type": "execute_result"
    }
   ],
   "source": [
    "# 일반 산술 연산자3\n",
    "# 실수형 계산이 기본이나 정수형 연산자를 사용하면 정수형 연산임\n",
    "5 / 2"
   ]
  },
  {
   "cell_type": "code",
   "execution_count": 33,
   "id": "5770341e",
   "metadata": {},
   "outputs": [
    {
     "data": {
      "text/plain": [
       "2"
      ]
     },
     "execution_count": 33,
     "metadata": {},
     "output_type": "execute_result"
    }
   ],
   "source": [
    "5 // 2"
   ]
  },
  {
   "cell_type": "code",
   "execution_count": 34,
   "id": "b87fd6b6",
   "metadata": {
    "scrolled": false
   },
   "outputs": [
    {
     "data": {
      "text/plain": [
       "1"
      ]
     },
     "execution_count": 34,
     "metadata": {},
     "output_type": "execute_result"
    }
   ],
   "source": [
    "5 % 2"
   ]
  },
  {
   "cell_type": "code",
   "execution_count": 38,
   "id": "9c1d146e",
   "metadata": {},
   "outputs": [
    {
     "name": "stdout",
     "output_type": "stream",
     "text": [
      "2\n",
      "2\n"
     ]
    }
   ],
   "source": [
    "# 복합 연산자1\n",
    "a = 1; a = a + 1; print(a) # -> 2\n",
    "a = 1; a += 1; print(a) # 누적은 a += a로 표시 -> 2"
   ]
  },
  {
   "cell_type": "code",
   "execution_count": 39,
   "id": "57b093f9",
   "metadata": {},
   "outputs": [
    {
     "data": {
      "text/plain": [
       "4"
      ]
     },
     "execution_count": 39,
     "metadata": {},
     "output_type": "execute_result"
    }
   ],
   "source": [
    "a *= 2; a # -> 2*2 = 4 # 누곱은 a *= a로 표시 -> 2"
   ]
  },
  {
   "cell_type": "code",
   "execution_count": 40,
   "id": "fb531885",
   "metadata": {},
   "outputs": [
    {
     "data": {
      "text/plain": [
       "8"
      ]
     },
     "execution_count": 40,
     "metadata": {},
     "output_type": "execute_result"
    }
   ],
   "source": [
    "a *= 2; a # -> 4*2 = 8"
   ]
  },
  {
   "cell_type": "code",
   "execution_count": 41,
   "id": "d6f8254c",
   "metadata": {},
   "outputs": [
    {
     "data": {
      "text/plain": [
       "0"
      ]
     },
     "execution_count": 41,
     "metadata": {},
     "output_type": "execute_result"
    }
   ],
   "source": [
    "a = 1; a -= 1; a # -> 1-1 = 0"
   ]
  },
  {
   "cell_type": "code",
   "execution_count": 42,
   "id": "69d860a1",
   "metadata": {},
   "outputs": [
    {
     "data": {
      "text/plain": [
       "-1"
      ]
     },
     "execution_count": 42,
     "metadata": {},
     "output_type": "execute_result"
    }
   ],
   "source": [
    "a -= 1; a # 1-1 = 0"
   ]
  },
  {
   "cell_type": "code",
   "execution_count": 43,
   "id": "ee4d8bc3",
   "metadata": {},
   "outputs": [
    {
     "ename": "SyntaxError",
     "evalue": "invalid syntax (3857774950.py, line 2)",
     "output_type": "error",
     "traceback": [
      "\u001b[1;36m  Input \u001b[1;32mIn [43]\u001b[1;36m\u001b[0m\n\u001b[1;33m    a++\u001b[0m\n\u001b[1;37m       ^\u001b[0m\n\u001b[1;31mSyntaxError\u001b[0m\u001b[1;31m:\u001b[0m invalid syntax\n"
     ]
    }
   ],
   "source": [
    "# 복합 연산자2\n",
    "# 파이썬에서는 ++나 --를 사용할 수 없음\n",
    "a = 1\n",
    "a++ # 당연 오류"
   ]
  },
  {
   "cell_type": "code",
   "execution_count": 44,
   "id": "63aceb44",
   "metadata": {
    "scrolled": true
   },
   "outputs": [
    {
     "ename": "SyntaxError",
     "evalue": "invalid syntax (1562500846.py, line 1)",
     "output_type": "error",
     "traceback": [
      "\u001b[1;36m  Input \u001b[1;32mIn [44]\u001b[1;36m\u001b[0m\n\u001b[1;33m    a--\u001b[0m\n\u001b[1;37m       ^\u001b[0m\n\u001b[1;31mSyntaxError\u001b[0m\u001b[1;31m:\u001b[0m invalid syntax\n"
     ]
    }
   ],
   "source": [
    "a-- # 파이썬에서는 ++나 --를 사용할 수 없음"
   ]
  },
  {
   "cell_type": "code",
   "execution_count": 50,
   "id": "5a6f4372",
   "metadata": {},
   "outputs": [
    {
     "data": {
      "text/plain": [
       "1"
      ]
     },
     "execution_count": 50,
     "metadata": {},
     "output_type": "execute_result"
    }
   ],
   "source": [
    "a =+ 1; a # ++ 대신에 =+를 사용"
   ]
  },
  {
   "cell_type": "code",
   "execution_count": 48,
   "id": "8b5dd5a9",
   "metadata": {},
   "outputs": [
    {
     "data": {
      "text/plain": [
       "-1"
      ]
     },
     "execution_count": 48,
     "metadata": {},
     "output_type": "execute_result"
    }
   ],
   "source": [
    "a=- 1; a # -- 대신에 =-를 사용"
   ]
  },
  {
   "cell_type": "code",
   "execution_count": 51,
   "id": "cdb89e5c",
   "metadata": {},
   "outputs": [
    {
     "data": {
      "text/plain": [
       "'멍멍이고양이'"
      ]
     },
     "execution_count": 51,
     "metadata": {},
     "output_type": "execute_result"
    }
   ],
   "source": [
    "# 문자형 변환\n",
    "# 변수의 형태가 다르면 서로 연산처리를 할 수 없음\n",
    "#   이때는 변수의 형 변환처리를 해야 함\n",
    "# 문자형 변수의 덧셈은 문자열을 붙이는 것으로 처리됨\n",
    "a = \"멍멍이\"\n",
    "b = \"고양이\"\n",
    "a + b # a와 b를 붙여서 출력"
   ]
  },
  {
   "cell_type": "code",
   "execution_count": 52,
   "id": "f7a6cee3",
   "metadata": {},
   "outputs": [
    {
     "data": {
      "text/plain": [
       "'멍멍이멍멍이멍멍이고양이고양이'"
      ]
     },
     "execution_count": 52,
     "metadata": {},
     "output_type": "execute_result"
    }
   ],
   "source": [
    "a * 3 + b * 2 # a를 세번 b를 2번 출력"
   ]
  },
  {
   "cell_type": "code",
   "execution_count": 53,
   "id": "fe154055",
   "metadata": {},
   "outputs": [
    {
     "data": {
      "text/plain": [
       "'--------------------'"
      ]
     },
     "execution_count": 53,
     "metadata": {},
     "output_type": "execute_result"
    }
   ],
   "source": [
    "\"-\" * 20 # -를 20번 출력"
   ]
  },
  {
   "cell_type": "code",
   "execution_count": 54,
   "id": "d1d4ec2b",
   "metadata": {
    "scrolled": true
   },
   "outputs": [
    {
     "ename": "TypeError",
     "evalue": "can only concatenate str (not \"int\") to str",
     "output_type": "error",
     "traceback": [
      "\u001b[1;31m---------------------------------------------------------------------------\u001b[0m",
      "\u001b[1;31mTypeError\u001b[0m                                 Traceback (most recent call last)",
      "Input \u001b[1;32mIn [54]\u001b[0m, in \u001b[0;36m<cell line: 2>\u001b[1;34m()\u001b[0m\n\u001b[0;32m      1\u001b[0m a \u001b[38;5;241m=\u001b[39m \u001b[38;5;241m1\u001b[39m\n\u001b[1;32m----> 2\u001b[0m b \u001b[38;5;241m=\u001b[39m \u001b[38;5;124;43m\"\u001b[39;49m\u001b[38;5;124;43m강아지\u001b[39;49m\u001b[38;5;124;43m\"\u001b[39;49m\u001b[43m \u001b[49m\u001b[38;5;241;43m+\u001b[39;49m\u001b[43m \u001b[49m\u001b[43ma\u001b[49m \u001b[38;5;241m+\u001b[39m \u001b[38;5;124m\"\u001b[39m\u001b[38;5;124m마리\u001b[39m\u001b[38;5;124m\"\u001b[39m\n",
      "\u001b[1;31mTypeError\u001b[0m: can only concatenate str (not \"int\") to str"
     ]
    }
   ],
   "source": [
    "# 문자형 변환2\n",
    "# 문자형과 숫자형의 덧셈은 에러남\n",
    "# 숫자형을 문자형으로 변환해서 사용해야함 ->  str() 사용\n",
    "a = 1\n",
    "b = \"강아지\" + a + \"마리\" "
   ]
  },
  {
   "cell_type": "code",
   "execution_count": 55,
   "id": "424c911d",
   "metadata": {},
   "outputs": [
    {
     "data": {
      "text/plain": [
       "'강이지1마리'"
      ]
     },
     "execution_count": 55,
     "metadata": {},
     "output_type": "execute_result"
    }
   ],
   "source": [
    "b = \"강이지\" + str(a) + \"마리\" # 숫자형인 a를 문자형으로 바꿈\n",
    "b"
   ]
  },
  {
   "cell_type": "code",
   "execution_count": 56,
   "id": "f74f964d",
   "metadata": {
    "scrolled": true
   },
   "outputs": [
    {
     "data": {
      "text/plain": [
       "44032"
      ]
     },
     "execution_count": 56,
     "metadata": {},
     "output_type": "execute_result"
    }
   ],
   "source": [
    "# 문자형 변환3\n",
    "# 문자형을 다루는 ord() 함수는 문자의 내부코드 값을 반환\n",
    "# chr함수는 내부코드 값을 가지고 해당 글자를 반환\n",
    "ord(\"가\")"
   ]
  },
  {
   "cell_type": "code",
   "execution_count": 57,
   "id": "db25eddb",
   "metadata": {},
   "outputs": [
    {
     "data": {
      "text/plain": [
       "'0x61'"
      ]
     },
     "execution_count": 57,
     "metadata": {},
     "output_type": "execute_result"
    }
   ],
   "source": [
    "hex(ord(\"a\"))"
   ]
  },
  {
   "cell_type": "code",
   "execution_count": 58,
   "id": "a2a14544",
   "metadata": {
    "scrolled": true
   },
   "outputs": [
    {
     "name": "stdout",
     "output_type": "stream",
     "text": [
      "0x61 = a , 0x62 = b , 0x63 = c , 0x64 = d , 0x65 = e , 0x66 = f , 0x67 = g , 0x68 = h , 0x69 = i , 0x6a = j , 0x6b = k , 0x6c = l , 0x6d = m , 0x6e = n , 0x6f = o , 0x70 = p , 0x71 = q , 0x72 = r , 0x73 = s , 0x74 = t , 0x75 = u , 0x76 = v , 0x77 = w , 0x78 = x , 0x79 = y , 0x7a = z , "
     ]
    }
   ],
   "source": [
    "for c in range (ord('a'), ord('z') + 1) :\n",
    "    print(hex(c), \"=\", chr(c), \", \", end = \"\")"
   ]
  },
  {
   "cell_type": "code",
   "execution_count": 59,
   "id": "f34bd9df",
   "metadata": {
    "scrolled": true
   },
   "outputs": [
    {
     "ename": "TypeError",
     "evalue": "can only concatenate str (not \"int\") to str",
     "output_type": "error",
     "traceback": [
      "\u001b[1;31m---------------------------------------------------------------------------\u001b[0m",
      "\u001b[1;31mTypeError\u001b[0m                                 Traceback (most recent call last)",
      "Input \u001b[1;32mIn [59]\u001b[0m, in \u001b[0;36m<cell line: 1>\u001b[1;34m()\u001b[0m\n\u001b[1;32m----> 1\u001b[0m a \u001b[38;5;241m=\u001b[39m \u001b[38;5;124m\"\u001b[39m\u001b[38;5;124m123\u001b[39m\u001b[38;5;124m\"\u001b[39m; \u001b[43ma\u001b[49m\u001b[43m \u001b[49m\u001b[38;5;241;43m+\u001b[39;49m\u001b[43m \u001b[49m\u001b[38;5;241;43m1\u001b[39;49m\n",
      "\u001b[1;31mTypeError\u001b[0m: can only concatenate str (not \"int\") to str"
     ]
    }
   ],
   "source": [
    "# 숫자형 변환1\n",
    "# int()\n",
    "# 문자형을 숫자형으로 바꾸는 경우 int() 사용\n",
    "a = \"123\"; a + 1  # 현재 a는 문자형이므로 문자형에 1을 더한다? -> 오류남"
   ]
  },
  {
   "cell_type": "code",
   "execution_count": 60,
   "id": "eb9a417a",
   "metadata": {
    "scrolled": true
   },
   "outputs": [
    {
     "data": {
      "text/plain": [
       "124"
      ]
     },
     "execution_count": 60,
     "metadata": {},
     "output_type": "execute_result"
    }
   ],
   "source": [
    "a = \"123\"; int(a) + 1 # 문자형인 a를 숫자형으로 바꾼 뒤 1을 더하면?! 정상"
   ]
  },
  {
   "cell_type": "code",
   "execution_count": 61,
   "id": "6f07381b",
   "metadata": {},
   "outputs": [
    {
     "data": {
      "text/plain": [
       "12"
      ]
     },
     "execution_count": 61,
     "metadata": {},
     "output_type": "execute_result"
    }
   ],
   "source": [
    "a = 12.3; int(a) # 동일한 이름으로 실수형을 정수형으로 바꾸는 경우도 int() 사용"
   ]
  },
  {
   "cell_type": "code",
   "execution_count": 62,
   "id": "cc598f8c",
   "metadata": {
    "scrolled": true
   },
   "outputs": [
    {
     "ename": "ValueError",
     "evalue": "invalid literal for int() with base 10: '12.3'",
     "output_type": "error",
     "traceback": [
      "\u001b[1;31m---------------------------------------------------------------------------\u001b[0m",
      "\u001b[1;31mValueError\u001b[0m                                Traceback (most recent call last)",
      "Input \u001b[1;32mIn [62]\u001b[0m, in \u001b[0;36m<cell line: 1>\u001b[1;34m()\u001b[0m\n\u001b[1;32m----> 1\u001b[0m a \u001b[38;5;241m=\u001b[39m \u001b[38;5;124m\"\u001b[39m\u001b[38;5;124m12.3\u001b[39m\u001b[38;5;124m\"\u001b[39m; \u001b[38;5;28;43mint\u001b[39;49m\u001b[43m(\u001b[49m\u001b[43ma\u001b[49m\u001b[43m)\u001b[49m\n",
      "\u001b[1;31mValueError\u001b[0m: invalid literal for int() with base 10: '12.3'"
     ]
    }
   ],
   "source": [
    "# 숫자형 변환2\n",
    "# float()\n",
    "# 문자형을 실수형으로 바꾸는 경우 -> float() 사용\n",
    "a = \"12.3\"; int(a) # 실수형 값을 가진 문자형을 정수형으로 바꾸면?! -> 에러남"
   ]
  },
  {
   "cell_type": "code",
   "execution_count": 63,
   "id": "b487a863",
   "metadata": {
    "scrolled": true
   },
   "outputs": [
    {
     "data": {
      "text/plain": [
       "12.3"
      ]
     },
     "execution_count": 63,
     "metadata": {},
     "output_type": "execute_result"
    }
   ],
   "source": [
    "float(a) # int(a)가 아니라 float(a)로 해야함"
   ]
  },
  {
   "cell_type": "code",
   "execution_count": 64,
   "id": "11328f89",
   "metadata": {
    "scrolled": true
   },
   "outputs": [
    {
     "data": {
      "text/plain": [
       "14.1"
      ]
     },
     "execution_count": 64,
     "metadata": {},
     "output_type": "execute_result"
    }
   ],
   "source": [
    "a = 1.1; 1 + a + 12 # 연산시 하나라도 실수형을 만나면 실수형의 연산을 해야함"
   ]
  },
  {
   "cell_type": "code",
   "execution_count": 66,
   "id": "cdbe6ac9",
   "metadata": {},
   "outputs": [
    {
     "data": {
      "text/plain": [
       "14"
      ]
     },
     "execution_count": 66,
     "metadata": {},
     "output_type": "execute_result"
    }
   ],
   "source": [
    "1 + int(a) + 12  # 실수형을 정수형으로 형 반환시 소수점 이하 자릿수는 버림"
   ]
  },
  {
   "cell_type": "code",
   "execution_count": 77,
   "id": "ba40e358",
   "metadata": {
    "scrolled": true
   },
   "outputs": [
    {
     "data": {
      "text/plain": [
       "3"
      ]
     },
     "execution_count": 77,
     "metadata": {},
     "output_type": "execute_result"
    }
   ],
   "source": [
    "# 숫자형 변환3\n",
    "int(3.14) # int() 함수는 소수점 이하의 숫자를 버림"
   ]
  },
  {
   "cell_type": "code",
   "execution_count": 78,
   "id": "f0c952df",
   "metadata": {
    "scrolled": true
   },
   "outputs": [
    {
     "data": {
      "text/plain": [
       "3"
      ]
     },
     "execution_count": 78,
     "metadata": {},
     "output_type": "execute_result"
    }
   ],
   "source": [
    "# 반올림 함수는 round()를 사용\n",
    "round(3.14)"
   ]
  },
  {
   "cell_type": "code",
   "execution_count": 79,
   "id": "0ad2f7e2",
   "metadata": {
    "scrolled": true
   },
   "outputs": [
    {
     "data": {
      "text/plain": [
       "3.1"
      ]
     },
     "execution_count": 79,
     "metadata": {},
     "output_type": "execute_result"
    }
   ],
   "source": [
    "round(3.14, 1) # 소수점 첫번째 자리에서 반올림"
   ]
  },
  {
   "cell_type": "code",
   "execution_count": 80,
   "id": "d5bc7a39",
   "metadata": {},
   "outputs": [
    {
     "data": {
      "text/plain": [
       "120000"
      ]
     },
     "execution_count": 80,
     "metadata": {},
     "output_type": "execute_result"
    }
   ],
   "source": [
    "round(123456, -4) # 만(4번째)의 자리에서 반올림"
   ]
  },
  {
   "cell_type": "code",
   "execution_count": 4,
   "id": "5be8596c",
   "metadata": {},
   "outputs": [
    {
     "data": {
      "text/plain": [
       "1235000"
      ]
     },
     "execution_count": 4,
     "metadata": {},
     "output_type": "execute_result"
    }
   ],
   "source": [
    "# 숫자형 변환4\n",
    "a = 1234567\n",
    "if (a % 1000 != 0) : # 1000으로 나누어 나머지가 0이 아니라면\n",
    "    a = int(a / 1000) * 1000 + 1000 # 버린 값에다 한 자리를 올림\n",
    "else : # 나머지가 0이라면\n",
    "    a = int(a / 1000) * 1000 \n",
    "a"
   ]
  },
  {
   "cell_type": "code",
   "execution_count": null,
   "id": "ec82c7f3",
   "metadata": {},
   "outputs": [],
   "source": []
  }
 ],
 "metadata": {
  "kernelspec": {
   "display_name": "Python 3 (ipykernel)",
   "language": "python",
   "name": "python3"
  },
  "language_info": {
   "codemirror_mode": {
    "name": "ipython",
    "version": 3
   },
   "file_extension": ".py",
   "mimetype": "text/x-python",
   "name": "python",
   "nbconvert_exporter": "python",
   "pygments_lexer": "ipython3",
   "version": "3.8.8rc1"
  }
 },
 "nbformat": 4,
 "nbformat_minor": 5
}
