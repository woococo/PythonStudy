{
 "cells": [
  {
   "cell_type": "code",
   "execution_count": 1,
   "id": "79258436",
   "metadata": {
    "scrolled": true
   },
   "outputs": [
    {
     "ename": "SyntaxError",
     "evalue": "invalid character in identifier (2250424340.py, line 2)",
     "output_type": "error",
     "traceback": [
      "\u001b[1;36m  Input \u001b[1;32mIn [1]\u001b[1;36m\u001b[0m\n\u001b[1;33m    ② 함수와인수- return값, pass\u001b[0m\n\u001b[1;37m    ^\u001b[0m\n\u001b[1;31mSyntaxError\u001b[0m\u001b[1;31m:\u001b[0m invalid character in identifier\n"
     ]
    }
   ],
   "source": [
    " 함수와인수- 정의,인수\n",
    "② 함수와인수- return값, pass\n",
    "③ 변수의범위- 가변인수\n",
    "④ 변수의범위- 디폴트값처리\n",
    "⑤ 변수의범위- 키워드인수, 키워드가변인수\n",
    "⑥ 함수의특이사항- 전역변수, 지역변수, docstring"
   ]
  },
  {
   "cell_type": "code",
   "execution_count": 1,
   "id": "e5f78cf0",
   "metadata": {},
   "outputs": [
    {
     "name": "stdout",
     "output_type": "stream",
     "text": [
      "별10개 찍기\n",
      "**********\n",
      "\n",
      "별3개 찍기\n",
      "***\n",
      "\n",
      "별5개 찍기\n",
      "*****\n",
      "\n"
     ]
    }
   ],
   "source": [
    "# 함수의 정의1\n",
    "print(\"별10개 찍기\")\n",
    "for i in range(10): # 0부터 9까지 실행되는 반복문 -> 10번\n",
    "    print(\"*\", end = \"\") # * 출력\n",
    "print(\"\\n\")\n",
    "\n",
    "print(\"별3개 찍기\") \n",
    "for i in range(3): # 0부터 2까지 실행되는 반복문 -> 3번\n",
    "    print(\"*\", end = \"\") # * 출력\n",
    "print(\"\\n\")\n",
    "\n",
    "print(\"별5개 찍기\") \n",
    "for i in range(5): # 0부터 4까지 실행되는 반복문 -> 5번\n",
    "    print(\"*\", end = \"\") # * 출력\n",
    "print(\"\\n\")"
   ]
  },
  {
   "cell_type": "code",
   "execution_count": 2,
   "id": "f331649f",
   "metadata": {},
   "outputs": [
    {
     "name": "stdout",
     "output_type": "stream",
     "text": [
      "별10개 찍기\n",
      "**********\n",
      "\n",
      "별3개 찍기\n",
      "***\n",
      "\n",
      "별5개 찍기\n",
      "*****\n",
      "\n"
     ]
    }
   ],
   "source": [
    "# 함수의 정의2, 인수1\n",
    "\n",
    "def starprint(n): # n의 값을 받는 starprint라는 함수 정의\n",
    "    for i in range(n): # 0부터 n까지 실행되는 반복문\n",
    "        print(\"*\", end = \"\") # * 찍기\n",
    "    print(\"\\n\")\n",
    "    \n",
    "print(\"별10개 찍기\"); starprint(10) # starprint 함수 n의 값에 10 대입\n",
    "print(\"별3개 찍기\"); starprint(3) # starprint 함수 n의 값에 3 대입\n",
    "print(\"별5개 찍기\"); starprint(5) # starprint 함수 n의 값에 5 대입"
   ]
  },
  {
   "cell_type": "code",
   "execution_count": 3,
   "id": "724747fd",
   "metadata": {
    "scrolled": true
   },
   "outputs": [
    {
     "name": "stdout",
     "output_type": "stream",
     "text": [
      "1~10까지의 합: 55\n",
      "1~1000까지의 합: 500500\n",
      "1~10000까지의 합: 50005000\n"
     ]
    }
   ],
   "source": [
    "# 인수2\n",
    "def intsum(n): # n의 값을 받는 intsum 함수 생성\n",
    "    sum = 0; # 변수 sum의 값을 초기화\n",
    "    for i in range(1, n + 1, 1): # 1부터 n까지 1씩 증가하는 반복문\n",
    "        sum += i # sum은 i를 누적해서 더한 값\n",
    "    return sum # sum 값을 반환\n",
    "\n",
    "print(\"1~10까지의 합:\", intsum(10)) # intsum 함수에 10을 대입\n",
    "print(\"1~1000까지의 합:\", intsum(1000)) # intsum 함수에 100을 대입\n",
    "print(\"1~10000까지의 합:\", intsum(10000)) # intsum 함수에 10000을 대입"
   ]
  },
  {
   "cell_type": "code",
   "execution_count": 4,
   "id": "86bf60d7",
   "metadata": {},
   "outputs": [
    {
     "name": "stdout",
     "output_type": "stream",
     "text": [
      "1~10까지의 합: 55\n",
      "100~1000까지의 합: 495550\n",
      "5000~10000까지의 합: 37507500\n"
     ]
    }
   ],
   "source": [
    "# 인수3\n",
    "def intsum(x, y): # x, y 값을 대입받는 intsum 함수 생성\n",
    "    sum = 0; # 변수 sum의 값을 초기화\n",
    "    for i in range(x, y + 1, 1): # x부터 y까지 1씩증가하는 반복문\n",
    "        sum += i # sum은 i를 누적해서 더한 값\n",
    "    return sum # sum 값을 반환\n",
    "\n",
    "print(\"1~10까지의 합:\", intsum(1, 10))  # intsum 함수에 1과10을 대입\n",
    "print(\"100~1000까지의 합:\", intsum(100, 1000))  # intsum 함수에 100과 1000을 대입\n",
    "print(\"5000~10000까지의 합:\", intsum(5000, 10000))  # intsum 함수에 5000과 10000을 대입"
   ]
  },
  {
   "cell_type": "code",
   "execution_count": 5,
   "id": "526e3eb2",
   "metadata": {},
   "outputs": [
    {
     "name": "stdout",
     "output_type": "stream",
     "text": [
      "1 ~ 10 까지의 합에 5를 더함 : 60\n",
      "100~1000까지의 합에 33을 곱함 : 16353150\n"
     ]
    }
   ],
   "source": [
    "# return 값1\n",
    "def intsum(x, y): # x, y 값을 대입받는 intsum 함수 생성\n",
    "    sum = 0; # 변수 sum의 값을 초기화\n",
    "    for i in range(x, y + 1, 1): # x부터 y까지 1씩증가하는 반복문\n",
    "        sum += i # sum은 i를 누적해서 더한 값\n",
    "    return sum # sum 값을 반환\n",
    "\n",
    "print(\"1 ~ 10 까지의 합에 5를 더함 :\",intsum(1, 10) + 5)\n",
    "# intsum 함수에 1과10을 대입한 값에 5를 더해 출력\n",
    "i = intsum(100, 1000) * 33\n",
    "# i는 intsum 함수에 100과 1000을 대입한 값에 33을 곱함\n",
    "print(\"100~1000까지의 합에 33을 곱함 :\", i)"
   ]
  },
  {
   "cell_type": "code",
   "execution_count": 6,
   "id": "59163df8",
   "metadata": {},
   "outputs": [
    {
     "name": "stdout",
     "output_type": "stream",
     "text": [
      "함수내부에서 sum값을 출력 : 495550\n",
      "100 ~ 1000 까지의 합 : None\n",
      "100 ~ 1000 까지의 합에 33을 곱함 : None\n"
     ]
    }
   ],
   "source": [
    "# return 값2\n",
    "# return 값이 없는 예제 \n",
    "def intsum(x, y): # x, y 값을 대입받는 intsum 함수 생성\n",
    "    sum = 0; # 변수 sum의 값을 초기화\n",
    "    for i in range(x, y + 1, 1): # x부터 y까지 1씩증가하는 반복문\n",
    "        sum += i # sum은 i를 누적해서 더한 값\n",
    "    print(\"함수내부에서 sum값을 출력 :\", sum) \n",
    "\n",
    "i = intsum(100, 1000)\n",
    "# intsum 함수에 100과1000을 대입\n",
    "print(\"100 ~ 1000 까지의 합 :\", i)\n",
    "print(\"100 ~ 1000 까지의 합에 33을 곱함 :\",i)"
   ]
  },
  {
   "cell_type": "code",
   "execution_count": 7,
   "id": "683511c0",
   "metadata": {},
   "outputs": [
    {
     "name": "stdout",
     "output_type": "stream",
     "text": [
      "==================================================\n",
      "이름\t국어\t영어\t수학\t총점\t평균\n",
      "==================================================\n",
      "나연 \t 100 \t 90 \t 100 \t 290 \t 96\n",
      "정연 \t 100 \t 100 \t 80 \t 280 \t 93\n",
      "모모 \t 90 \t 100 \t 100 \t 290 \t 96\n",
      "사나 \t 90 \t 80 \t 90 \t 260 \t 86\n",
      "지효 \t 100 \t 100 \t 100 \t 300 \t 100\n",
      "미나 \t 80 \t 70 \t 90 \t 240 \t 80\n",
      "다현 \t 70 \t 60 \t 100 \t 230 \t 76\n",
      "채영 \t 80 \t 100 \t 90 \t 270 \t 90\n",
      "쯔위 \t 100 \t 100 \t 100 \t 300 \t 100\n",
      "==================================================\n",
      "반총점\t 810 \t 800 \t 850 \t 273 \t 91.0\n",
      "==================================================\n"
     ]
    }
   ],
   "source": [
    "# pass\n",
    "# 아무런 처리가 없는 명령, 추후 내용을 채움\n",
    "def titleprint(): # titleprint 함수 생성\n",
    "    pass # 내용은 비워둠\n",
    "def itemprint(name, kortotal, engtotal, mathtotal): # itemprint 함수 생성\n",
    "    pass # 내용은 비워둠\n",
    "def tailprint(): # tailprint 함수 생성\n",
    "    pass # 내용은 비워둠\n",
    "\n",
    "#데이터\n",
    "cname = [\"나연\", \"정연\", \"모모\", \"사나\", \"지효\", \"미나\", \"다현\", \"채영\", \"쯔위\"]\n",
    "ckor = [ 100, 100, 90, 90, 100, 80, 70, 80, 100]\n",
    "ceng = [ 90, 100, 100, 80, 100, 70, 60, 100, 100]\n",
    "cmat = [ 100, 80, 100, 90, 100, 90, 100, 90, 100]\n",
    "\n",
    "def titleprint(): # 위에서 만든 titleprint함수의 내용을 채움\n",
    "    print(\"=\" * 50)\n",
    "    print(\"이름\\t국어\\t영어\\t수학\\t총점\\t평균\")\n",
    "    print(\"=\" * 50)\n",
    "\n",
    "def itemprint(name, kor, eng, mat): # 위에서 만든 itemprint 함수의 내용을 채움\n",
    "    print(name, \"\\t\", kor, \"\\t\", eng, \"\\t\", mat, \"\\t\", kor + eng + mat, \"\\t\", (kor + eng + mat) // 3)\n",
    "    \n",
    "def tailprint(): # 위에서 만든 tailprint함수의 내용을 채움\n",
    "    totkor = 0\n",
    "    for i in ckor : # ckor 크기만큼 실행되는 반복문\n",
    "        totkor += i # totkor는 i값을 누적한 값\n",
    "        \n",
    "    toteng = 0\n",
    "    for i in ceng : # ceng 크기만큼 실행되는 반복문\n",
    "        toteng += i # toteng는 i값을 누적한 값\n",
    "    \n",
    "    totmat = 0\n",
    "    for i in cmat : # cmat 크기만큼 실행되는 반복문\n",
    "        totmat += i # totmat는 i 값을 누적한 값\n",
    "    \n",
    "    print(\"=\" * 50)\n",
    "    print(\"반총점\\t\", totkor, \"\\t\", toteng, \"\\t\", totmat, \"\\t\"\\\n",
    "          ,(totkor + toteng + totmat) // 9, \"\\t\", (totkor + toteng + totmat) / 3 // 9)\n",
    "    print(\"=\" * 50)\n",
    "\n",
    "# 여기부터 프로그램 실행\n",
    "titleprint()\n",
    "for i in range(9):\n",
    "    itemprint(cname[i], ckor[i], ceng[i], cmat[i])\n",
    "tailprint() "
   ]
  },
  {
   "cell_type": "code",
   "execution_count": 8,
   "id": "f36ca422",
   "metadata": {},
   "outputs": [
    {
     "name": "stdout",
     "output_type": "stream",
     "text": [
      "case 1 :  1\n",
      "case 2 :  7\n",
      "case 3 :  9505\n"
     ]
    }
   ],
   "source": [
    "# 가변인수1\n",
    "# 인수의 개수가 여러 개를 보낼 때 사용\n",
    "def sumsum(* num): # sumsum이라는 함수 생성, 여러개의 인수를 받음\n",
    "    sum = 0 # 변수 sum의 값을 초기화\n",
    "    for i in num: # i는 num크기만큼 수해되는 반복문\n",
    "        sum += i # sum은 i를 누적한 값\n",
    "    return sum # sum의 값을 반환\n",
    "\n",
    "print(\"case 1 : \", sumsum(1)) # 함수 sumsum에 1을 대입\n",
    "print(\"case 2 : \", sumsum(1,2,4)) # 함수 sumsum에 1,2,4를 대입\n",
    "print(\"case 3 : \", sumsum(1,2,34,567,8901)) # sumsum에 1,2,34,567,8901 대입"
   ]
  },
  {
   "cell_type": "code",
   "execution_count": 9,
   "id": "d447778e",
   "metadata": {
    "scrolled": true
   },
   "outputs": [
    {
     "name": "stdout",
     "output_type": "stream",
     "text": [
      "case 1: 1\n",
      "case 2: 7\n",
      "case 3: 9505\n"
     ]
    }
   ],
   "source": [
    "# 가변인수2\n",
    "def sumsum(num): # sumsum이라는 함수 생성, 1개의 인수를 받음\n",
    "    sum = 0 # 변수 sum의 값을 초기화\n",
    "    for i in num: # i는 num크기만큼 수해되는 반복문\n",
    "        sum += i # sum은 i를 누적한 값\n",
    "    return sum # sum의 값을 반환\n",
    "\n",
    "print(\"case 1:\", sumsum([1]))  # 함수 sumsum에 [1]을 대입\n",
    "print(\"case 2:\", sumsum([1,2,4])) # 함수 sumsum에 [1,2,4]를 대입\n",
    "print(\"case 3:\", sumsum([1,2,34,567,8901])) # sumsum에 [1,2,34,567,8901] 대입"
   ]
  },
  {
   "cell_type": "code",
   "execution_count": 10,
   "id": "79168db0",
   "metadata": {
    "scrolled": true
   },
   "outputs": [
    {
     "ename": "SyntaxError",
     "evalue": "invalid syntax (1823071361.py, line 5)",
     "output_type": "error",
     "traceback": [
      "\u001b[1;36m  Input \u001b[1;32mIn [10]\u001b[1;36m\u001b[0m\n\u001b[1;33m    sumsum(*num,str*) # ERROR\u001b[0m\n\u001b[1;37m                    ^\u001b[0m\n\u001b[1;31mSyntaxError\u001b[0m\u001b[1;31m:\u001b[0m invalid syntax\n"
     ]
    }
   ],
   "source": [
    "# 가변인수3\n",
    "# 가변인수는 몇 개가 입력될지 모르기 때문에 다음의 경우는 에러가 발생함\n",
    "sumsum(str,*num) # OK\n",
    "sumsum(*num,str) # ERROR\n",
    "sumsum(*num,str*) # ERROR"
   ]
  },
  {
   "cell_type": "code",
   "execution_count": 11,
   "id": "6cfea4e5",
   "metadata": {},
   "outputs": [
    {
     "name": "stdout",
     "output_type": "stream",
     "text": [
      "case 1 : 55\n",
      "case 2 : 3825\n",
      "case 3 : 495550\n"
     ]
    }
   ],
   "source": [
    "# 디폴트 값 처리1\n",
    "# 합을 구하는 함수 예제\n",
    "def defaultest (start, end = 1000, step = 1):\n",
    "    sum = 0  # 변수 sum의 값을 초기화\n",
    "    for i in range(start, end + 1, step):\n",
    "        sum += i # sum은 i를 누적한 값\n",
    "    return sum # sum의 값을 반환\n",
    "\n",
    "print(\"case 1 :\", defaultest(0, 10, 1))\n",
    "#인수 하나를 생략시 맨뒤 step값이 1로 기본값처리\n",
    "print(\"case 2 :\", defaultest(50, 100)) \n",
    "#인수 하나를 생략시 맨뒤 step값이 1,\n",
    "#end 값이 1000으로 기본값처리\n",
    "print(\"case 3 :\", defaultest(100))"
   ]
  },
  {
   "cell_type": "code",
   "execution_count": 12,
   "id": "523c8e18",
   "metadata": {},
   "outputs": [
    {
     "name": "stdout",
     "output_type": "stream",
     "text": [
      "case 1 : 55\n",
      "case 2 : 55\n",
      "case 3 : 55\n",
      "case 4 : 55\n",
      "case 5 : 55\n"
     ]
    }
   ],
   "source": [
    "# 키워드 인수1\n",
    "def defaultest (start, end = 1000, step = 1):\n",
    "    sum = 0 # 변수 sum의 값을 초기화\n",
    "    for i in range(start, end + 1, step):\n",
    "        sum += i # sum은 i를 누적한 값\n",
    "    return sum # sum의 값을 반환\n",
    "\n",
    "print(\"case 1 :\", defaultest(0, 10, 1))\n",
    "print(\"case 2 :\", defaultest(start = 0, end = 10, step = 1))\n",
    "#키워드 지정시 순서가 상관없음\n",
    "print(\"case 3 :\", defaultest(step = 1, end = 10, start = 0))\n",
    "#맨뒤로 부터만 키워드 인수를 사용하고 앞은 일반인수\n",
    "print(\"case 4 :\", defaultest(0, 10, step = 1))\n",
    "#맨뒤로 부터만 키워드 인수를 사용하고 앞은 일반인수\n",
    "print(\"case 5 :\", defaultest(0, step = 1, end = 10))"
   ]
  },
  {
   "cell_type": "code",
   "execution_count": 13,
   "id": "6b020083",
   "metadata": {},
   "outputs": [
    {
     "ename": "SyntaxError",
     "evalue": "unmatched ')' (1028030045.py, line 5)",
     "output_type": "error",
     "traceback": [
      "\u001b[1;36m  Input \u001b[1;32mIn [13]\u001b[1;36m\u001b[0m\n\u001b[1;33m    defaultest(start=0,step=1,10))\u001b[0m\n\u001b[1;37m                                 ^\u001b[0m\n\u001b[1;31mSyntaxError\u001b[0m\u001b[1;31m:\u001b[0m unmatched ')'\n"
     ]
    }
   ],
   "source": [
    "# 디폴트인수와 마찬가지로 뒤에서부터 키워드인수를 사용하여야함\n",
    "# 아래와 같은 경우는 에러 발생\n",
    "# print(\"error1:\", defaultest(0,step=1,10))\n",
    "# print(\"error2:\", \n",
    "defaultest(start = 0, step = 1, 10))"
   ]
  },
  {
   "cell_type": "code",
   "execution_count": 14,
   "id": "6364f8e5",
   "metadata": {},
   "outputs": [
    {
     "name": "stdout",
     "output_type": "stream",
     "text": [
      "case 1 : 55\n",
      "case 2 : 5005\n"
     ]
    }
   ],
   "source": [
    "# 키워드 가변 인수1\n",
    "# 인수전달 개수가 가변이며, 변수의 명칭을 키워드로\n",
    "#   전달하며 인수전달 개수도 가변인 경우\n",
    "def testfunc (**args):\n",
    "    start = args[\"start\"] # 키워드 가변\n",
    "    end = args[\"end\"] # 키워드 가변\n",
    "    step = args[\"step\"] # 키워드 가변\n",
    "    sum = 0 # 변수 sum의 값을 초기화\n",
    "    for i in range(start, end + 1, step):\n",
    "        sum += i # sum은 i를 누적한 값\n",
    "    return sum # sum의 값을 반환\n",
    "\n",
    "print(\"case 1 :\", testfunc(start = 0, end = 10, step = 1))\n",
    "print(\"case 2 :\", testfunc(end = 100, step = 1, start = 10))"
   ]
  },
  {
   "cell_type": "code",
   "execution_count": 15,
   "id": "65595a8d",
   "metadata": {},
   "outputs": [
    {
     "name": "stdout",
     "output_type": "stream",
     "text": [
      "==============================\n",
      "***********\n",
      "\n",
      "&&&&&&&&&&&\n",
      "\n",
      "===========\n",
      "\n",
      "==============================\n",
      "   ********\n",
      "\n",
      "   ????????\n",
      "\n",
      "   ========\n",
      "\n",
      "   %%%%%%%%\n",
      "\n"
     ]
    }
   ],
   "source": [
    "# 키워드 가변 인수2\n",
    "# 가변, 키워드 가변을 섞어서 사용하는 것도 가능\n",
    "def testfunc (*s, **args): # testfunc라는 함수 생성\n",
    "    start = args[\"start\"] # 키워드 가변\n",
    "    end = args[\"end\"] # 키워드 가변\n",
    "    step = args[\"step\"] # 키워드 가변\n",
    "    for c in s: # s만큰 실행되는 반복문\n",
    "        print(\" \" * start, end = \"\") # 공백 출력\n",
    "        for i in range(start, end + 1, step): # start부터 end까지 step만큼 증가하는 반복문\n",
    "            print(c, end = \"\") # c 출력\n",
    "        print(\"\\n\")\n",
    "\n",
    "print(\"=\" * 30) # = 30개 출력\n",
    "testfunc(\"*\", \"&\", \"=\", start = 0, end = 10, step = 1)\n",
    "# testfunc에  *, &, =, 0, 10, 1 대입\n",
    "print(\"=\" * 30) # = 30개 출력\n",
    "testfunc(\"*\", \"?\", \"=\", \"%\", start = 3, end = 10, step = 1)\n",
    "# testfunc에  *, &, =, %, 3, 10, 1 대입"
   ]
  },
  {
   "cell_type": "code",
   "execution_count": 16,
   "id": "12761f41",
   "metadata": {
    "scrolled": true
   },
   "outputs": [
    {
     "ename": "NameError",
     "evalue": "name 'a' is not defined",
     "output_type": "error",
     "traceback": [
      "\u001b[1;31m---------------------------------------------------------------------------\u001b[0m",
      "\u001b[1;31mNameError\u001b[0m                                 Traceback (most recent call last)",
      "Input \u001b[1;32mIn [16]\u001b[0m, in \u001b[0;36m<cell line: 7>\u001b[1;34m()\u001b[0m\n\u001b[0;32m      4\u001b[0m     a \u001b[38;5;241m=\u001b[39m \u001b[38;5;241m1\u001b[39m\n\u001b[0;32m      6\u001b[0m test()\n\u001b[1;32m----> 7\u001b[0m \u001b[38;5;28mprint\u001b[39m(\u001b[43ma\u001b[49m)\n",
      "\u001b[1;31mNameError\u001b[0m: name 'a' is not defined"
     ]
    }
   ],
   "source": [
    "# 전역변수, 지역변수1\n",
    "# 함수에서 사용된 지역변수는 다른함수나 메인에서 해당변수를 가져다사용할 수 없음\n",
    "def test():\n",
    "    a = 1\n",
    "\n",
    "test()\n",
    "print(a) # 에러발생"
   ]
  },
  {
   "cell_type": "code",
   "execution_count": 19,
   "id": "2de49334",
   "metadata": {},
   "outputs": [
    {
     "name": "stdout",
     "output_type": "stream",
     "text": [
      "testf1 : 1\n",
      "testf2 : 즐거운 실습\n",
      "testf3 : 3.141592\n",
      "랄랄라\n"
     ]
    }
   ],
   "source": [
    "# 전역변수, 지역변수2\n",
    "# testf1(), testf2(), test3(), main에 선언된 a변수는 이름만 a로 같을뿐 전혀 다른 변수임\n",
    "def testf1() : # testf1 함수 생성\n",
    "    a = 1 # a는 1\n",
    "    print(\"testf1 :\", a) # a 출력\n",
    "\n",
    "def testf2() : # testf2 함수 생성\n",
    "    a = \"즐거운 실습\" # a는 즐거운 실습\n",
    "    print(\"testf2 :\", a) # a 출력\n",
    "\n",
    "def testf3() : # testf3 함수 생성\n",
    "    a = 3.141592 # a는 3.141592\n",
    "    print(\"testf3 :\", a) # a 출력\n",
    "\n",
    "testf1()\n",
    "testf2()\n",
    "testf3()\n",
    "a = \"랄랄라\"\n",
    "print(a)"
   ]
  },
  {
   "cell_type": "code",
   "execution_count": 20,
   "id": "5ac613f0",
   "metadata": {
    "scrolled": true
   },
   "outputs": [
    {
     "name": "stdout",
     "output_type": "stream",
     "text": [
      "testf1 : 현재 달러환율은 1달러당  1021  원이며\n",
      "testf1 : 미화 100달러는  102100  원 입니다.\n",
      "testf1 : 현재 달러환율은 1달러당  1120  원이며\n",
      "testf1 : 미화 100달러는  112000  원 입니다.\n",
      "testf2 : 현재 달러환율은 1달러당  1011  원이며\n",
      "testf2 : 미화 100달러는  101100  원 입니다.\n",
      "testf1 : 현재 달러환율은 1달러당  1120  원이며\n",
      "testf1 : 미화 100달러는  112000  원 입니다.\n"
     ]
    }
   ],
   "source": [
    "# 전역변수, 지역변수3\n",
    "def testf1() : # testf1 함수 생성\n",
    "    print(\"testf1 : 현재 달러환율은 1달러당 \", exrate, \" 원이며\")\n",
    "    print(\"testf1 : 미화 100달러는 \", 100 * exrate, \" 원 입니다.\")\n",
    "\n",
    "def testf2() : # testf2 함수 생성\n",
    "    exrate = 1011\n",
    "    print(\"testf2 : 현재 달러환율은 1달러당 \", exrate, \" 원이며\")\n",
    "    print(\"testf2 : 미화 100달러는 \", 100 * exrate, \" 원 입니다.\")\n",
    "\n",
    "exrate = 1021 # exrate에 1021 대입\n",
    "testf1() # 함수 testf1 실행\n",
    "exrate = 1120 # exrate에 1120 대입\n",
    "testf1() # 함수 testf2 실행\n",
    "\n",
    "testf2() #case 1\n",
    "testf1() #case 2"
   ]
  },
  {
   "cell_type": "code",
   "execution_count": 18,
   "id": "cd887269",
   "metadata": {},
   "outputs": [
    {
     "name": "stdout",
     "output_type": "stream",
     "text": [
      "Help on function testf1 in module __main__:\n",
      "\n",
      "testf1()\n",
      "    이 함수는 홍필두가 최선을 다하여 멋지게 만든 함수\n",
      "    인수 값에 숫자만큼 1부터 해당 값을 더한 값을 출력해 준다\n",
      "\n"
     ]
    }
   ],
   "source": [
    "# docstring\n",
    "# 함수에 대하여 주석이나 설명을 기입할때 docstring을 사용\n",
    "def testf1():\n",
    "    \"\"\" \n",
    "이 함수는 홍필두가 최선을 다하여 멋지게 만든 함수\n",
    "인수 값에 숫자만큼 1부터 해당 값을 더한 값을 출력해 준다\n",
    "\"\"\"\n",
    "    sum = 0 # sum의 값을 0으로 초기화\n",
    "    for i in range(n + 1): # 0부터 n까지 실행되는 반복문\n",
    "        sum += i # sum은 i를 누적한 값\n",
    "    print(\"합:\",sum) # sum 출력\n",
    "    \n",
    "# 프로그램에서(특히 대화식 모드) 해당함수가 궁금할 때\n",
    "help(testf1)"
   ]
  },
  {
   "cell_type": "code",
   "execution_count": null,
   "id": "9e5cfed2",
   "metadata": {},
   "outputs": [],
   "source": []
  },
  {
   "cell_type": "code",
   "execution_count": null,
   "id": "07454dde",
   "metadata": {},
   "outputs": [],
   "source": []
  }
 ],
 "metadata": {
  "kernelspec": {
   "display_name": "Python 3 (ipykernel)",
   "language": "python",
   "name": "python3"
  },
  "language_info": {
   "codemirror_mode": {
    "name": "ipython",
    "version": 3
   },
   "file_extension": ".py",
   "mimetype": "text/x-python",
   "name": "python",
   "nbconvert_exporter": "python",
   "pygments_lexer": "ipython3",
   "version": "3.8.8"
  }
 },
 "nbformat": 4,
 "nbformat_minor": 5
}
