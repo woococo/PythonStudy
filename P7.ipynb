{
 "cells": [
  {
   "cell_type": "code",
   "execution_count": 1,
   "id": "79258436",
   "metadata": {},
   "outputs": [
    {
     "ename": "SyntaxError",
     "evalue": "invalid character in identifier (2250424340.py, line 2)",
     "output_type": "error",
     "traceback": [
      "\u001b[1;36m  Input \u001b[1;32mIn [1]\u001b[1;36m\u001b[0m\n\u001b[1;33m    ② 함수와인수- return값, pass\u001b[0m\n\u001b[1;37m    ^\u001b[0m\n\u001b[1;31mSyntaxError\u001b[0m\u001b[1;31m:\u001b[0m invalid character in identifier\n"
     ]
    }
   ],
   "source": [
    " 함수와인수- 정의,인수\n",
    "② 함수와인수- return값, pass\n",
    "③ 변수의범위- 가변인수\n",
    "④ 변수의범위- 디폴트값처리\n",
    "⑤ 변수의범위- 키워드인수, 키워드가변인수\n",
    "⑥ 함수의특이사항- 전역변수, 지역변수, docstring"
   ]
  },
  {
   "cell_type": "code",
   "execution_count": 2,
   "id": "f331649f",
   "metadata": {},
   "outputs": [
    {
     "name": "stdout",
     "output_type": "stream",
     "text": [
      "별10개 찍기\n",
      "**********\n",
      "\n",
      "별3개 찍기\n",
      "***\n",
      "\n",
      "별5개 찍기\n",
      "*****\n",
      "\n"
     ]
    }
   ],
   "source": [
    "# 함수의 정의, 인수1\n",
    "\n",
    "def starprint(n):\n",
    "    for i in range(n):\n",
    "        print(\"*\", end = \"\")\n",
    "    print(\"\\n\")\n",
    "    \n",
    "print(\"별10개 찍기\");starprint(10)\n",
    "print(\"별3개 찍기\");starprint(3)\n",
    "print(\"별5개 찍기\");starprint(5)"
   ]
  },
  {
   "cell_type": "code",
   "execution_count": 4,
   "id": "724747fd",
   "metadata": {},
   "outputs": [
    {
     "name": "stdout",
     "output_type": "stream",
     "text": [
      "1~10까지의 합: 55\n",
      "1~1000까지의 합: 500500\n",
      "1~10000까지의 합: 50005000\n"
     ]
    }
   ],
   "source": [
    "# 인수2\n",
    "def intsum(n):\n",
    "    sum=0;\n",
    "    for i in range(1, n + 1, 1):\n",
    "        sum += i\n",
    "    return sum\n",
    "\n",
    "print(\"1~10까지의 합:\", intsum(10))\n",
    "print(\"1~1000까지의 합:\", intsum(1000))\n",
    "print(\"1~10000까지의 합:\", intsum(10000))"
   ]
  },
  {
   "cell_type": "code",
   "execution_count": 5,
   "id": "86bf60d7",
   "metadata": {},
   "outputs": [
    {
     "name": "stdout",
     "output_type": "stream",
     "text": [
      "1~10까지의 합: 55\n",
      "100~1000까지의 합: 495550\n",
      "5000~10000까지의 합: 37507500\n"
     ]
    }
   ],
   "source": [
    "# 인수3\n",
    "def intsum(x, y):\n",
    "    sum = 0;\n",
    "    for i in range(x, y + 1, 1):\n",
    "        sum += i\n",
    "    return sum\n",
    "\n",
    "print(\"1~10까지의 합:\", intsum(1, 10))\n",
    "print(\"100~1000까지의 합:\", intsum(100, 1000))\n",
    "print(\"5000~10000까지의 합:\", intsum(5000, 10000))"
   ]
  },
  {
   "cell_type": "code",
   "execution_count": 7,
   "id": "526e3eb2",
   "metadata": {},
   "outputs": [
    {
     "name": "stdout",
     "output_type": "stream",
     "text": [
      "1 ~ 10 까지의 합에 5를 더함 :  60\n",
      "100~1000까지의 합에 33을 곱함 :  16353150\n"
     ]
    }
   ],
   "source": [
    "# return 값\n",
    "def intsum(x, y):\n",
    "    sum = 0;\n",
    "    for i in range(x, y + 1, 1):\n",
    "        sum += i\n",
    "    return sum\n",
    "\n",
    "print(\"1 ~ 10 까지의 합에 5를 더함 :\",intsum(1, 10) + 5)\n",
    "i = intsum(100, 1000) * 33\n",
    "print(\"100~1000까지의 합에 33을 곱함 :\", i)"
   ]
  },
  {
   "cell_type": "code",
   "execution_count": 9,
   "id": "59163df8",
   "metadata": {},
   "outputs": [
    {
     "name": "stdout",
     "output_type": "stream",
     "text": [
      "함수내부에서 sum값을 출력 : 495550\n",
      "100 ~ 1000 까지의 합 : None\n",
      "100 ~ 1000 까지의 합에 33을 곱함 : None\n"
     ]
    }
   ],
   "source": [
    "# return 값이 없는 예제 \n",
    "def intsum(x, y):\n",
    "    sum = 0;\n",
    "    for i in range(x, y + 1, 1):\n",
    "        sum += i\n",
    "    print(\"함수내부에서 sum값을 출력 :\", sum)\n",
    "\n",
    "i = intsum(100, 1000)\n",
    "print(\"100 ~ 1000 까지의 합 :\", i)\n",
    "print(\"100 ~ 1000 까지의 합에 33을 곱함 :\",i)"
   ]
  },
  {
   "cell_type": "code",
   "execution_count": 1,
   "id": "683511c0",
   "metadata": {},
   "outputs": [
    {
     "name": "stdout",
     "output_type": "stream",
     "text": [
      "==================================================\n",
      "이름\t국어\t영어\t수학\t총점\t평균\n",
      "==================================================\n",
      "나연 \t 100 \t 90 \t 100 \t 290 \t 96\n",
      "정연 \t 100 \t 100 \t 80 \t 280 \t 93\n",
      "모모 \t 90 \t 100 \t 100 \t 290 \t 96\n",
      "사나 \t 90 \t 80 \t 90 \t 260 \t 86\n",
      "지효 \t 100 \t 100 \t 100 \t 300 \t 100\n",
      "미나 \t 80 \t 70 \t 90 \t 240 \t 80\n",
      "다현 \t 70 \t 60 \t 100 \t 230 \t 76\n",
      "채영 \t 80 \t 100 \t 90 \t 270 \t 90\n",
      "쯔위 \t 100 \t 100 \t 100 \t 300 \t 100\n",
      "==================================================\n",
      "반총점\t 810 \t 800 \t 850 \t 273 \t 91.0\n",
      "==================================================\n"
     ]
    }
   ],
   "source": [
    "# pass\n",
    "def titleprint():\n",
    "    pass\n",
    "\n",
    "def itemprint(name, kortotal, engtotal, mathtotal):\n",
    "    pass\n",
    "\n",
    "def tailprint():\n",
    "    pass\n",
    "\n",
    "#데이터\n",
    "cname=[\"나연\", \"정연\", \"모모\", \"사나\", \"지효\", \"미나\", \"다현\", \"채영\", \"쯔위\"]\n",
    "ckor =[ 100, 100, 90, 90, 100, 80, 70, 80, 100]\n",
    "ceng =[ 90, 100, 100, 80, 100, 70, 60, 100, 100]\n",
    "cmat =[ 100, 80, 100, 90, 100, 90, 100, 90, 100]\n",
    "\n",
    "def titleprint():\n",
    "    print(\"=\" * 50)\n",
    "    print(\"이름\\t국어\\t영어\\t수학\\t총점\\t평균\")\n",
    "    print(\"=\" * 50)\n",
    "\n",
    "def itemprint(name, kor, eng, mat):\n",
    "    print(name, \"\\t\", kor, \"\\t\", eng, \"\\t\", mat, \"\\t\", kor + eng + mat, \"\\t\", \n",
    "          (kor + eng + mat) // 3)\n",
    "    \n",
    "def tailprint():\n",
    "    totkor = 0\n",
    "    for i in ckor:\n",
    "        totkor += i\n",
    "    toteng = 0\n",
    "    for i in ceng:\n",
    "        toteng += i\n",
    "    totmat = 0\n",
    "    for i in cmat:\n",
    "        totmat += i\n",
    "    print(\"=\" * 50)\n",
    "    print(\"반총점\\t\", totkor, \"\\t\", toteng, \"\\t\", totmat, \"\\t\"\\\n",
    "          ,(totkor + toteng + totmat) // 9, \"\\t\", (totkor + toteng + totmat) / 3 // 9)\n",
    "    print(\"=\" * 50)\n",
    "\n",
    "    #여기부터 프로그램\n",
    "titleprint()\n",
    "for i in range(9):\n",
    "    itemprint(cname[i], ckor[i], ceng[i], cmat[i])\n",
    "tailprint() "
   ]
  },
  {
   "cell_type": "code",
   "execution_count": 20,
   "id": "f36ca422",
   "metadata": {},
   "outputs": [
    {
     "name": "stdout",
     "output_type": "stream",
     "text": [
      "case 1 :  1\n",
      "case 2 :  7\n",
      "case 3 :  9505\n"
     ]
    }
   ],
   "source": [
    "# 가변인수\n",
    "def sumsum(* num):\n",
    "    sum = 0\n",
    "    for i in num:\n",
    "        sum += i\n",
    "    return sum\n",
    "\n",
    "print(\"case 1 : \", sumsum(1))\n",
    "print(\"case 2 : \", sumsum(1,2,4))\n",
    "print(\"case 3 : \", sumsum(1,2,34,567,8901))"
   ]
  },
  {
   "cell_type": "code",
   "execution_count": 21,
   "id": "d447778e",
   "metadata": {},
   "outputs": [
    {
     "name": "stdout",
     "output_type": "stream",
     "text": [
      "case 1: 1\n",
      "case 2: 7\n",
      "case 3: 9505\n"
     ]
    }
   ],
   "source": [
    "# 가변인수\n",
    "def sumsum(num):\n",
    "    sum = 0\n",
    "    for i in num:\n",
    "        sum += i\n",
    "    return sum\n",
    "\n",
    "print(\"case 1:\", sumsum([1]))\n",
    "print(\"case 2:\", sumsum([1,2,4]))\n",
    "print(\"case 3:\", sumsum([1,2,34,567,8901]))"
   ]
  },
  {
   "cell_type": "code",
   "execution_count": 22,
   "id": "6cfea4e5",
   "metadata": {},
   "outputs": [
    {
     "name": "stdout",
     "output_type": "stream",
     "text": [
      "case 1 : 55\n",
      "case 2 : 3825\n",
      "case 3 : 495550\n"
     ]
    }
   ],
   "source": [
    "# 디폴트 값 처리\n",
    "# 합을 구하는 함수 예제\n",
    "def defaultest (start, end = 1000, step = 1):\n",
    "    sum = 0\n",
    "    for i in range(start, end + 1, step):\n",
    "        sum += i\n",
    "    return sum\n",
    "\n",
    "print(\"case 1 :\", defaultest(0, 10, 1))\n",
    "#인수 하나를 생략시 맨뒤 step값이 1로 기본값처리\n",
    "print(\"case 2 :\", defaultest(50, 100)) \n",
    "#인수 하나를 생략시 맨뒤 step값이 1,\n",
    "#end 값이 1000으로 기본값처리\n",
    "print(\"case 3 :\", defaultest(100))"
   ]
  },
  {
   "cell_type": "code",
   "execution_count": 23,
   "id": "523c8e18",
   "metadata": {},
   "outputs": [
    {
     "name": "stdout",
     "output_type": "stream",
     "text": [
      "case 1 : 55\n",
      "case 2 : 55\n",
      "case 3 : 55\n",
      "case 4 : 55\n",
      "case 5 : 55\n"
     ]
    }
   ],
   "source": [
    "# 키워드 인수\n",
    "def defaultest (start, end = 1000, step = 1):\n",
    "    sum = 0\n",
    "    for i in range(start, end + 1, step):\n",
    "        sum += i\n",
    "    return sum\n",
    "\n",
    "print(\"case 1 :\", defaultest(0, 10, 1))\n",
    "print(\"case 2 :\", defaultest(start = 0, end = 10, step = 1))\n",
    "#키워드 지정시 순서가 상관없음\n",
    "print(\"case 3 :\", defaultest(step = 1, end = 10, start = 0))\n",
    "#맨뒤로 부터만 키워드 인수를 사용하고 앞은 일반인수\n",
    "print(\"case 4 :\", defaultest(0, 10, step = 1))\n",
    "#맨뒤로 부터만 키워드 인수를 사용하고 앞은 일반인수\n",
    "print(\"case 5 :\", defaultest(0, step = 1, end = 10))"
   ]
  },
  {
   "cell_type": "code",
   "execution_count": 24,
   "id": "6364f8e5",
   "metadata": {},
   "outputs": [
    {
     "name": "stdout",
     "output_type": "stream",
     "text": [
      "case 1 : 55\n",
      "case 2 : 5005\n"
     ]
    }
   ],
   "source": [
    "# 키워드 가변 인수\n",
    "def testfunc (**args):\n",
    "    start = args[\"start\"] # 키워드 가변\n",
    "    end = args[\"end\"] # 키워드 가변\n",
    "    step = args[\"step\"] # 키워드 가변\n",
    "    sum = 0\n",
    "    for i in range(start, end + 1, step):\n",
    "        sum += i\n",
    "    return sum\n",
    "\n",
    "print(\"case 1 :\", testfunc(start = 0, end = 10, step = 1))\n",
    "print(\"case 2 :\", testfunc(end = 100, step = 1, start = 10))"
   ]
  },
  {
   "cell_type": "code",
   "execution_count": 27,
   "id": "65595a8d",
   "metadata": {},
   "outputs": [
    {
     "name": "stdout",
     "output_type": "stream",
     "text": [
      "==============================\n",
      "***********\n",
      "\n",
      "&&&&&&&&&&&\n",
      "\n",
      "===========\n",
      "\n",
      "==============================\n",
      "   ********\n",
      "\n",
      "   ????????\n",
      "\n",
      "   ========\n",
      "\n",
      "   %%%%%%%%\n",
      "\n"
     ]
    }
   ],
   "source": [
    "# 키워드 가변 인수\n",
    "def testfunc (*s, **args):\n",
    "    start = args[\"start\"]\n",
    "    end = args[\"end\"] \n",
    "    step = args[\"step\"] \n",
    "    for c in s:\n",
    "        print(\" \" * start, end = \"\")\n",
    "        for i in range(start, end + 1, step):\n",
    "            print(c, end = \"\")\n",
    "        print(\"\\n\")\n",
    "\n",
    "print(\"=\" * 30)\n",
    "testfunc(\"*\", \"&\", \"=\", start = 0, end = 10, step = 1)\n",
    "print(\"=\" * 30)\n",
    "testfunc(\"*\", \"?\", \"=\", \"%\", start = 3, end = 10, step = 1)"
   ]
  },
  {
   "cell_type": "code",
   "execution_count": 28,
   "id": "2de49334",
   "metadata": {},
   "outputs": [
    {
     "name": "stdout",
     "output_type": "stream",
     "text": [
      "testf1 : 1\n",
      "testf2 : 즐거운 실습\n",
      "testf3 : 3.141592\n",
      "랄랄라\n"
     ]
    }
   ],
   "source": [
    "# 전역변수, 지역변수\n",
    "def testf1():\n",
    "    a = 1\n",
    "    print(\"testf1 :\", a)\n",
    "\n",
    "def testf2():\n",
    "    a = \"즐거운 실습\"\n",
    "    print(\"testf2 :\", a)\n",
    "\n",
    "def testf3():\n",
    "    a = 3.141592\n",
    "    print(\"testf3 :\", a)\n",
    "\n",
    "testf1()\n",
    "testf2()\n",
    "testf3()\n",
    "a = \"랄랄라\"\n",
    "print(a)"
   ]
  },
  {
   "cell_type": "code",
   "execution_count": 29,
   "id": "5ac613f0",
   "metadata": {},
   "outputs": [
    {
     "name": "stdout",
     "output_type": "stream",
     "text": [
      "testf1 : 현재 달러환율은 1달러당  1021  원이며\n",
      "testf1 : 미화 100달러는  102100  원 입니다.\n",
      "testf1 : 현재 달러환율은 1달러당  1120  원이며\n",
      "testf1 : 미화 100달러는  112000  원 입니다.\n",
      "testf2 : 현재 달러환율은 1달러당  1011  원이며\n",
      "testf2 : 미화 100달러는  101100  원 입니다.\n",
      "testf1 : 현재 달러환율은 1달러당  1120  원이며\n",
      "testf1 : 미화 100달러는  112000  원 입니다.\n"
     ]
    }
   ],
   "source": [
    "# 전역변수, 지역변수\n",
    "def testf1():\n",
    "    print(\"testf1 : 현재 달러환율은 1달러당 \", exrate, \" 원이며\")\n",
    "    print(\"testf1 : 미화 100달러는 \", 100 * exrate, \" 원 입니다.\")\n",
    "\n",
    "def testf2():\n",
    "    exrate = 1011\n",
    "    print(\"testf2 : 현재 달러환율은 1달러당 \", exrate, \" 원이며\")\n",
    "    print(\"testf2 : 미화 100달러는 \", 100 * exrate, \" 원 입니다.\")\n",
    "\n",
    "exrate = 1021\n",
    "testf1()\n",
    "exrate = 1120\n",
    "testf1()\n",
    "\n",
    "testf2() #case 1\n",
    "testf1() #case 2"
   ]
  },
  {
   "cell_type": "code",
   "execution_count": 32,
   "id": "cd887269",
   "metadata": {},
   "outputs": [
    {
     "name": "stdout",
     "output_type": "stream",
     "text": [
      "Help on function testf1 in module __main__:\n",
      "\n",
      "testf1()\n",
      "    이 함수는 홍필두가 최선을 다하여 멋지게 만든 함수\n",
      "    인수 값에 숫자만큼 1부터 해당 값을 더한 값을 출력해 준다\n",
      "\n"
     ]
    }
   ],
   "source": [
    "# docstring\n",
    "def testf1():\n",
    "    \"\"\" \n",
    "이 함수는 홍필두가 최선을 다하여 멋지게 만든 함수\n",
    "인수 값에 숫자만큼 1부터 해당 값을 더한 값을 출력해 준다\n",
    "\"\"\"\n",
    "    sum=0\n",
    "    for i in range(n+1):\n",
    "        sum+=i\n",
    "    print(\"합:\",sum)\n",
    "    \n",
    "# 프로그램에서(특히 대화식 모드) 해당함수가 궁금할 때\n",
    "help(testf1)"
   ]
  },
  {
   "cell_type": "code",
   "execution_count": null,
   "id": "9e5cfed2",
   "metadata": {},
   "outputs": [],
   "source": []
  }
 ],
 "metadata": {
  "kernelspec": {
   "display_name": "Python 3 (ipykernel)",
   "language": "python",
   "name": "python3"
  },
  "language_info": {
   "codemirror_mode": {
    "name": "ipython",
    "version": 3
   },
   "file_extension": ".py",
   "mimetype": "text/x-python",
   "name": "python",
   "nbconvert_exporter": "python",
   "pygments_lexer": "ipython3",
   "version": "3.8.8"
  }
 },
 "nbformat": 4,
 "nbformat_minor": 5
}
