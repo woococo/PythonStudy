{
 "cells": [
  {
   "cell_type": "code",
   "execution_count": 1,
   "id": "3313b473",
   "metadata": {},
   "outputs": [
    {
     "data": {
      "text/plain": [
       "(1, 2, 3, 4, 5)"
      ]
     },
     "execution_count": 1,
     "metadata": {},
     "output_type": "execute_result"
    }
   ],
   "source": [
    "# 리스트 정의1\n",
    "# 리스트를 지정하면 첨자0부터 ~ (n- 1)까지의 변수로 지정\n",
    "a = [1, 2, 3, 4, 5]\n",
    "a[0], a[1], a[2], a[3], a[4]"
   ]
  },
  {
   "cell_type": "code",
   "execution_count": 2,
   "id": "66b9968f",
   "metadata": {},
   "outputs": [
    {
     "data": {
      "text/plain": [
       "(11, 'abc', 12.3333, '안녕', (2+3j))"
      ]
     },
     "execution_count": 2,
     "metadata": {},
     "output_type": "execute_result"
    }
   ],
   "source": [
    "# 리스트 내부에서는 서로 다른 형태의 자료형도 저장이 가능함\n",
    "a = [11, \"abc\", 12.3333, \"안녕\", 2 + 3j]\n",
    "a[0], a[1], a[2], a[3], a[4]"
   ]
  },
  {
   "cell_type": "code",
   "execution_count": 3,
   "id": "7c77450c",
   "metadata": {},
   "outputs": [
    {
     "data": {
      "text/plain": [
       "[11, 1234, 12.3333, '안녕', '홍길동']"
      ]
     },
     "execution_count": 3,
     "metadata": {},
     "output_type": "execute_result"
    }
   ],
   "source": [
    "# 리스트 정의2\n",
    "# 값의(형태)변경도가능\n",
    "a[1] = 1234; a[4] = \"홍길동\"\n",
    "a"
   ]
  },
  {
   "cell_type": "code",
   "execution_count": 5,
   "id": "e6332f22",
   "metadata": {},
   "outputs": [
    {
     "name": "stdout",
     "output_type": "stream",
     "text": [
      "점수( 90 )\n",
      "점수( 80 )\n",
      "점수( 70 )\n",
      "점수( 60 )\n",
      "점수( 30 )\n",
      "총점: 330\n"
     ]
    }
   ],
   "source": [
    "# 리스트 정의3\n",
    "# for 반복문\n",
    "score = [90, 80, 70, 60, 30]\n",
    "sum = 0 # sum의0 으로 초기화\n",
    "for s in score: # score 크기만큼 실해되는 반복문\n",
    "    print(\"점수(\", s, \")\") # s출력\n",
    "    sum += s # sum 은 s를 누적더한 값\n",
    "print(\"총점:\", sum); # 총점 출력"
   ]
  },
  {
   "cell_type": "code",
   "execution_count": 6,
   "id": "1f198c67",
   "metadata": {
    "scrolled": true
   },
   "outputs": [
    {
     "data": {
      "text/plain": [
       "(5, 5)"
      ]
     },
     "execution_count": 6,
     "metadata": {},
     "output_type": "execute_result"
    }
   ],
   "source": [
    "# 리스트 표현방식1\n",
    "# 일반적으로 리스트를 지정하면 첨자0부터~ (n- 1)까지의 변수로 지정\n",
    "# 하지만 역방향으로 – n ~ - 1로 지정도 가능\n",
    "a = [1, 2, 3, 4, 5]\n",
    "a[0], a[-5]"
   ]
  },
  {
   "cell_type": "code",
   "execution_count": 7,
   "id": "bf1d83a9",
   "metadata": {},
   "outputs": [
    {
     "data": {
      "text/plain": [
       "(2, 2)"
      ]
     },
     "execution_count": 7,
     "metadata": {},
     "output_type": "execute_result"
    }
   ],
   "source": [
    "a[1],a[-4]"
   ]
  },
  {
   "cell_type": "code",
   "execution_count": 8,
   "id": "901e89f4",
   "metadata": {},
   "outputs": [
    {
     "data": {
      "text/plain": [
       "(3, 3)"
      ]
     },
     "execution_count": 8,
     "metadata": {},
     "output_type": "execute_result"
    }
   ],
   "source": [
    "a[2],a[-3]"
   ]
  },
  {
   "cell_type": "code",
   "execution_count": 9,
   "id": "128dff37",
   "metadata": {},
   "outputs": [
    {
     "data": {
      "text/plain": [
       "(4, 4)"
      ]
     },
     "execution_count": 9,
     "metadata": {},
     "output_type": "execute_result"
    }
   ],
   "source": [
    "a[3],a[-2]"
   ]
  },
  {
   "cell_type": "code",
   "execution_count": 10,
   "id": "4ce6cb9f",
   "metadata": {},
   "outputs": [
    {
     "data": {
      "text/plain": [
       "(5, 5)"
      ]
     },
     "execution_count": 10,
     "metadata": {},
     "output_type": "execute_result"
    }
   ],
   "source": [
    "a[4],a[-1]"
   ]
  },
  {
   "cell_type": "code",
   "execution_count": 11,
   "id": "d4c63234",
   "metadata": {
    "scrolled": true
   },
   "outputs": [
    {
     "ename": "SyntaxError",
     "evalue": "invalid syntax (3139380504.py, line 1)",
     "output_type": "error",
     "traceback": [
      "\u001b[1;36m  Input \u001b[1;32mIn [11]\u001b[1;36m\u001b[0m\n\u001b[1;33m    [begin:end:step]\u001b[0m\n\u001b[1;37m          ^\u001b[0m\n\u001b[1;31mSyntaxError\u001b[0m\u001b[1;31m:\u001b[0m invalid syntax\n"
     ]
    }
   ],
   "source": [
    "# 리스트 표현방식2\n",
    "# 리스트의 첨자는 [begin:end:step]으로 표현가능\n",
    "[begin:end:step]"
   ]
  },
  {
   "cell_type": "code",
   "execution_count": 16,
   "id": "edc8d5c0",
   "metadata": {},
   "outputs": [
    {
     "data": {
      "text/plain": [
       "[3, 4, 5, 6, 7, 8]"
      ]
     },
     "execution_count": 16,
     "metadata": {},
     "output_type": "execute_result"
    }
   ],
   "source": [
    "# 리스트 표현방식2\n",
    "a = [1, 2, 3, 4, 5, 6, 7, 8, 9,  10]\n",
    "a[2:8] # 2부터 8보다 작을 때까지(2,3,4,5,6,7)"
   ]
  },
  {
   "cell_type": "code",
   "execution_count": 19,
   "id": "07997c23",
   "metadata": {},
   "outputs": [
    {
     "data": {
      "text/plain": [
       "[1, 2, 3, 4]"
      ]
     },
     "execution_count": 19,
     "metadata": {},
     "output_type": "execute_result"
    }
   ],
   "source": [
    "a[:4] #처음부터 4보다 작을 때까지(0,1,2,3 주의 a[4]제외)"
   ]
  },
  {
   "cell_type": "code",
   "execution_count": 17,
   "id": "f2aa6a7a",
   "metadata": {},
   "outputs": [
    {
     "data": {
      "text/plain": [
       "[6, 7, 8, 9, 10]"
      ]
     },
     "execution_count": 17,
     "metadata": {},
     "output_type": "execute_result"
    }
   ],
   "source": [
    "a[5:] #5부터 끝까지"
   ]
  },
  {
   "cell_type": "code",
   "execution_count": 18,
   "id": "b5ff1b45",
   "metadata": {},
   "outputs": [
    {
     "data": {
      "text/plain": [
       "[1, 4]"
      ]
     },
     "execution_count": 18,
     "metadata": {},
     "output_type": "execute_result"
    }
   ],
   "source": [
    "a[0:6:3] #0부터 6보다 작을때 까지(6은 제외 0,3) 3씩 증가하여"
   ]
  },
  {
   "cell_type": "code",
   "execution_count": 20,
   "id": "e2602473",
   "metadata": {},
   "outputs": [
    {
     "data": {
      "text/plain": [
       "[7, 8, 9]"
      ]
     },
     "execution_count": 20,
     "metadata": {},
     "output_type": "execute_result"
    }
   ],
   "source": [
    "# 다중 리스트1\n",
    "a = [[1, 2, 3], [4, 5, 6], [7, 8, 9]] # 리스트로 구성된 리스트\n",
    "a[2]"
   ]
  },
  {
   "cell_type": "code",
   "execution_count": 21,
   "id": "26d0c7cd",
   "metadata": {},
   "outputs": [
    {
     "data": {
      "text/plain": [
       "9"
      ]
     },
     "execution_count": 21,
     "metadata": {},
     "output_type": "execute_result"
    }
   ],
   "source": [
    "a[2][2]"
   ]
  },
  {
   "cell_type": "code",
   "execution_count": 22,
   "id": "fa1ba3df",
   "metadata": {},
   "outputs": [
    {
     "ename": "IndexError",
     "evalue": "list index out of range",
     "output_type": "error",
     "traceback": [
      "\u001b[1;31m---------------------------------------------------------------------------\u001b[0m",
      "\u001b[1;31mIndexError\u001b[0m                                Traceback (most recent call last)",
      "Input \u001b[1;32mIn [22]\u001b[0m, in \u001b[0;36m<cell line: 1>\u001b[1;34m()\u001b[0m\n\u001b[1;32m----> 1\u001b[0m \u001b[43ma\u001b[49m\u001b[43m[\u001b[49m\u001b[38;5;241;43m1\u001b[39;49m\u001b[43m]\u001b[49m\u001b[43m[\u001b[49m\u001b[38;5;241;43m3\u001b[39;49m\u001b[43m]\u001b[49m\n",
      "\u001b[1;31mIndexError\u001b[0m: list index out of range"
     ]
    }
   ],
   "source": [
    "a[1][3] # 첨자(index)의 범위를 벗어남"
   ]
  },
  {
   "cell_type": "code",
   "execution_count": 23,
   "id": "c0496351",
   "metadata": {},
   "outputs": [
    {
     "data": {
      "text/plain": [
       "6"
      ]
     },
     "execution_count": 23,
     "metadata": {},
     "output_type": "execute_result"
    }
   ],
   "source": [
    "a[1][2]"
   ]
  },
  {
   "cell_type": "code",
   "execution_count": 24,
   "id": "13c14307",
   "metadata": {},
   "outputs": [
    {
     "data": {
      "text/plain": [
       "[[1, 2], [3, 4, 5], 6]"
      ]
     },
     "execution_count": 24,
     "metadata": {},
     "output_type": "execute_result"
    }
   ],
   "source": [
    "a = [[1, 2], [3, 4, 5], 6] # 가변 형태의 리스트\n",
    "a"
   ]
  },
  {
   "cell_type": "code",
   "execution_count": 25,
   "id": "b958e29a",
   "metadata": {},
   "outputs": [
    {
     "data": {
      "text/plain": [
       "6"
      ]
     },
     "execution_count": 25,
     "metadata": {},
     "output_type": "execute_result"
    }
   ],
   "source": [
    "a[2]"
   ]
  },
  {
   "cell_type": "code",
   "execution_count": 26,
   "id": "4954e5d5",
   "metadata": {},
   "outputs": [
    {
     "data": {
      "text/plain": [
       "[3, 4, 5]"
      ]
     },
     "execution_count": 26,
     "metadata": {},
     "output_type": "execute_result"
    }
   ],
   "source": [
    "a[1]"
   ]
  },
  {
   "cell_type": "code",
   "execution_count": 27,
   "id": "94631daf",
   "metadata": {},
   "outputs": [
    {
     "data": {
      "text/plain": [
       "[3, 6, 9, 12, 15, 18, 21, 24, 27]"
      ]
     },
     "execution_count": 27,
     "metadata": {},
     "output_type": "execute_result"
    }
   ],
   "source": [
    "# 리스트 컴프리헨션 1\n",
    "# 리스트 중 조건을 비교하거나 범위를 주어 선택 사용이 가능한 방법\n",
    "# 예제1\n",
    "# 1부터 10으로 리스트를 구성하여 그 요소 하나하나에 3을 곱한 것을 구함\n",
    "a = [ n * 3 for n in range (1, 10)] \n",
    "a"
   ]
  },
  {
   "cell_type": "code",
   "execution_count": 28,
   "id": "582d189c",
   "metadata": {},
   "outputs": [
    {
     "data": {
      "text/plain": [
       "[6, 12, 18, 24]"
      ]
     },
     "execution_count": 28,
     "metadata": {},
     "output_type": "execute_result"
    }
   ],
   "source": [
    "# 리스트 컴프리헨션 2\n",
    "# 예제2\n",
    "# 1부터 10중 2로 나누어 나머지가 0인(짝수인) 숫자로 리스트를 구성하여 그 요소 \n",
    "#    하나하나에 3을 곱한 것을 구함\n",
    "a = [ n * 3 for n in range (1,10) if n % 2 == 0 ] \n",
    "a"
   ]
  },
  {
   "cell_type": "code",
   "execution_count": 4,
   "id": "10059437",
   "metadata": {},
   "outputs": [
    {
     "name": "stdout",
     "output_type": "stream",
     "text": [
      "==================================================\n",
      "이름\t국어\t영어\t수학\t총점\t평균\n",
      "==================================================\n",
      "나연 \t 100 \t 90 \t 100 \t 290 \t 96\n",
      "정연 \t 90 \t 90 \t 100 \t 280 \t 93\n",
      "모모 \t 80 \t 70 \t 90 \t 240 \t 80\n",
      "사나 \t 90 \t 90 \t 80 \t 260 \t 86\n",
      "지효 \t 100 \t 80 \t 80 \t 260 \t 86\n",
      "미나 \t 50 \t 90 \t 90 \t 230 \t 76\n",
      "다현 \t 80 \t 60 \t 100 \t 240 \t 80\n",
      "채영 \t 70 \t 80 \t 90 \t 240 \t 80\n",
      "쯔위 \t 100 \t 90 \t 90 \t 280 \t 93\n",
      "==================================================\n",
      "반총점\t 760 \t 740 \t 820 \t 257 \t 85.0\n",
      "==================================================\n"
     ]
    }
   ],
   "source": [
    "# 리스트 연습\n",
    "def titleprint(): # titleprint 함수 생성\n",
    "    pass # 내용은 비워둠\n",
    "def itemprint(name, kortotal, engtotal, mathtotal): # itemprint 함수 생성\n",
    "    pass # 내용은 비워둠\n",
    "def tailprint(): # tailprint 함수 생성\n",
    "    pass # 내용은 비워둠\n",
    "\n",
    "#데이터 2차원 리스트\n",
    "score = [[\"나연\", 100, 90, 100],\n",
    "        [\"정연\", 90, 90, 100],\n",
    "        [\"모모\", 80, 70, 90],\n",
    "        [\"사나\", 90, 90, 80],\n",
    "        [\"지효\", 100, 80, 80],\n",
    "        [\"미나\", 50, 90, 90],\n",
    "        [\"다현\", 80, 60, 100],\n",
    "        [\"채영\", 70, 80, 90],\n",
    "        [\"쯔위\", 100, 90, 90]]\n",
    "\n",
    "#프로그램을 보기 좋게 하려고 상수를 정의\n",
    "name = 0; kor = 1; eng = 2; mat = 3\n",
    "\n",
    "def titleprint(): # 위에서 만든 titleprint함수의 내용을 채움\n",
    "    print(\"=\" * 50)\n",
    "    print(\"이름\\t국어\\t영어\\t수학\\t총점\\t평균\")\n",
    "    print(\"=\" * 50)\n",
    "              \n",
    "def itemprint(name, kor, eng, mat): # 위에서 만든 itemprint 함수의 내용을 채움\n",
    "    print(name, \"\\t\", kor, \"\\t\", eng, \"\\t\", mat, \"\\t\", kor + eng + mat, \"\\t\", (kor + eng + mat) // 3)\n",
    "\n",
    "def tailprint(): # 위에서 만든 tailprint함수의 내용을 채움\n",
    "    totkor = 0 # 국어 합계 점수를 0으로 초기화\n",
    "    toteng = 0 # 영어 합계 점수를 0으로 초기화\n",
    "    totmat = 0 # 수학 합계 점수를 0으로 초기화\n",
    "    for one_student in score:\n",
    "        totkor += one_student[kor] # 국어 합계 점수에 국어 점수를 더한다\n",
    "        toteng += one_student[eng] # 영어 합계 점수에 국어 점수를 더한다\n",
    "        totmat += one_student[mat] # 수학 합계 점수에 국어 점수를 더한다\n",
    "    print(\"=\" * 50)\n",
    "    print(\"반총점\\t\", totkor, \"\\t\", toteng, \"\\t\", totmat, \"\\t\", (totkor + toteng + totmat) // 9, \"\\t\", (totkor + toteng + totmat) / 3 // 9)\n",
    "    print(\"=\" * 50)\n",
    "    \n",
    "#여기부터 프로그램\n",
    "titleprint()\n",
    "for one_student in score:\n",
    "    itemprint(one_student[name], one_student[kor], one_student[eng], one_student[mat])\n",
    "tailprint() "
   ]
  },
  {
   "cell_type": "code",
   "execution_count": 35,
   "id": "38d29b8a",
   "metadata": {},
   "outputs": [
    {
     "data": {
      "text/plain": [
       "[1, 2, 3, 4, 5]"
      ]
     },
     "execution_count": 35,
     "metadata": {},
     "output_type": "execute_result"
    }
   ],
   "source": [
    "# 리스트 삽입, 삭제1\n",
    "a = [1, 2, 3, 4, 5]\n",
    "a"
   ]
  },
  {
   "cell_type": "code",
   "execution_count": 36,
   "id": "6743d182",
   "metadata": {},
   "outputs": [
    {
     "data": {
      "text/plain": [
       "[1, 2, 4, 5]"
      ]
     },
     "execution_count": 36,
     "metadata": {},
     "output_type": "execute_result"
    }
   ],
   "source": [
    "del a[2] # 2번 리스트요소 삭제\n",
    "a"
   ]
  },
  {
   "cell_type": "code",
   "execution_count": 37,
   "id": "7deeb94e",
   "metadata": {},
   "outputs": [
    {
     "data": {
      "text/plain": [
       "[]"
      ]
     },
     "execution_count": 37,
     "metadata": {},
     "output_type": "execute_result"
    }
   ],
   "source": [
    "a.clear() # 리스트 전부 지움\n",
    "a # 빈 리스트는 남아있음"
   ]
  },
  {
   "cell_type": "code",
   "execution_count": 38,
   "id": "e99b1c14",
   "metadata": {},
   "outputs": [
    {
     "ename": "NameError",
     "evalue": "name 'a' is not defined",
     "output_type": "error",
     "traceback": [
      "\u001b[1;31m---------------------------------------------------------------------------\u001b[0m",
      "\u001b[1;31mNameError\u001b[0m                                 Traceback (most recent call last)",
      "Input \u001b[1;32mIn [38]\u001b[0m, in \u001b[0;36m<cell line: 2>\u001b[1;34m()\u001b[0m\n\u001b[0;32m      1\u001b[0m \u001b[38;5;28;01mdel\u001b[39;00m a \u001b[38;5;66;03m#a공간도 지움\u001b[39;00m\n\u001b[1;32m----> 2\u001b[0m \u001b[43ma\u001b[49m\n",
      "\u001b[1;31mNameError\u001b[0m: name 'a' is not defined"
     ]
    }
   ],
   "source": [
    "del a # a공간도 지움\n",
    "a"
   ]
  },
  {
   "cell_type": "code",
   "execution_count": 40,
   "id": "de20a5e9",
   "metadata": {},
   "outputs": [
    {
     "data": {
      "text/plain": [
       "[1, 3, 5]"
      ]
     },
     "execution_count": 40,
     "metadata": {},
     "output_type": "execute_result"
    }
   ],
   "source": [
    "# 리스트 삽입, 삭제2\n",
    "a = []  # 빈 리스트를 정의\n",
    "a.append(1) # 1 값의 리스트 요소를 추가\n",
    "a.append(3) # 3 값의 리스트 요소를 추가\n",
    "a.append(5) # 5 값의 리스트 요소를 추가\n",
    "a"
   ]
  },
  {
   "cell_type": "code",
   "execution_count": 41,
   "id": "d43728d8",
   "metadata": {},
   "outputs": [
    {
     "data": {
      "text/plain": [
       "[4, 5, 6, 10]"
      ]
     },
     "execution_count": 41,
     "metadata": {},
     "output_type": "execute_result"
    }
   ],
   "source": [
    "a = [4, 5, 6] #기존 a를 무시하고 다시 정의\n",
    "a.append(10)  # 10 값의 리스트 요소를 추가\n",
    "a"
   ]
  },
  {
   "cell_type": "code",
   "execution_count": 42,
   "id": "3558e7ce",
   "metadata": {},
   "outputs": [
    {
     "data": {
      "text/plain": [
       "[1, 2, 3, 4, 5, 6]"
      ]
     },
     "execution_count": 42,
     "metadata": {},
     "output_type": "execute_result"
    }
   ],
   "source": [
    "# 리스트 삽입, 삭제3\n",
    "# 한개의 요소를 삽입시 insert를 사용하고 list.insert(삽입위치, 삽입내용)으로 사용\n",
    "a = [1, 2, 3, 4, 5]\n",
    "a.append(6)  # append는 맨 뒤에 하나의 요소를 삽입\n",
    "a"
   ]
  },
  {
   "cell_type": "code",
   "execution_count": 43,
   "id": "002dfb74",
   "metadata": {},
   "outputs": [
    {
     "data": {
      "text/plain": [
       "[1, 2, 3, 12, 4, 5, 6]"
      ]
     },
     "execution_count": 43,
     "metadata": {},
     "output_type": "execute_result"
    }
   ],
   "source": [
    "a.insert(3, 12) # 3번 자리에 12 추가\n",
    "a"
   ]
  },
  {
   "cell_type": "code",
   "execution_count": 44,
   "id": "2a81317e",
   "metadata": {},
   "outputs": [
    {
     "data": {
      "text/plain": [
       "[1, 2, 3, 12, 15, 4, 5, 6]"
      ]
     },
     "execution_count": 44,
     "metadata": {},
     "output_type": "execute_result"
    }
   ],
   "source": [
    "a.insert(4, 15) # 4번 자리에 15 추가\n",
    "a"
   ]
  },
  {
   "cell_type": "code",
   "execution_count": 45,
   "id": "e95a1088",
   "metadata": {},
   "outputs": [
    {
     "data": {
      "text/plain": [
       "[1, 2, 3, 1, 12, 15, 4, 5, 6]"
      ]
     },
     "execution_count": 45,
     "metadata": {},
     "output_type": "execute_result"
    }
   ],
   "source": [
    "a.insert(3, 1) # 3번 자리에 1 추가\n",
    "a"
   ]
  },
  {
   "cell_type": "code",
   "execution_count": 46,
   "id": "dead602b",
   "metadata": {},
   "outputs": [
    {
     "data": {
      "text/plain": [
       "[1, 2, 3, 1, 12, 1, 2, 3, 4, 5, 6, 15, 4, 5, 6]"
      ]
     },
     "execution_count": 46,
     "metadata": {},
     "output_type": "execute_result"
    }
   ],
   "source": [
    "# 리스트 삽입, 삭제4\n",
    "# 여러개의 요소를 삽입시 list[n:n]= 방식으로 사용 (n은삽입위치)\n",
    "a = [1, 2, 3, 1, 12, 15, 4, 5, 6] \n",
    "a[5:5] = [1, 2, 3, 4, 5, 6]  # 5에서 5까지 영역에 해당 리스트 값을 대입\n",
    "a"
   ]
  },
  {
   "cell_type": "code",
   "execution_count": 47,
   "id": "4212a520",
   "metadata": {},
   "outputs": [
    {
     "data": {
      "text/plain": [
       "[1, 2, 3, 1, 12, [1, 2, 3, 4, 5, 6], 4, 5, 6]"
      ]
     },
     "execution_count": 47,
     "metadata": {},
     "output_type": "execute_result"
    }
   ],
   "source": [
    "# 리스트 삽입, 삭제5\n",
    "# list[n]= 을 사용하면 해당n요소의 리스트가 대입된 경우임에 주의할 것\n",
    "a = [1, 2, 3, 1, 12, 15, 4, 5, 6]\n",
    "a[5] = [1, 2, 3, 4, 5, 6]\n",
    "a"
   ]
  },
  {
   "cell_type": "code",
   "execution_count": 48,
   "id": "c3910a0e",
   "metadata": {},
   "outputs": [
    {
     "data": {
      "text/plain": [
       "[1, 2, 3, 4, 5, 6]"
      ]
     },
     "execution_count": 48,
     "metadata": {},
     "output_type": "execute_result"
    }
   ],
   "source": [
    "# 리스트 삽입, 삭제6\n",
    "# 두 개의 리스트를 변합하는 방법\n",
    "# list.extend를 사용\n",
    "# 연산을 이용\n",
    "a = [1, 2, 3]\n",
    "b = [4, 5, 6]\n",
    "a = a + b\n",
    "a"
   ]
  },
  {
   "cell_type": "code",
   "execution_count": 49,
   "id": "4170982f",
   "metadata": {},
   "outputs": [
    {
     "data": {
      "text/plain": [
       "[1, 2, 3, 4, 5, 6]"
      ]
     },
     "execution_count": 49,
     "metadata": {},
     "output_type": "execute_result"
    }
   ],
   "source": [
    "a = [1, 2, 3]\n",
    "b = [4, 5, 6]\n",
    "a.extend(b)\n",
    "a"
   ]
  },
  {
   "cell_type": "code",
   "execution_count": 51,
   "id": "a73fcc20",
   "metadata": {},
   "outputs": [
    {
     "data": {
      "text/plain": [
       "[1, 2, 3, 3, 4, 4, 5, 6, 7, 7, 7, 7, 8]"
      ]
     },
     "execution_count": 51,
     "metadata": {},
     "output_type": "execute_result"
    }
   ],
   "source": [
    "# 리스트 삽입, 삭제7\n",
    "a = [1, 2, 3, 3, 4, 4, 5, 6, 7, 7, 7, 7, 8]\n",
    "a"
   ]
  },
  {
   "cell_type": "code",
   "execution_count": 52,
   "id": "39c3b87f",
   "metadata": {},
   "outputs": [
    {
     "data": {
      "text/plain": [
       "[1, 2, 3, 3, 4, 4, 5, 6, 7, 7, 7, 8]"
      ]
     },
     "execution_count": 52,
     "metadata": {},
     "output_type": "execute_result"
    }
   ],
   "source": [
    "a.remove(7) # 첫 번째 만나는 7값을 가진 리스트 삭제\n",
    "a"
   ]
  },
  {
   "cell_type": "code",
   "execution_count": 53,
   "id": "fc7382a9",
   "metadata": {},
   "outputs": [
    {
     "data": {
      "text/plain": [
       "[1, 2, 3, 3, 4, 4, 5, 6, 7, 7, 8]"
      ]
     },
     "execution_count": 53,
     "metadata": {},
     "output_type": "execute_result"
    }
   ],
   "source": [
    "a.remove(7) # 첫 번째 만나는 7값을 가진 리스트 삭제\n",
    "a"
   ]
  },
  {
   "cell_type": "code",
   "execution_count": 54,
   "id": "0295ba31",
   "metadata": {},
   "outputs": [
    {
     "data": {
      "text/plain": [
       "[1, 2, 3, 3, 4, [], 5, 6, 7, 7, 8]"
      ]
     },
     "execution_count": 54,
     "metadata": {},
     "output_type": "execute_result"
    }
   ],
   "source": [
    "a[5] = [] # 다섯 번째에 빈 값[]이 들어 있는 리스트를 만듬(주의: a[5:5]=[]라고 해야 함)\n",
    "a"
   ]
  },
  {
   "cell_type": "code",
   "execution_count": 55,
   "id": "0b068f0b",
   "metadata": {},
   "outputs": [
    {
     "data": {
      "text/plain": [
       "[1, 2, 4, [], 5, 6, 7, 7, 8]"
      ]
     },
     "execution_count": 55,
     "metadata": {},
     "output_type": "execute_result"
    }
   ],
   "source": [
    "a[2:4] = []\n",
    "a"
   ]
  },
  {
   "cell_type": "code",
   "execution_count": 56,
   "id": "c018b33d",
   "metadata": {},
   "outputs": [
    {
     "data": {
      "text/plain": [
       "[1, 2, 4, [], 6, 7, 7, 8]"
      ]
     },
     "execution_count": 56,
     "metadata": {},
     "output_type": "execute_result"
    }
   ],
   "source": [
    "# 리스트 삽입, 삭제8\n",
    "del(a[4]) # a의 4번 삭제\n",
    "a"
   ]
  },
  {
   "cell_type": "code",
   "execution_count": 57,
   "id": "4c919283",
   "metadata": {},
   "outputs": [
    {
     "data": {
      "text/plain": [
       "[1, 2, 4, 6, 7, 7, 8]"
      ]
     },
     "execution_count": 57,
     "metadata": {},
     "output_type": "execute_result"
    }
   ],
   "source": [
    "del(a[3]) # a의 3번 삭제\n",
    "a"
   ]
  },
  {
   "cell_type": "code",
   "execution_count": 58,
   "id": "c34000e5",
   "metadata": {},
   "outputs": [
    {
     "data": {
      "text/plain": [
       "[]"
      ]
     },
     "execution_count": 58,
     "metadata": {},
     "output_type": "execute_result"
    }
   ],
   "source": [
    "a.clear() #다 지우나 빈 값에 리스트가 남음\n",
    "a"
   ]
  },
  {
   "cell_type": "code",
   "execution_count": 60,
   "id": "6204c8dc",
   "metadata": {},
   "outputs": [
    {
     "ename": "NameError",
     "evalue": "name 'a' is not defined",
     "output_type": "error",
     "traceback": [
      "\u001b[1;31m---------------------------------------------------------------------------\u001b[0m",
      "\u001b[1;31mNameError\u001b[0m                                 Traceback (most recent call last)",
      "Input \u001b[1;32mIn [60]\u001b[0m, in \u001b[0;36m<cell line: 1>\u001b[1;34m()\u001b[0m\n\u001b[1;32m----> 1\u001b[0m \u001b[38;5;28;01mdel\u001b[39;00m(a) \u001b[38;5;66;03m#리스트 정의까지 삭제\u001b[39;00m\n\u001b[0;32m      2\u001b[0m a\n",
      "\u001b[1;31mNameError\u001b[0m: name 'a' is not defined"
     ]
    }
   ],
   "source": [
    "del(a) #리스트 정의까지 삭제\n",
    "a"
   ]
  },
  {
   "cell_type": "code",
   "execution_count": 21,
   "id": "29df2a86",
   "metadata": {},
   "outputs": [
    {
     "data": {
      "text/plain": [
       "8"
      ]
     },
     "execution_count": 21,
     "metadata": {},
     "output_type": "execute_result"
    }
   ],
   "source": [
    "# 리스트 삽입, 삭제9\n",
    "# list.pop(n)은 해당 위치를 리턴하고 삭제함 n이 없다면 맨 마지막 요소 리턴\n",
    "a = [1, 2, 3, 3, 4, 4, 5, 6, 7, 7, 7, 7, 8]\n",
    "a.pop() # 마지막 요소 리턴"
   ]
  },
  {
   "cell_type": "code",
   "execution_count": 22,
   "id": "4190e929",
   "metadata": {},
   "outputs": [
    {
     "data": {
      "text/plain": [
       "[1, 2, 3, 3, 4, 4, 5, 6, 7, 7, 7, 7]"
      ]
     },
     "execution_count": 22,
     "metadata": {},
     "output_type": "execute_result"
    }
   ],
   "source": [
    "a"
   ]
  },
  {
   "cell_type": "code",
   "execution_count": 23,
   "id": "4bcb6ac1",
   "metadata": {},
   "outputs": [
    {
     "data": {
      "text/plain": [
       "7"
      ]
     },
     "execution_count": 23,
     "metadata": {},
     "output_type": "execute_result"
    }
   ],
   "source": [
    "a.pop() # 마지막 요소 리턴"
   ]
  },
  {
   "cell_type": "code",
   "execution_count": 24,
   "id": "0c86c498",
   "metadata": {},
   "outputs": [
    {
     "data": {
      "text/plain": [
       "3"
      ]
     },
     "execution_count": 24,
     "metadata": {},
     "output_type": "execute_result"
    }
   ],
   "source": [
    "a.pop(3) # 3번 리턴하고 삭제"
   ]
  },
  {
   "cell_type": "code",
   "execution_count": 25,
   "id": "193f0660",
   "metadata": {},
   "outputs": [
    {
     "data": {
      "text/plain": [
       "[1, 2, 3, 4, 4, 5, 6, 7, 7, 7]"
      ]
     },
     "execution_count": 25,
     "metadata": {},
     "output_type": "execute_result"
    }
   ],
   "source": [
    "a"
   ]
  },
  {
   "cell_type": "code",
   "execution_count": 26,
   "id": "dcc6c62a",
   "metadata": {},
   "outputs": [
    {
     "data": {
      "text/plain": [
       "6"
      ]
     },
     "execution_count": 26,
     "metadata": {},
     "output_type": "execute_result"
    }
   ],
   "source": [
    "a.pop(6) # 6번 리턴하고 삭제"
   ]
  },
  {
   "cell_type": "code",
   "execution_count": 27,
   "id": "4332dab6",
   "metadata": {},
   "outputs": [
    {
     "data": {
      "text/plain": [
       "[1, 2, 3, 4, 4, 5, 7, 7, 7]"
      ]
     },
     "execution_count": 27,
     "metadata": {},
     "output_type": "execute_result"
    }
   ],
   "source": [
    "a"
   ]
  },
  {
   "cell_type": "code",
   "execution_count": 28,
   "id": "11ee749d",
   "metadata": {},
   "outputs": [
    {
     "data": {
      "text/plain": [
       "7"
      ]
     },
     "execution_count": 28,
     "metadata": {},
     "output_type": "execute_result"
    }
   ],
   "source": [
    "a.pop(6) # 6번 리턴하고 삭제"
   ]
  },
  {
   "cell_type": "code",
   "execution_count": 29,
   "id": "3e707543",
   "metadata": {},
   "outputs": [
    {
     "data": {
      "text/plain": [
       "1"
      ]
     },
     "execution_count": 29,
     "metadata": {},
     "output_type": "execute_result"
    }
   ],
   "source": [
    "a.pop(0) # 0번 리턴하고 삭제"
   ]
  },
  {
   "cell_type": "code",
   "execution_count": 30,
   "id": "992a0502",
   "metadata": {},
   "outputs": [
    {
     "data": {
      "text/plain": [
       "[2, 3, 4, 4, 5, 7, 7]"
      ]
     },
     "execution_count": 30,
     "metadata": {},
     "output_type": "execute_result"
    }
   ],
   "source": [
    "a"
   ]
  },
  {
   "cell_type": "code",
   "execution_count": 65,
   "id": "2b62e4ac",
   "metadata": {},
   "outputs": [
    {
     "data": {
      "text/plain": [
       "8"
      ]
     },
     "execution_count": 65,
     "metadata": {},
     "output_type": "execute_result"
    }
   ],
   "source": [
    "# 리스트 검색1\n",
    "# list.index(값) : 해당 값이 처음 나오는 위치를 리턴\n",
    "# list.count(값) : 해당 값이 몇번 나오는지 리턴\n",
    "a = [1, 2, 3, 3, 4, 4, 5, 6, 7, 7, 7, 7, 8]\n",
    "a.index(7)  # 값 7의 위치는 8"
   ]
  },
  {
   "cell_type": "code",
   "execution_count": 66,
   "id": "962f260d",
   "metadata": {},
   "outputs": [
    {
     "data": {
      "text/plain": [
       "12"
      ]
     },
     "execution_count": 66,
     "metadata": {},
     "output_type": "execute_result"
    }
   ],
   "source": [
    "a.index(8) # 값 8의 위치는 12"
   ]
  },
  {
   "cell_type": "code",
   "execution_count": 67,
   "id": "1c290891",
   "metadata": {},
   "outputs": [
    {
     "data": {
      "text/plain": [
       "4"
      ]
     },
     "execution_count": 67,
     "metadata": {},
     "output_type": "execute_result"
    }
   ],
   "source": [
    "a.index(4) # 값 4의 위치는 4"
   ]
  },
  {
   "cell_type": "code",
   "execution_count": 68,
   "id": "587012ef",
   "metadata": {},
   "outputs": [
    {
     "data": {
      "text/plain": [
       "8"
      ]
     },
     "execution_count": 68,
     "metadata": {},
     "output_type": "execute_result"
    }
   ],
   "source": [
    "a.count(7) # 7은 4번 나옴"
   ]
  },
  {
   "cell_type": "code",
   "execution_count": 72,
   "id": "a85e3f11",
   "metadata": {},
   "outputs": [
    {
     "data": {
      "text/plain": [
       "1"
      ]
     },
     "execution_count": 72,
     "metadata": {},
     "output_type": "execute_result"
    }
   ],
   "source": [
    "# 리스트 검색2\n",
    "# min(list),max(list) : 리스트 중 최소값과 최대값을 구함\n",
    "# len(list) 리스트의 크기(개수)를 구함\n",
    "a = [1, 2, 3, 3, 4, 4, 5, 6, 7, 7, 7, 7, 8]\n",
    "min(a) # a의 최소값"
   ]
  },
  {
   "cell_type": "code",
   "execution_count": 73,
   "id": "562c60ec",
   "metadata": {},
   "outputs": [
    {
     "data": {
      "text/plain": [
       "8"
      ]
     },
     "execution_count": 73,
     "metadata": {},
     "output_type": "execute_result"
    }
   ],
   "source": [
    " max(a) # a의 최대값"
   ]
  },
  {
   "cell_type": "code",
   "execution_count": 74,
   "id": "a8d23a44",
   "metadata": {},
   "outputs": [
    {
     "data": {
      "text/plain": [
       "13"
      ]
     },
     "execution_count": 74,
     "metadata": {},
     "output_type": "execute_result"
    }
   ],
   "source": [
    "len(a) # a의 크기"
   ]
  },
  {
   "cell_type": "code",
   "execution_count": 75,
   "id": "2999fb5d",
   "metadata": {},
   "outputs": [
    {
     "data": {
      "text/plain": [
       "[4, 9, 6, 2, 5, 4, 2, 6, 5, 8, 1]"
      ]
     },
     "execution_count": 75,
     "metadata": {},
     "output_type": "execute_result"
    }
   ],
   "source": [
    "# 리스트 정렬\n",
    "# list.sort() : 리스트 내용을 정렬함\n",
    "# list.reverse() : 리스트 내용을 역으로 보여줌\n",
    "a = [1, 8, 5, 6, 2, 4, 5, 2, 6, 9, 4]\n",
    "a.reverse() # 리스트 내용을 역으로 보여줌\n",
    "a"
   ]
  },
  {
   "cell_type": "code",
   "execution_count": 76,
   "id": "77074af8",
   "metadata": {},
   "outputs": [
    {
     "data": {
      "text/plain": [
       "[1, 2, 2, 4, 4, 5, 5, 6, 6, 8, 9]"
      ]
     },
     "execution_count": 76,
     "metadata": {},
     "output_type": "execute_result"
    }
   ],
   "source": [
    "a.sort() # 리스트 내용을 정렬함\n",
    "a"
   ]
  },
  {
   "cell_type": "code",
   "execution_count": 33,
   "id": "57be7938",
   "metadata": {},
   "outputs": [
    {
     "name": "stdout",
     "output_type": "stream",
     "text": [
      "==================================================\n",
      "이름\t국어\t영어\t수학\t총점\t평균\n",
      "==================================================\n",
      "name0 \t 13 \t 12 \t 69 \t 94 \t 31\n",
      "name1 \t 79 \t 31 \t 40 \t 150 \t 50\n",
      "name2 \t 47 \t 19 \t 97 \t 163 \t 54\n",
      "name3 \t 56 \t 80 \t 56 \t 192 \t 64\n",
      "name4 \t 68 \t 55 \t 40 \t 163 \t 54\n",
      "name5 \t 68 \t 52 \t 57 \t 177 \t 59\n",
      "name6 \t 70 \t 37 \t 91 \t 198 \t 66\n",
      "name7 \t 87 \t 74 \t 51 \t 212 \t 70\n",
      "name8 \t 26 \t 57 \t 34 \t 117 \t 39\n",
      "name9 \t 52 \t 23 \t 15 \t 90 \t 30\n",
      "name10 \t 31 \t 59 \t 29 \t 119 \t 39\n",
      "name11 \t 52 \t 67 \t 24 \t 143 \t 47\n",
      "name12 \t 96 \t 55 \t 33 \t 184 \t 61\n",
      "name13 \t 37 \t 70 \t 68 \t 175 \t 58\n",
      "name14 \t 22 \t 33 \t 77 \t 132 \t 44\n",
      "name15 \t 67 \t 56 \t 39 \t 162 \t 54\n",
      "name16 \t 70 \t 64 \t 59 \t 193 \t 64\n",
      "name17 \t 77 \t 17 \t 85 \t 179 \t 59\n",
      "name18 \t 72 \t 76 \t 10 \t 158 \t 52\n",
      "name19 \t 41 \t 46 \t 21 \t 108 \t 36\n",
      "name20 \t 86 \t 74 \t 39 \t 199 \t 66\n",
      "name21 \t 93 \t 42 \t 80 \t 215 \t 71\n",
      "name22 \t 22 \t 75 \t 32 \t 129 \t 43\n",
      "name23 \t 59 \t 73 \t 26 \t 158 \t 52\n",
      "name24 \t 54 \t 23 \t 50 \t 127 \t 42\n",
      "name25 \t 47 \t 42 \t 72 \t 161 \t 53\n",
      "name26 \t 97 \t 22 \t 90 \t 209 \t 69\n",
      "name27 \t 87 \t 69 \t 48 \t 204 \t 68\n",
      "name28 \t 76 \t 63 \t 43 \t 182 \t 60\n",
      "name29 \t 62 \t 29 \t 63 \t 154 \t 51\n",
      "name30 \t 96 \t 57 \t 80 \t 233 \t 77\n",
      "name31 \t 28 \t 53 \t 10 \t 91 \t 30\n",
      "name32 \t 36 \t 18 \t 25 \t 79 \t 26\n",
      "name33 \t 48 \t 55 \t 59 \t 162 \t 54\n",
      "name34 \t 46 \t 76 \t 36 \t 158 \t 52\n",
      "name35 \t 41 \t 99 \t 66 \t 206 \t 68\n",
      "name36 \t 30 \t 23 \t 37 \t 90 \t 30\n",
      "name37 \t 32 \t 67 \t 10 \t 109 \t 36\n",
      "name38 \t 19 \t 31 \t 17 \t 67 \t 22\n",
      "name39 \t 35 \t 35 \t 47 \t 117 \t 39\n",
      "name40 \t 40 \t 40 \t 16 \t 96 \t 32\n",
      "name41 \t 33 \t 59 \t 89 \t 181 \t 60\n",
      "name42 \t 86 \t 80 \t 12 \t 178 \t 59\n",
      "name43 \t 24 \t 67 \t 80 \t 171 \t 57\n",
      "name44 \t 83 \t 72 \t 69 \t 224 \t 74\n",
      "name45 \t 13 \t 91 \t 16 \t 120 \t 40\n",
      "name46 \t 33 \t 37 \t 57 \t 127 \t 42\n",
      "name47 \t 16 \t 17 \t 30 \t 63 \t 21\n",
      "name48 \t 22 \t 43 \t 62 \t 127 \t 42\n",
      "name49 \t 80 \t 49 \t 36 \t 165 \t 55\n",
      "name50 \t 94 \t 57 \t 64 \t 215 \t 71\n",
      "name51 \t 26 \t 18 \t 39 \t 83 \t 27\n",
      "name52 \t 11 \t 78 \t 76 \t 165 \t 55\n",
      "name53 \t 15 \t 82 \t 38 \t 135 \t 45\n",
      "name54 \t 83 \t 72 \t 68 \t 223 \t 74\n",
      "name55 \t 74 \t 32 \t 87 \t 193 \t 64\n",
      "name56 \t 24 \t 26 \t 33 \t 83 \t 27\n",
      "name57 \t 14 \t 69 \t 76 \t 159 \t 53\n",
      "name58 \t 93 \t 48 \t 41 \t 182 \t 60\n",
      "name59 \t 80 \t 64 \t 35 \t 179 \t 59\n",
      "name60 \t 62 \t 11 \t 65 \t 138 \t 46\n",
      "name61 \t 51 \t 81 \t 46 \t 178 \t 59\n",
      "name62 \t 88 \t 85 \t 89 \t 262 \t 87\n",
      "name63 \t 97 \t 70 \t 34 \t 201 \t 67\n",
      "name64 \t 78 \t 14 \t 14 \t 106 \t 35\n",
      "name65 \t 55 \t 49 \t 68 \t 172 \t 57\n",
      "name66 \t 58 \t 18 \t 58 \t 134 \t 44\n",
      "name67 \t 66 \t 16 \t 86 \t 168 \t 56\n",
      "name68 \t 46 \t 70 \t 79 \t 195 \t 65\n",
      "name69 \t 57 \t 73 \t 33 \t 163 \t 54\n",
      "name70 \t 30 \t 37 \t 50 \t 117 \t 39\n",
      "name71 \t 21 \t 11 \t 32 \t 64 \t 21\n",
      "name72 \t 32 \t 95 \t 67 \t 194 \t 64\n",
      "name73 \t 78 \t 96 \t 98 \t 272 \t 90\n",
      "name74 \t 72 \t 90 \t 90 \t 252 \t 84\n",
      "name75 \t 92 \t 28 \t 28 \t 148 \t 49\n",
      "name76 \t 67 \t 83 \t 74 \t 224 \t 74\n",
      "name77 \t 93 \t 24 \t 69 \t 186 \t 62\n",
      "name78 \t 99 \t 43 \t 78 \t 220 \t 73\n",
      "name79 \t 58 \t 71 \t 59 \t 188 \t 62\n",
      "name80 \t 12 \t 94 \t 27 \t 133 \t 44\n",
      "name81 \t 59 \t 79 \t 66 \t 204 \t 68\n",
      "name82 \t 92 \t 10 \t 27 \t 129 \t 43\n",
      "name83 \t 25 \t 46 \t 74 \t 145 \t 48\n",
      "name84 \t 37 \t 93 \t 37 \t 167 \t 55\n",
      "name85 \t 40 \t 78 \t 99 \t 217 \t 72\n",
      "name86 \t 50 \t 88 \t 45 \t 183 \t 61\n",
      "name87 \t 54 \t 73 \t 45 \t 172 \t 57\n",
      "name88 \t 89 \t 97 \t 81 \t 267 \t 89\n",
      "name89 \t 10 \t 62 \t 94 \t 166 \t 55\n",
      "name90 \t 91 \t 74 \t 31 \t 196 \t 65\n",
      "name91 \t 97 \t 55 \t 48 \t 200 \t 66\n",
      "name92 \t 10 \t 36 \t 30 \t 76 \t 25\n",
      "name93 \t 51 \t 92 \t 17 \t 160 \t 53\n",
      "name94 \t 35 \t 29 \t 59 \t 123 \t 41\n",
      "name95 \t 34 \t 84 \t 21 \t 139 \t 46\n",
      "name96 \t 98 \t 20 \t 97 \t 215 \t 71\n",
      "name97 \t 96 \t 88 \t 80 \t 264 \t 88\n",
      "name98 \t 30 \t 60 \t 73 \t 163 \t 54\n",
      "name99 \t 99 \t 90 \t 76 \t 265 \t 88\n",
      "==================================================\n",
      "반총점\t 5578 \t 5523 \t 5293 \t 1821 \t 607.0\n",
      "==================================================\n"
     ]
    }
   ],
   "source": [
    "#심화학습\n",
    "def titleprint(): # titleprint 함수 생성\n",
    "    pass # 내용은 비워둠\n",
    "def itemprint(name, kortotal, engtotal, mathtotal): # itemprint 함수 생성\n",
    "    pass # 내용은 비워둠\n",
    "def tailprint(): # tailprint 함수 생성\n",
    "    pass # 내용은 비워둠\n",
    "\n",
    "#데이터 2차원 리스트\n",
    "one_person = []\n",
    "score = []\n",
    "for i in range(100):\n",
    "    one_person.append(\"name\"+str(i)) # 이름\n",
    "    one_person.append(r.randrange(10,100)) # 국어 10부터 100까지 임의에 값을 추출\n",
    "    one_person.append(r.randrange(10,100)) # 영어 10부터 100까지 임의에 값을 추출\n",
    "    one_person.append(r.randrange(10,100)) # 수학 10부터 100까지 임의에 값을 추출\n",
    "    score.append(one_person[:]) # 값을 복사해서 추가함에 주의할 것\n",
    "    one_person.clear()\n",
    "\n",
    "# 프로그램을 보기 좋게 하려고 상수를 정의\n",
    "name = 0; kor = 1; eng = 2; mat = 3\n",
    "\n",
    "def titleprint(): # 위에서 만든 titleprint함수의 내용을 채움\n",
    "    print(\"=\" * 50)\n",
    "    print(\"이름\\t국어\\t영어\\t수학\\t총점\\t평균\")\n",
    "    print(\"=\" * 50)\n",
    "              \n",
    "def itemprint(name, kor, eng, mat): # 위에서 만든 itemprint함수의 내용을 채움\n",
    "    print(name, \"\\t\", kor, \"\\t\", eng, \"\\t\", mat, \"\\t\", kor + eng + mat, \"\\t\", (kor + eng + mat) // 3)\n",
    "\n",
    "def tailprint(): # 위에서 만든 tailprint함수의 내용을 채움\n",
    "    totkor = 0 # 국어 합계 점수를 0으로 초기화\n",
    "    toteng = 0 # 영어 합계 점수를 0으로 초기화\n",
    "    totmat = 0 # 수학 합계 점수를 0으로 초기화\n",
    "    for one_student in score:\n",
    "        totkor += one_student[kor] # 국어 합계 점수에 국어 점수를 더한다\n",
    "        toteng += one_student[eng] # 영어 합계 점수에 국어 점수를 더한다\n",
    "        totmat += one_student[mat] # 수학 합계 점수에 국어 점수를 더한다\n",
    "    print(\"=\" * 50)\n",
    "    print(\"반총점\\t\", totkor, \"\\t\", toteng, \"\\t\", totmat, \"\\t\", \n",
    "          (totkor + toteng + totmat) // 9, \"\\t\", (totkor + toteng + totmat) / 3 // 9)\n",
    "    print(\"=\" * 50)\n",
    "    \n",
    "#여기부터 프로그램\n",
    "titleprint()\n",
    "for one_student in score:\n",
    "    itemprint(one_student[name], one_student[kor], one_student[eng], one_student[mat])\n",
    "tailprint() "
   ]
  },
  {
   "cell_type": "code",
   "execution_count": 78,
   "id": "6de23cb9",
   "metadata": {},
   "outputs": [
    {
     "data": {
      "text/plain": [
       "(1, 8, 5, 6, 2, 4, 5, 2, 6, 9, 4)"
      ]
     },
     "execution_count": 78,
     "metadata": {},
     "output_type": "execute_result"
    }
   ],
   "source": [
    "# 튜플1\n",
    "# 값 조회는 가능\n",
    "a = (1, 8, 5, 6, 2, 4, 5, 2, 6, 9, 4)\n",
    "a"
   ]
  },
  {
   "cell_type": "code",
   "execution_count": 79,
   "id": "c0e2eff4",
   "metadata": {},
   "outputs": [
    {
     "data": {
      "text/plain": [
       "4"
      ]
     },
     "execution_count": 79,
     "metadata": {},
     "output_type": "execute_result"
    }
   ],
   "source": [
    "a[5]"
   ]
  },
  {
   "cell_type": "code",
   "execution_count": 80,
   "id": "9f061382",
   "metadata": {},
   "outputs": [
    {
     "data": {
      "text/plain": [
       "(6, 2)"
      ]
     },
     "execution_count": 80,
     "metadata": {},
     "output_type": "execute_result"
    }
   ],
   "source": [
    "a[3:5]"
   ]
  },
  {
   "cell_type": "code",
   "execution_count": 81,
   "id": "980d6cf4",
   "metadata": {},
   "outputs": [
    {
     "data": {
      "text/plain": [
       "(6, 2, 4, 5, 2)"
      ]
     },
     "execution_count": 81,
     "metadata": {},
     "output_type": "execute_result"
    }
   ],
   "source": [
    "a[3:8]"
   ]
  },
  {
   "cell_type": "code",
   "execution_count": 82,
   "id": "702da81e",
   "metadata": {},
   "outputs": [
    {
     "data": {
      "text/plain": [
       "(1, 8, 5, 6, 2, 4, 5, 2, 6, 9, 4, 1, 8, 5, 6, 2, 4, 5, 2, 6, 9, 4)"
      ]
     },
     "execution_count": 82,
     "metadata": {},
     "output_type": "execute_result"
    }
   ],
   "source": [
    "a * 2"
   ]
  },
  {
   "cell_type": "code",
   "execution_count": 86,
   "id": "e34970f4",
   "metadata": {},
   "outputs": [
    {
     "data": {
      "text/plain": [
       "(1, 8, 5, 6, 2, 4, 5, 2, 6, 9, 4, 1, 8, 5, 6, 2, 4, 5, 2, 6, 9, 4)"
      ]
     },
     "execution_count": 86,
     "metadata": {},
     "output_type": "execute_result"
    }
   ],
   "source": [
    "# 튜플2\n",
    "# 값을 대입하거나 변경하거나 구조를 지우는 것은 불가능\n",
    "a = (1, 8, 5, 6, 2, 4, 5, 2, 6, 9, 4, 1, 8, 5, 6, 2, 4, 5, 2, 6, 9, 4)\n",
    "a"
   ]
  },
  {
   "cell_type": "code",
   "execution_count": 87,
   "id": "cf3fe177",
   "metadata": {},
   "outputs": [
    {
     "ename": "TypeError",
     "evalue": "'tuple' object does not support item assignment",
     "output_type": "error",
     "traceback": [
      "\u001b[1;31m---------------------------------------------------------------------------\u001b[0m",
      "\u001b[1;31mTypeError\u001b[0m                                 Traceback (most recent call last)",
      "Input \u001b[1;32mIn [87]\u001b[0m, in \u001b[0;36m<cell line: 1>\u001b[1;34m()\u001b[0m\n\u001b[1;32m----> 1\u001b[0m a[\u001b[38;5;241m1\u001b[39m] \u001b[38;5;241m=\u001b[39m \u001b[38;5;241m5\u001b[39m\n",
      "\u001b[1;31mTypeError\u001b[0m: 'tuple' object does not support item assignment"
     ]
    }
   ],
   "source": [
    "a[1] = 5 # 값을 대입하거나 변경하거나 구조를 지우는 것은 불가능"
   ]
  },
  {
   "cell_type": "code",
   "execution_count": 88,
   "id": "ef589054",
   "metadata": {},
   "outputs": [
    {
     "ename": "TypeError",
     "evalue": "'tuple' object doesn't support item deletion",
     "output_type": "error",
     "traceback": [
      "\u001b[1;31m---------------------------------------------------------------------------\u001b[0m",
      "\u001b[1;31mTypeError\u001b[0m                                 Traceback (most recent call last)",
      "Input \u001b[1;32mIn [88]\u001b[0m, in \u001b[0;36m<cell line: 1>\u001b[1;34m()\u001b[0m\n\u001b[1;32m----> 1\u001b[0m \u001b[38;5;28;01mdel\u001b[39;00m a[\u001b[38;5;241m4\u001b[39m]\n",
      "\u001b[1;31mTypeError\u001b[0m: 'tuple' object doesn't support item deletion"
     ]
    }
   ],
   "source": [
    "del a[4] # 값을 대입하거나 변경하거나 구조를 지우는 것은 불가능"
   ]
  },
  {
   "cell_type": "code",
   "execution_count": 89,
   "id": "f8d07fe2",
   "metadata": {},
   "outputs": [
    {
     "ename": "AttributeError",
     "evalue": "'tuple' object has no attribute 'append'",
     "output_type": "error",
     "traceback": [
      "\u001b[1;31m---------------------------------------------------------------------------\u001b[0m",
      "\u001b[1;31mAttributeError\u001b[0m                            Traceback (most recent call last)",
      "Input \u001b[1;32mIn [89]\u001b[0m, in \u001b[0;36m<cell line: 1>\u001b[1;34m()\u001b[0m\n\u001b[1;32m----> 1\u001b[0m \u001b[43ma\u001b[49m\u001b[38;5;241;43m.\u001b[39;49m\u001b[43mappend\u001b[49m(\u001b[38;5;241m10\u001b[39m)\n",
      "\u001b[1;31mAttributeError\u001b[0m: 'tuple' object has no attribute 'append'"
     ]
    }
   ],
   "source": [
    "a.append(10) # 값을 대입하거나 변경하거나 구조를 지우는 것은 불가능"
   ]
  },
  {
   "cell_type": "code",
   "execution_count": 90,
   "id": "1060b715",
   "metadata": {},
   "outputs": [
    {
     "name": "stdout",
     "output_type": "stream",
     "text": [
      "((2, 17403), (41, 40338))\n"
     ]
    }
   ],
   "source": [
    "# 튜플 (예시)\n",
    "def location():\n",
    "    latitude = 2, 17403 # 위도\n",
    "    longitude=41,40338 #경도\n",
    "    return latitude,longitude #이런방식의 리턴은 튜플로 반환\n",
    "a=location()\n",
    "print(a)"
   ]
  },
  {
   "cell_type": "code",
   "execution_count": null,
   "id": "61f36e11",
   "metadata": {},
   "outputs": [],
   "source": []
  }
 ],
 "metadata": {
  "kernelspec": {
   "display_name": "Python 3 (ipykernel)",
   "language": "python",
   "name": "python3"
  },
  "language_info": {
   "codemirror_mode": {
    "name": "ipython",
    "version": 3
   },
   "file_extension": ".py",
   "mimetype": "text/x-python",
   "name": "python",
   "nbconvert_exporter": "python",
   "pygments_lexer": "ipython3",
   "version": "3.8.8"
  }
 },
 "nbformat": 4,
 "nbformat_minor": 5
}
